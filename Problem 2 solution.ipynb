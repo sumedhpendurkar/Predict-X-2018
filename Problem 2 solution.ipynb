{
 "cells": [
  {
   "cell_type": "code",
   "execution_count": 1,
   "metadata": {},
   "outputs": [],
   "source": [
    "from matplotlib import pyplot as plt\n",
    "%matplotlib inline\n",
    "import seaborn as sns\n",
    "import sklearn\n",
    "import numpy as np\n",
    "import pandas as pd\n",
    "from sklearn.model_selection import train_test_split"
   ]
  },
  {
   "cell_type": "code",
   "execution_count": 2,
   "metadata": {},
   "outputs": [],
   "source": [
    "from sklearn.preprocessing import LabelEncoder"
   ]
  },
  {
   "cell_type": "code",
   "execution_count": 3,
   "metadata": {},
   "outputs": [],
   "source": [
    "df = pd.read_csv('dataset_final_bp.csv', names=['i_id', 'i_weight', 'i_fat_content', 'i_visibility', 'i_type','i_mrp', 'o_id', 'o_establishment_year', 'o_size', 'o_loc_type', 'o_type', 'i_o_sales'])\n",
    "test_df = pd.read_csv('test_final_bp.csv', names=['i_id', 'i_weight', 'i_fat_content', 'i_visibility', 'i_type','i_mrp', 'o_id', 'o_establishment_year', 'o_size', 'o_loc_type', 'o_type', 'i_o_sales'])"
   ]
  },
  {
   "cell_type": "code",
   "execution_count": 4,
   "metadata": {},
   "outputs": [
    {
     "data": {
      "text/plain": [
       "OUT027    935\n",
       "OUT013    931\n",
       "OUT045    929\n",
       "OUT017    926\n",
       "OUT049    926\n",
       "OUT018    925\n",
       "OUT046    923\n",
       "OUT035    922\n",
       "OUT010    555\n",
       "OUT019    528\n",
       "Name: o_id, dtype: int64"
      ]
     },
     "execution_count": 4,
     "metadata": {},
     "output_type": "execute_result"
    }
   ],
   "source": [
    "df['o_id'].value_counts()"
   ]
  },
  {
   "cell_type": "code",
   "execution_count": 5,
   "metadata": {},
   "outputs": [
    {
     "data": {
      "text/plain": [
       "FDW13    10\n",
       "FDP25     9\n",
       "FDW49     9\n",
       "FDQ40     9\n",
       "FDU12     9\n",
       "FDX31     9\n",
       "FDW26     9\n",
       "DRN47     9\n",
       "FDX04     9\n",
       "FDV38     9\n",
       "NCB18     9\n",
       "NCQ06     9\n",
       "NCY18     9\n",
       "FDD38     9\n",
       "FDF56     9\n",
       "DRE49     9\n",
       "FDG33     9\n",
       "NCJ30     9\n",
       "FDG09     9\n",
       "FDF52     9\n",
       "FDO19     9\n",
       "FDV60     9\n",
       "NCL31     9\n",
       "NCI54     9\n",
       "FDT07     9\n",
       "NCF42     9\n",
       "FDL34     8\n",
       "FDT21     8\n",
       "NCK53     8\n",
       "DRA59     8\n",
       "         ..\n",
       "FDG28     2\n",
       "FDW58     2\n",
       "FDZ50     2\n",
       "NCW05     2\n",
       "FDO51     2\n",
       "DRI59     2\n",
       "NCS41     2\n",
       "FDW10     2\n",
       "FDT33     2\n",
       "DRE01     2\n",
       "FDF38     2\n",
       "FDA48     2\n",
       "NCG19     2\n",
       "NCV18     2\n",
       "DRC24     2\n",
       "NCC55     2\n",
       "FDU43     2\n",
       "FDB10     2\n",
       "FDB47     2\n",
       "FDU09     2\n",
       "FDD22     2\n",
       "DRF48     1\n",
       "FDQ60     1\n",
       "FDO33     1\n",
       "FDC23     1\n",
       "FDE52     1\n",
       "FDK57     1\n",
       "FDT35     1\n",
       "FDN52     1\n",
       "FDY43     1\n",
       "Name: i_id, Length: 1559, dtype: int64"
      ]
     },
     "execution_count": 5,
     "metadata": {},
     "output_type": "execute_result"
    }
   ],
   "source": [
    "df['i_id'].value_counts()"
   ]
  },
  {
   "cell_type": "code",
   "execution_count": 6,
   "metadata": {},
   "outputs": [
    {
     "data": {
      "text/html": [
       "<div>\n",
       "<style scoped>\n",
       "    .dataframe tbody tr th:only-of-type {\n",
       "        vertical-align: middle;\n",
       "    }\n",
       "\n",
       "    .dataframe tbody tr th {\n",
       "        vertical-align: top;\n",
       "    }\n",
       "\n",
       "    .dataframe thead th {\n",
       "        text-align: right;\n",
       "    }\n",
       "</style>\n",
       "<table border=\"1\" class=\"dataframe\">\n",
       "  <thead>\n",
       "    <tr style=\"text-align: right;\">\n",
       "      <th></th>\n",
       "      <th>i_id</th>\n",
       "      <th>i_weight</th>\n",
       "      <th>i_fat_content</th>\n",
       "      <th>i_visibility</th>\n",
       "      <th>i_type</th>\n",
       "      <th>i_mrp</th>\n",
       "      <th>o_id</th>\n",
       "      <th>o_establishment_year</th>\n",
       "      <th>o_size</th>\n",
       "      <th>o_loc_type</th>\n",
       "      <th>o_type</th>\n",
       "      <th>i_o_sales</th>\n",
       "    </tr>\n",
       "  </thead>\n",
       "  <tbody>\n",
       "    <tr>\n",
       "      <th>3380</th>\n",
       "      <td>FDX04</td>\n",
       "      <td>19.6</td>\n",
       "      <td>Regular</td>\n",
       "      <td>0.041807</td>\n",
       "      <td>Frozen Foods</td>\n",
       "      <td>48.8376</td>\n",
       "      <td>OUT017</td>\n",
       "      <td>2007</td>\n",
       "      <td>NaN</td>\n",
       "      <td>Tier 2</td>\n",
       "      <td>Supermarket Type1</td>\n",
       "      <td>527.3136</td>\n",
       "    </tr>\n",
       "    <tr>\n",
       "      <th>3443</th>\n",
       "      <td>FDX04</td>\n",
       "      <td>19.6</td>\n",
       "      <td>Regular</td>\n",
       "      <td>0.041636</td>\n",
       "      <td>Frozen Foods</td>\n",
       "      <td>47.3376</td>\n",
       "      <td>OUT049</td>\n",
       "      <td>1999</td>\n",
       "      <td>Medium</td>\n",
       "      <td>Tier 1</td>\n",
       "      <td>Supermarket Type1</td>\n",
       "      <td>1150.5024</td>\n",
       "    </tr>\n",
       "    <tr>\n",
       "      <th>3591</th>\n",
       "      <td>FDX04</td>\n",
       "      <td>19.6</td>\n",
       "      <td>Regular</td>\n",
       "      <td>0.041537</td>\n",
       "      <td>Frozen Foods</td>\n",
       "      <td>46.0376</td>\n",
       "      <td>OUT013</td>\n",
       "      <td>1987</td>\n",
       "      <td>High</td>\n",
       "      <td>Tier 3</td>\n",
       "      <td>Supermarket Type1</td>\n",
       "      <td>527.3136</td>\n",
       "    </tr>\n",
       "    <tr>\n",
       "      <th>3899</th>\n",
       "      <td>FDX04</td>\n",
       "      <td>19.6</td>\n",
       "      <td>Regular</td>\n",
       "      <td>0.041741</td>\n",
       "      <td>Frozen Foods</td>\n",
       "      <td>49.2376</td>\n",
       "      <td>OUT018</td>\n",
       "      <td>2009</td>\n",
       "      <td>Medium</td>\n",
       "      <td>Tier 3</td>\n",
       "      <td>Supermarket Type2</td>\n",
       "      <td>958.7520</td>\n",
       "    </tr>\n",
       "    <tr>\n",
       "      <th>4588</th>\n",
       "      <td>FDX04</td>\n",
       "      <td>NaN</td>\n",
       "      <td>Regular</td>\n",
       "      <td>0.072786</td>\n",
       "      <td>Frozen Foods</td>\n",
       "      <td>49.4376</td>\n",
       "      <td>OUT019</td>\n",
       "      <td>1985</td>\n",
       "      <td>Small</td>\n",
       "      <td>Tier 1</td>\n",
       "      <td>Grocery Store</td>\n",
       "      <td>191.7504</td>\n",
       "    </tr>\n",
       "    <tr>\n",
       "      <th>5777</th>\n",
       "      <td>FDX04</td>\n",
       "      <td>19.6</td>\n",
       "      <td>Regular</td>\n",
       "      <td>0.041656</td>\n",
       "      <td>Frozen Foods</td>\n",
       "      <td>48.5376</td>\n",
       "      <td>OUT045</td>\n",
       "      <td>2002</td>\n",
       "      <td>NaN</td>\n",
       "      <td>Tier 2</td>\n",
       "      <td>Supermarket Type1</td>\n",
       "      <td>335.5632</td>\n",
       "    </tr>\n",
       "    <tr>\n",
       "      <th>6324</th>\n",
       "      <td>FDX04</td>\n",
       "      <td>19.6</td>\n",
       "      <td>Regular</td>\n",
       "      <td>0.041572</td>\n",
       "      <td>Frozen Foods</td>\n",
       "      <td>49.9376</td>\n",
       "      <td>OUT046</td>\n",
       "      <td>1997</td>\n",
       "      <td>Small</td>\n",
       "      <td>Tier 1</td>\n",
       "      <td>Supermarket Type1</td>\n",
       "      <td>623.1888</td>\n",
       "    </tr>\n",
       "    <tr>\n",
       "      <th>6984</th>\n",
       "      <td>FDX04</td>\n",
       "      <td>NaN</td>\n",
       "      <td>Regular</td>\n",
       "      <td>0.041370</td>\n",
       "      <td>Frozen Foods</td>\n",
       "      <td>46.2376</td>\n",
       "      <td>OUT027</td>\n",
       "      <td>1985</td>\n",
       "      <td>Medium</td>\n",
       "      <td>Tier 3</td>\n",
       "      <td>Supermarket Type3</td>\n",
       "      <td>814.9392</td>\n",
       "    </tr>\n",
       "    <tr>\n",
       "      <th>7798</th>\n",
       "      <td>FDX04</td>\n",
       "      <td>19.6</td>\n",
       "      <td>Regular</td>\n",
       "      <td>0.041564</td>\n",
       "      <td>Frozen Foods</td>\n",
       "      <td>47.6376</td>\n",
       "      <td>OUT035</td>\n",
       "      <td>2004</td>\n",
       "      <td>Small</td>\n",
       "      <td>Tier 2</td>\n",
       "      <td>Supermarket Type1</td>\n",
       "      <td>335.5632</td>\n",
       "    </tr>\n",
       "  </tbody>\n",
       "</table>\n",
       "</div>"
      ],
      "text/plain": [
       "       i_id  i_weight i_fat_content  i_visibility        i_type    i_mrp  \\\n",
       "3380  FDX04      19.6       Regular      0.041807  Frozen Foods  48.8376   \n",
       "3443  FDX04      19.6       Regular      0.041636  Frozen Foods  47.3376   \n",
       "3591  FDX04      19.6       Regular      0.041537  Frozen Foods  46.0376   \n",
       "3899  FDX04      19.6       Regular      0.041741  Frozen Foods  49.2376   \n",
       "4588  FDX04       NaN       Regular      0.072786  Frozen Foods  49.4376   \n",
       "5777  FDX04      19.6       Regular      0.041656  Frozen Foods  48.5376   \n",
       "6324  FDX04      19.6       Regular      0.041572  Frozen Foods  49.9376   \n",
       "6984  FDX04       NaN       Regular      0.041370  Frozen Foods  46.2376   \n",
       "7798  FDX04      19.6       Regular      0.041564  Frozen Foods  47.6376   \n",
       "\n",
       "        o_id  o_establishment_year  o_size o_loc_type             o_type  \\\n",
       "3380  OUT017                  2007     NaN     Tier 2  Supermarket Type1   \n",
       "3443  OUT049                  1999  Medium     Tier 1  Supermarket Type1   \n",
       "3591  OUT013                  1987    High     Tier 3  Supermarket Type1   \n",
       "3899  OUT018                  2009  Medium     Tier 3  Supermarket Type2   \n",
       "4588  OUT019                  1985   Small     Tier 1      Grocery Store   \n",
       "5777  OUT045                  2002     NaN     Tier 2  Supermarket Type1   \n",
       "6324  OUT046                  1997   Small     Tier 1  Supermarket Type1   \n",
       "6984  OUT027                  1985  Medium     Tier 3  Supermarket Type3   \n",
       "7798  OUT035                  2004   Small     Tier 2  Supermarket Type1   \n",
       "\n",
       "      i_o_sales  \n",
       "3380   527.3136  \n",
       "3443  1150.5024  \n",
       "3591   527.3136  \n",
       "3899   958.7520  \n",
       "4588   191.7504  \n",
       "5777   335.5632  \n",
       "6324   623.1888  \n",
       "6984   814.9392  \n",
       "7798   335.5632  "
      ]
     },
     "execution_count": 6,
     "metadata": {},
     "output_type": "execute_result"
    }
   ],
   "source": [
    "df[df['i_id'] == 'FDX04']"
   ]
  },
  {
   "cell_type": "code",
   "execution_count": 7,
   "metadata": {},
   "outputs": [
    {
     "name": "stdout",
     "output_type": "stream",
     "text": [
      "<class 'pandas.core.frame.DataFrame'>\n",
      "Int64Index: 925 entries, 1 to 8498\n",
      "Data columns (total 12 columns):\n",
      "i_id                    925 non-null object\n",
      "i_weight                925 non-null float64\n",
      "i_fat_content           925 non-null object\n",
      "i_visibility            925 non-null float64\n",
      "i_type                  925 non-null object\n",
      "i_mrp                   925 non-null float64\n",
      "o_id                    925 non-null object\n",
      "o_establishment_year    925 non-null int64\n",
      "o_size                  925 non-null object\n",
      "o_loc_type              925 non-null object\n",
      "o_type                  925 non-null object\n",
      "i_o_sales               925 non-null float64\n",
      "dtypes: float64(4), int64(1), object(7)\n",
      "memory usage: 93.9+ KB\n"
     ]
    }
   ],
   "source": [
    "df[df['o_id'] == 'OUT018'].info()"
   ]
  },
  {
   "cell_type": "code",
   "execution_count": 8,
   "metadata": {},
   "outputs": [
    {
     "name": "stdout",
     "output_type": "stream",
     "text": [
      "OUT027    935\n",
      "OUT013    931\n",
      "OUT045    929\n",
      "OUT017    926\n",
      "OUT049    926\n",
      "OUT018    925\n",
      "OUT046    923\n",
      "OUT035    922\n",
      "OUT010    555\n",
      "OUT019    528\n",
      "Name: o_id, dtype: int64\n",
      "1985    1463\n",
      "1987     931\n",
      "2002     929\n",
      "2007     926\n",
      "1999     926\n",
      "2009     925\n",
      "1997     923\n",
      "2004     922\n",
      "1998     555\n",
      "Name: o_establishment_year, dtype: int64\n",
      "Medium    2786\n",
      "Small     2373\n",
      "High       931\n",
      "Name: o_size, dtype: int64\n",
      "Tier 3    3346\n",
      "Tier 2    2777\n",
      "Tier 1    2377\n",
      "Name: o_loc_type, dtype: int64\n",
      "Supermarket Type1    5557\n",
      "Grocery Store        1083\n",
      "Supermarket Type3     935\n",
      "Supermarket Type2     925\n",
      "Name: o_type, dtype: int64\n"
     ]
    }
   ],
   "source": [
    "for x in df.columns.tolist():\n",
    "    if x[0] == 'o':\n",
    "        print(df[x].value_counts())"
   ]
  },
  {
   "cell_type": "code",
   "execution_count": 9,
   "metadata": {},
   "outputs": [
    {
     "name": "stdout",
     "output_type": "stream",
     "text": [
      "12.150    86\n",
      "17.600    82\n",
      "13.650    77\n",
      "11.800    75\n",
      "15.100    68\n",
      "9.300     68\n",
      "16.700    66\n",
      "10.500    66\n",
      "19.350    62\n",
      "16.000    62\n",
      "20.700    61\n",
      "9.800     61\n",
      "17.700    60\n",
      "17.750    60\n",
      "18.850    59\n",
      "15.850    59\n",
      "15.000    59\n",
      "16.750    58\n",
      "19.600    58\n",
      "18.250    58\n",
      "15.700    57\n",
      "12.500    56\n",
      "9.195     56\n",
      "20.200    53\n",
      "10.195    53\n",
      "12.100    53\n",
      "12.600    53\n",
      "15.600    52\n",
      "11.500    51\n",
      "13.500    51\n",
      "          ..\n",
      "7.105      3\n",
      "5.845      3\n",
      "7.260      3\n",
      "5.305      3\n",
      "8.000      3\n",
      "5.825      3\n",
      "6.905      3\n",
      "6.895      2\n",
      "6.325      2\n",
      "8.920      2\n",
      "4.905      2\n",
      "8.800      2\n",
      "5.735      2\n",
      "5.210      2\n",
      "7.560      2\n",
      "5.885      2\n",
      "6.775      2\n",
      "6.405      2\n",
      "7.275      2\n",
      "7.605      2\n",
      "6.400      2\n",
      "8.670      2\n",
      "8.485      2\n",
      "7.890      2\n",
      "5.155      2\n",
      "5.675      2\n",
      "6.520      1\n",
      "5.400      1\n",
      "9.420      1\n",
      "7.685      1\n",
      "Name: i_weight, Length: 415, dtype: int64\n",
      "Low Fat    5083\n",
      "Regular    2881\n",
      "LF          312\n",
      "reg         113\n",
      "low fat     111\n",
      "Name: i_fat_content, dtype: int64\n",
      "0.000000    526\n",
      "0.076975      3\n",
      "0.072253      2\n",
      "0.085622      2\n",
      "0.187841      2\n",
      "0.134976      2\n",
      "0.107224      2\n",
      "0.085275      2\n",
      "0.076856      2\n",
      "0.041283      2\n",
      "0.059836      2\n",
      "0.061271      2\n",
      "0.044024      2\n",
      "0.061164      2\n",
      "0.112203      2\n",
      "0.145266      2\n",
      "0.081097      2\n",
      "0.074613      2\n",
      "0.103442      2\n",
      "0.071958      2\n",
      "0.136286      2\n",
      "0.072655      2\n",
      "0.071833      2\n",
      "0.074931      2\n",
      "0.160624      2\n",
      "0.122016      2\n",
      "0.026950      2\n",
      "0.080640      2\n",
      "0.096592      2\n",
      "0.097611      2\n",
      "           ... \n",
      "0.021240      1\n",
      "0.118859      1\n",
      "0.052811      1\n",
      "0.162572      1\n",
      "0.027580      1\n",
      "0.015461      1\n",
      "0.057655      1\n",
      "0.042113      1\n",
      "0.029565      1\n",
      "0.066447      1\n",
      "0.035954      1\n",
      "0.083222      1\n",
      "0.021413      1\n",
      "0.099024      1\n",
      "0.030921      1\n",
      "0.118080      1\n",
      "0.100641      1\n",
      "0.046654      1\n",
      "0.021469      1\n",
      "0.060134      1\n",
      "0.096658      1\n",
      "0.019064      1\n",
      "0.164197      1\n",
      "0.092576      1\n",
      "0.067544      1\n",
      "0.115168      1\n",
      "0.146896      1\n",
      "0.081119      1\n",
      "0.122735      1\n",
      "0.038700      1\n",
      "Name: i_visibility, Length: 7857, dtype: int64\n",
      "Fruits and Vegetables    1229\n",
      "Snack Foods              1192\n",
      "Household                 910\n",
      "Frozen Foods              854\n",
      "Dairy                     682\n",
      "Canned                    648\n",
      "Baking Goods              647\n",
      "Health and Hygiene        517\n",
      "Soft Drinks               444\n",
      "Meat                      422\n",
      "Breads                    251\n",
      "Hard Drinks               214\n",
      "Others                    169\n",
      "Starchy Foods             148\n",
      "Breakfast                 110\n",
      "Seafood                    63\n",
      "Name: i_type, dtype: int64\n",
      "172.0422    7\n",
      "196.5084    6\n",
      "188.1872    6\n",
      "196.5768    6\n",
      "170.5422    6\n",
      "142.0154    6\n",
      "109.5228    6\n",
      "37.4506     5\n",
      "179.7660    5\n",
      "49.8008     5\n",
      "121.3098    5\n",
      "48.8376     5\n",
      "154.4630    5\n",
      "37.9532     5\n",
      "177.9370    5\n",
      "113.2834    5\n",
      "261.2910    5\n",
      "108.6912    5\n",
      "143.2154    5\n",
      "107.4622    5\n",
      "127.1020    5\n",
      "152.8366    5\n",
      "192.2478    5\n",
      "110.1544    5\n",
      "120.8756    5\n",
      "177.6370    4\n",
      "49.5376     4\n",
      "126.2704    4\n",
      "111.6860    4\n",
      "194.7110    4\n",
      "           ..\n",
      "160.4604    1\n",
      "244.4170    1\n",
      "231.8300    1\n",
      "177.6344    1\n",
      "185.9924    1\n",
      "241.8512    1\n",
      "260.0936    1\n",
      "109.1254    1\n",
      "241.4196    1\n",
      "253.7382    1\n",
      "97.4042     1\n",
      "60.5904     1\n",
      "74.5038     1\n",
      "227.6352    1\n",
      "185.7582    1\n",
      "41.2480     1\n",
      "171.9422    1\n",
      "162.0578    1\n",
      "46.1718     1\n",
      "114.1518    1\n",
      "218.5798    1\n",
      "174.1054    1\n",
      "253.5724    1\n",
      "225.3720    1\n",
      "152.1366    1\n",
      "212.8218    1\n",
      "190.3872    1\n",
      "162.6868    1\n",
      "189.1214    1\n",
      "51.3008     1\n",
      "Name: i_mrp, Length: 5926, dtype: int64\n",
      "958.7520     17\n",
      "1342.2528    16\n",
      "1230.3984    14\n",
      "703.0848     14\n",
      "1845.5976    14\n",
      "1278.3360    14\n",
      "1416.8224    13\n",
      "539.2980     12\n",
      "1211.7560    12\n",
      "1438.1280    12\n",
      "575.2512     12\n",
      "759.0120     12\n",
      "1304.9680    11\n",
      "2277.0360    11\n",
      "1537.9980    11\n",
      "852.2240     11\n",
      "1406.1696    11\n",
      "679.1160     11\n",
      "2109.2544    11\n",
      "1701.7848    11\n",
      "639.1680     11\n",
      "1470.0864    10\n",
      "3020.0688    10\n",
      "2696.4900    10\n",
      "1518.0240    10\n",
      "2956.1520    10\n",
      "1006.6896    10\n",
      "1571.2880    10\n",
      "527.3136     10\n",
      "2759.0752    10\n",
      "             ..\n",
      "75.2354       1\n",
      "1574.6170     1\n",
      "1953.4572     1\n",
      "1684.4740     1\n",
      "4821.7236     1\n",
      "3211.8192     1\n",
      "1407.5012     1\n",
      "2706.4770     1\n",
      "670.4606      1\n",
      "4483.4972     1\n",
      "2119.9072     1\n",
      "316.2550      1\n",
      "3542.7218     1\n",
      "6275.1650     1\n",
      "2925.5252     1\n",
      "1803.6522     1\n",
      "2764.4016     1\n",
      "3073.9986     1\n",
      "1311.6260     1\n",
      "6524.8400     1\n",
      "1998.7316     1\n",
      "1599.9174     1\n",
      "4610.6650     1\n",
      "3938.8728     1\n",
      "233.0300      1\n",
      "7478.2656     1\n",
      "3167.8764     1\n",
      "2226.4352     1\n",
      "5329.0632     1\n",
      "6692.6216     1\n",
      "Name: i_o_sales, Length: 3488, dtype: int64\n"
     ]
    }
   ],
   "source": [
    "for x in df.columns.tolist():\n",
    "    if x[0] == 'i' and x != \"i_id\":\n",
    "        print(df[x].value_counts())"
   ]
  },
  {
   "cell_type": "code",
   "execution_count": 10,
   "metadata": {},
   "outputs": [
    {
     "data": {
      "text/plain": [
       "Low Fat    5083\n",
       "Regular    2881\n",
       "LF          312\n",
       "reg         113\n",
       "low fat     111\n",
       "Name: i_fat_content, dtype: int64"
      ]
     },
     "execution_count": 10,
     "metadata": {},
     "output_type": "execute_result"
    }
   ],
   "source": [
    "df['i_fat_content'].value_counts()"
   ]
  },
  {
   "cell_type": "code",
   "execution_count": 11,
   "metadata": {},
   "outputs": [
    {
     "name": "stdout",
     "output_type": "stream",
     "text": [
      "<class 'pandas.core.frame.DataFrame'>\n",
      "RangeIndex: 8500 entries, 0 to 8499\n",
      "Data columns (total 12 columns):\n",
      "i_id                    8500 non-null object\n",
      "i_weight                7037 non-null float64\n",
      "i_fat_content           8500 non-null object\n",
      "i_visibility            8500 non-null float64\n",
      "i_type                  8500 non-null object\n",
      "i_mrp                   8500 non-null float64\n",
      "o_id                    8500 non-null object\n",
      "o_establishment_year    8500 non-null int64\n",
      "o_size                  6090 non-null object\n",
      "o_loc_type              8500 non-null object\n",
      "o_type                  8500 non-null object\n",
      "i_o_sales               8500 non-null float64\n",
      "dtypes: float64(4), int64(1), object(7)\n",
      "memory usage: 797.0+ KB\n"
     ]
    }
   ],
   "source": [
    "df.info()"
   ]
  },
  {
   "cell_type": "code",
   "execution_count": 12,
   "metadata": {},
   "outputs": [
    {
     "data": {
      "text/plain": [
       "i_id                       0\n",
       "i_weight                1463\n",
       "i_fat_content              0\n",
       "i_visibility               0\n",
       "i_type                     0\n",
       "i_mrp                      0\n",
       "o_id                       0\n",
       "o_establishment_year       0\n",
       "o_size                  2410\n",
       "o_loc_type                 0\n",
       "o_type                     0\n",
       "i_o_sales                  0\n",
       "dtype: int64"
      ]
     },
     "execution_count": 12,
     "metadata": {},
     "output_type": "execute_result"
    }
   ],
   "source": [
    "df.isnull().sum()"
   ]
  },
  {
   "cell_type": "code",
   "execution_count": null,
   "metadata": {},
   "outputs": [],
   "source": []
  },
  {
   "cell_type": "code",
   "execution_count": 13,
   "metadata": {},
   "outputs": [],
   "source": [
    "df['i_weight'] = df.groupby('i_id').transform(lambda x: x.fillna(x.mean()))"
   ]
  },
  {
   "cell_type": "code",
   "execution_count": 14,
   "metadata": {},
   "outputs": [],
   "source": [
    "df['o_size'] = df['o_size'].fillna(-1)"
   ]
  },
  {
   "cell_type": "code",
   "execution_count": 15,
   "metadata": {},
   "outputs": [],
   "source": [
    "df['o_size'].replace('Small', 0, inplace=True)\n",
    "df['o_size'].replace('Medium', 1, inplace=True)\n",
    "df['o_size'].replace('High', 2, inplace=True)"
   ]
  },
  {
   "cell_type": "code",
   "execution_count": 16,
   "metadata": {},
   "outputs": [],
   "source": [
    "df['o_size'] += 1"
   ]
  },
  {
   "cell_type": "code",
   "execution_count": 17,
   "metadata": {},
   "outputs": [
    {
     "data": {
      "text/plain": [
       "2    2786\n",
       "0    2410\n",
       "1    2373\n",
       "3     931\n",
       "Name: o_size, dtype: int64"
      ]
     },
     "execution_count": 17,
     "metadata": {},
     "output_type": "execute_result"
    }
   ],
   "source": [
    "df['o_size'].value_counts()"
   ]
  },
  {
   "cell_type": "code",
   "execution_count": null,
   "metadata": {},
   "outputs": [],
   "source": []
  },
  {
   "cell_type": "code",
   "execution_count": 18,
   "metadata": {},
   "outputs": [],
   "source": [
    "df['o_size'].replace('Small', 0, inplace=True)\n",
    "df['o_size'].replace('Medium', 1, inplace=True)\n",
    "df['o_size'].replace('High', 2, inplace=True)"
   ]
  },
  {
   "cell_type": "code",
   "execution_count": 19,
   "metadata": {},
   "outputs": [
    {
     "data": {
      "text/plain": [
       "0"
      ]
     },
     "execution_count": 19,
     "metadata": {},
     "output_type": "execute_result"
    }
   ],
   "source": [
    "df['o_size'].isnull().sum()"
   ]
  },
  {
   "cell_type": "code",
   "execution_count": 20,
   "metadata": {},
   "outputs": [
    {
     "data": {
      "text/plain": [
       "0"
      ]
     },
     "execution_count": 20,
     "metadata": {},
     "output_type": "execute_result"
    }
   ],
   "source": [
    "df['o_size'].isnull().sum()"
   ]
  },
  {
   "cell_type": "code",
   "execution_count": 21,
   "metadata": {},
   "outputs": [
    {
     "name": "stdout",
     "output_type": "stream",
     "text": [
      "Problem 2 solution.ipynb  dataset_final_bp.csv  final.csv  submission.csv.ods\r\n",
      "a.csv                     dk.csv                p2.h5      test_final_bp.csv\r\n"
     ]
    }
   ],
   "source": [
    "ls"
   ]
  },
  {
   "cell_type": "code",
   "execution_count": 22,
   "metadata": {},
   "outputs": [
    {
     "data": {
      "text/plain": [
       "FDW13    10\n",
       "FDP25     9\n",
       "FDW49     9\n",
       "FDQ40     9\n",
       "FDU12     9\n",
       "FDX31     9\n",
       "FDW26     9\n",
       "DRN47     9\n",
       "FDX04     9\n",
       "FDV38     9\n",
       "NCB18     9\n",
       "NCQ06     9\n",
       "NCY18     9\n",
       "FDD38     9\n",
       "FDF56     9\n",
       "DRE49     9\n",
       "FDG33     9\n",
       "NCJ30     9\n",
       "FDG09     9\n",
       "FDF52     9\n",
       "FDO19     9\n",
       "FDV60     9\n",
       "NCL31     9\n",
       "NCI54     9\n",
       "FDT07     9\n",
       "NCF42     9\n",
       "FDL34     8\n",
       "FDT21     8\n",
       "NCK53     8\n",
       "DRA59     8\n",
       "         ..\n",
       "FDG28     2\n",
       "FDW58     2\n",
       "FDZ50     2\n",
       "NCW05     2\n",
       "FDO51     2\n",
       "DRI59     2\n",
       "NCS41     2\n",
       "FDW10     2\n",
       "FDT33     2\n",
       "DRE01     2\n",
       "FDF38     2\n",
       "FDA48     2\n",
       "NCG19     2\n",
       "NCV18     2\n",
       "DRC24     2\n",
       "NCC55     2\n",
       "FDU43     2\n",
       "FDB10     2\n",
       "FDB47     2\n",
       "FDU09     2\n",
       "FDD22     2\n",
       "DRF48     1\n",
       "FDQ60     1\n",
       "FDO33     1\n",
       "FDC23     1\n",
       "FDE52     1\n",
       "FDK57     1\n",
       "FDT35     1\n",
       "FDN52     1\n",
       "FDY43     1\n",
       "Name: i_id, Length: 1559, dtype: int64"
      ]
     },
     "execution_count": 22,
     "metadata": {},
     "output_type": "execute_result"
    }
   ],
   "source": [
    "\n",
    "df['i_id'].value_counts()"
   ]
  },
  {
   "cell_type": "code",
   "execution_count": 23,
   "metadata": {},
   "outputs": [],
   "source": [
    "df = df.append(test_df)"
   ]
  },
  {
   "cell_type": "code",
   "execution_count": 24,
   "metadata": {},
   "outputs": [],
   "source": [
    "\n",
    "df['i_weight'] = df.groupby('i_id').transform(lambda x: x.fillna(x.mean()))"
   ]
  },
  {
   "cell_type": "code",
   "execution_count": 25,
   "metadata": {},
   "outputs": [
    {
     "data": {
      "text/plain": [
       "i_id                     0\n",
       "i_weight                 4\n",
       "i_fat_content            0\n",
       "i_visibility             0\n",
       "i_type                   0\n",
       "i_mrp                    0\n",
       "o_id                     0\n",
       "o_establishment_year     0\n",
       "o_size                   0\n",
       "o_loc_type               0\n",
       "o_type                   0\n",
       "i_o_sales               23\n",
       "dtype: int64"
      ]
     },
     "execution_count": 25,
     "metadata": {},
     "output_type": "execute_result"
    }
   ],
   "source": [
    "df.isnull().sum()"
   ]
  },
  {
   "cell_type": "code",
   "execution_count": 26,
   "metadata": {},
   "outputs": [],
   "source": [
    "married_lb = LabelEncoder()\n",
    "df['e_o_type'] = married_lb.fit_transform(df['o_type'])"
   ]
  },
  {
   "cell_type": "code",
   "execution_count": 27,
   "metadata": {},
   "outputs": [
    {
     "name": "stdout",
     "output_type": "stream",
     "text": [
      "Problem 2 solution.ipynb  dataset_final_bp.csv  final.csv  submission.csv.ods\r\n",
      "a.csv                     dk.csv                p2.h5      test_final_bp.csv\r\n"
     ]
    }
   ],
   "source": [
    "ls"
   ]
  },
  {
   "cell_type": "code",
   "execution_count": null,
   "metadata": {},
   "outputs": [],
   "source": []
  },
  {
   "cell_type": "code",
   "execution_count": 28,
   "metadata": {},
   "outputs": [
    {
     "data": {
      "text/plain": [
       "2         2786\n",
       "0         2410\n",
       "1         2373\n",
       "3          931\n",
       "Small       15\n",
       "Medium       7\n",
       "High         1\n",
       "Name: o_size, dtype: int64"
      ]
     },
     "execution_count": 28,
     "metadata": {},
     "output_type": "execute_result"
    }
   ],
   "source": [
    "df.o_size.value_counts()"
   ]
  },
  {
   "cell_type": "code",
   "execution_count": 29,
   "metadata": {},
   "outputs": [],
   "source": [
    "df['o_size'].replace('Small', 1, inplace=True)\n",
    "df['o_size'].replace('Medium', 2, inplace=True)\n",
    "df['o_size'].replace('High', 3, inplace=True)"
   ]
  },
  {
   "cell_type": "code",
   "execution_count": 30,
   "metadata": {},
   "outputs": [],
   "source": [
    "married_lb = LabelEncoder()\n",
    "df['e_o_loc_type'] = married_lb.fit_transform(df['o_loc_type'])"
   ]
  },
  {
   "cell_type": "code",
   "execution_count": 31,
   "metadata": {},
   "outputs": [],
   "source": [
    "df['i_fat_content'] = df['i_fat_content'].replace('LF', \"Low Fat\")"
   ]
  },
  {
   "cell_type": "code",
   "execution_count": 32,
   "metadata": {},
   "outputs": [],
   "source": [
    "df['i_fat_content'] = df['i_fat_content'].replace('low fat', \"Low Fat\")\n",
    "df['i_fat_content'] = df['i_fat_content'].replace('reg', \"Regular\")"
   ]
  },
  {
   "cell_type": "code",
   "execution_count": 33,
   "metadata": {},
   "outputs": [
    {
     "data": {
      "text/plain": [
       "Low Fat    5517\n",
       "Regular    3006\n",
       "Name: i_fat_content, dtype: int64"
      ]
     },
     "execution_count": 33,
     "metadata": {},
     "output_type": "execute_result"
    }
   ],
   "source": [
    "df['i_fat_content'].value_counts()"
   ]
  },
  {
   "cell_type": "code",
   "execution_count": 34,
   "metadata": {},
   "outputs": [],
   "source": [
    "married_lb = LabelEncoder()\n",
    "df['e_i_fat_content'] = married_lb.fit_transform(df['i_fat_content'])"
   ]
  },
  {
   "cell_type": "code",
   "execution_count": 35,
   "metadata": {},
   "outputs": [],
   "source": [
    "married_lb = LabelEncoder()\n",
    "df['e_i_type'] = married_lb.fit_transform(df['i_type'])"
   ]
  },
  {
   "cell_type": "code",
   "execution_count": 36,
   "metadata": {},
   "outputs": [
    {
     "data": {
      "text/plain": [
       "Index(['i_id', 'i_weight', 'i_fat_content', 'i_visibility', 'i_type', 'i_mrp',\n",
       "       'o_id', 'o_establishment_year', 'o_size', 'o_loc_type', 'o_type',\n",
       "       'i_o_sales', 'e_o_type', 'e_o_loc_type', 'e_i_fat_content', 'e_i_type'],\n",
       "      dtype='object')"
      ]
     },
     "execution_count": 36,
     "metadata": {},
     "output_type": "execute_result"
    }
   ],
   "source": [
    "df.columns"
   ]
  },
  {
   "cell_type": "code",
   "execution_count": 37,
   "metadata": {},
   "outputs": [
    {
     "data": {
      "text/html": [
       "<div>\n",
       "<style scoped>\n",
       "    .dataframe tbody tr th:only-of-type {\n",
       "        vertical-align: middle;\n",
       "    }\n",
       "\n",
       "    .dataframe tbody tr th {\n",
       "        vertical-align: top;\n",
       "    }\n",
       "\n",
       "    .dataframe thead th {\n",
       "        text-align: right;\n",
       "    }\n",
       "</style>\n",
       "<table border=\"1\" class=\"dataframe\">\n",
       "  <thead>\n",
       "    <tr style=\"text-align: right;\">\n",
       "      <th></th>\n",
       "      <th>i_id</th>\n",
       "      <th>i_weight</th>\n",
       "      <th>i_fat_content</th>\n",
       "      <th>i_visibility</th>\n",
       "      <th>i_type</th>\n",
       "      <th>i_mrp</th>\n",
       "      <th>o_id</th>\n",
       "      <th>o_establishment_year</th>\n",
       "      <th>o_size</th>\n",
       "      <th>o_loc_type</th>\n",
       "      <th>o_type</th>\n",
       "      <th>i_o_sales</th>\n",
       "      <th>e_o_type</th>\n",
       "      <th>e_o_loc_type</th>\n",
       "      <th>e_i_fat_content</th>\n",
       "      <th>e_i_type</th>\n",
       "    </tr>\n",
       "  </thead>\n",
       "  <tbody>\n",
       "    <tr>\n",
       "      <th>0</th>\n",
       "      <td>FDA15</td>\n",
       "      <td>9.30</td>\n",
       "      <td>Low Fat</td>\n",
       "      <td>0.016047</td>\n",
       "      <td>Dairy</td>\n",
       "      <td>249.8092</td>\n",
       "      <td>OUT049</td>\n",
       "      <td>1999</td>\n",
       "      <td>2</td>\n",
       "      <td>Tier 1</td>\n",
       "      <td>Supermarket Type1</td>\n",
       "      <td>3735.1380</td>\n",
       "      <td>1</td>\n",
       "      <td>0</td>\n",
       "      <td>0</td>\n",
       "      <td>4</td>\n",
       "    </tr>\n",
       "    <tr>\n",
       "      <th>1</th>\n",
       "      <td>DRC01</td>\n",
       "      <td>5.92</td>\n",
       "      <td>Regular</td>\n",
       "      <td>0.019278</td>\n",
       "      <td>Soft Drinks</td>\n",
       "      <td>48.2692</td>\n",
       "      <td>OUT018</td>\n",
       "      <td>2009</td>\n",
       "      <td>2</td>\n",
       "      <td>Tier 3</td>\n",
       "      <td>Supermarket Type2</td>\n",
       "      <td>443.4228</td>\n",
       "      <td>2</td>\n",
       "      <td>2</td>\n",
       "      <td>1</td>\n",
       "      <td>14</td>\n",
       "    </tr>\n",
       "    <tr>\n",
       "      <th>2</th>\n",
       "      <td>FDN15</td>\n",
       "      <td>17.50</td>\n",
       "      <td>Low Fat</td>\n",
       "      <td>0.016760</td>\n",
       "      <td>Meat</td>\n",
       "      <td>141.6180</td>\n",
       "      <td>OUT049</td>\n",
       "      <td>1999</td>\n",
       "      <td>2</td>\n",
       "      <td>Tier 1</td>\n",
       "      <td>Supermarket Type1</td>\n",
       "      <td>2097.2700</td>\n",
       "      <td>1</td>\n",
       "      <td>0</td>\n",
       "      <td>0</td>\n",
       "      <td>10</td>\n",
       "    </tr>\n",
       "    <tr>\n",
       "      <th>3</th>\n",
       "      <td>FDX07</td>\n",
       "      <td>19.20</td>\n",
       "      <td>Regular</td>\n",
       "      <td>0.000000</td>\n",
       "      <td>Fruits and Vegetables</td>\n",
       "      <td>182.0950</td>\n",
       "      <td>OUT010</td>\n",
       "      <td>1998</td>\n",
       "      <td>0</td>\n",
       "      <td>Tier 3</td>\n",
       "      <td>Grocery Store</td>\n",
       "      <td>732.3800</td>\n",
       "      <td>0</td>\n",
       "      <td>2</td>\n",
       "      <td>1</td>\n",
       "      <td>6</td>\n",
       "    </tr>\n",
       "    <tr>\n",
       "      <th>4</th>\n",
       "      <td>NCD19</td>\n",
       "      <td>8.93</td>\n",
       "      <td>Low Fat</td>\n",
       "      <td>0.000000</td>\n",
       "      <td>Household</td>\n",
       "      <td>53.8614</td>\n",
       "      <td>OUT013</td>\n",
       "      <td>1987</td>\n",
       "      <td>3</td>\n",
       "      <td>Tier 3</td>\n",
       "      <td>Supermarket Type1</td>\n",
       "      <td>994.7052</td>\n",
       "      <td>1</td>\n",
       "      <td>2</td>\n",
       "      <td>0</td>\n",
       "      <td>9</td>\n",
       "    </tr>\n",
       "  </tbody>\n",
       "</table>\n",
       "</div>"
      ],
      "text/plain": [
       "    i_id  i_weight i_fat_content  i_visibility                 i_type  \\\n",
       "0  FDA15      9.30       Low Fat      0.016047                  Dairy   \n",
       "1  DRC01      5.92       Regular      0.019278            Soft Drinks   \n",
       "2  FDN15     17.50       Low Fat      0.016760                   Meat   \n",
       "3  FDX07     19.20       Regular      0.000000  Fruits and Vegetables   \n",
       "4  NCD19      8.93       Low Fat      0.000000              Household   \n",
       "\n",
       "      i_mrp    o_id  o_establishment_year  o_size o_loc_type  \\\n",
       "0  249.8092  OUT049                  1999       2     Tier 1   \n",
       "1   48.2692  OUT018                  2009       2     Tier 3   \n",
       "2  141.6180  OUT049                  1999       2     Tier 1   \n",
       "3  182.0950  OUT010                  1998       0     Tier 3   \n",
       "4   53.8614  OUT013                  1987       3     Tier 3   \n",
       "\n",
       "              o_type  i_o_sales  e_o_type  e_o_loc_type  e_i_fat_content  \\\n",
       "0  Supermarket Type1  3735.1380         1             0                0   \n",
       "1  Supermarket Type2   443.4228         2             2                1   \n",
       "2  Supermarket Type1  2097.2700         1             0                0   \n",
       "3      Grocery Store   732.3800         0             2                1   \n",
       "4  Supermarket Type1   994.7052         1             2                0   \n",
       "\n",
       "   e_i_type  \n",
       "0         4  \n",
       "1        14  \n",
       "2        10  \n",
       "3         6  \n",
       "4         9  "
      ]
     },
     "execution_count": 37,
     "metadata": {},
     "output_type": "execute_result"
    }
   ],
   "source": [
    "#test_df = pd.read_csv('test_final_lp.csv', names=['loan_id', 'gender', 'married', 'dependents', 'education', 'self_employed', 'applicant_income', 'coapplicant_income', 'loan_amount', 'loan_amount_term', 'credit_history', 'property_area', 'loan_status'])\n",
    "df['i_weight'].fillna(0, inplace=True)\n",
    "#df['loan_amount'] = df['loan_amount'].astype(int)\n",
    "df.head()"
   ]
  },
  {
   "cell_type": "code",
   "execution_count": 38,
   "metadata": {},
   "outputs": [
    {
     "data": {
      "text/plain": [
       "Supermarket Type1    5577\n",
       "Grocery Store        1083\n",
       "Supermarket Type3     935\n",
       "Supermarket Type2     928\n",
       "Name: o_type, dtype: int64"
      ]
     },
     "execution_count": 38,
     "metadata": {},
     "output_type": "execute_result"
    }
   ],
   "source": [
    "df.o_type.value_counts()"
   ]
  },
  {
   "cell_type": "code",
   "execution_count": null,
   "metadata": {},
   "outputs": [],
   "source": []
  },
  {
   "cell_type": "code",
   "execution_count": 39,
   "metadata": {},
   "outputs": [],
   "source": [
    "\n",
    "from sklearn import preprocessing "
   ]
  },
  {
   "cell_type": "code",
   "execution_count": 40,
   "metadata": {},
   "outputs": [
    {
     "data": {
      "text/plain": [
       "<matplotlib.axes._subplots.AxesSubplot at 0x7f4e8639a278>"
      ]
     },
     "execution_count": 40,
     "metadata": {},
     "output_type": "execute_result"
    },
    {
     "data": {
      "image/png": "[encoded data removed]",
      "text/plain": [
       "<matplotlib.figure.Figure at 0x7f4e8638a240>"
      ]
     },
     "metadata": {},
     "output_type": "display_data"
    }
   ],
   "source": [
    "sns.distplot(np.log1p(df['i_visibility']))"
   ]
  },
  {
   "cell_type": "code",
   "execution_count": 41,
   "metadata": {},
   "outputs": [
    {
     "data": {
      "text/plain": [
       "<matplotlib.axes._subplots.AxesSubplot at 0x7f4e8636b0b8>"
      ]
     },
     "execution_count": 41,
     "metadata": {},
     "output_type": "execute_result"
    },
    {
     "data": {
      "image/png": "[encoded data removed]",
      "text/plain": [
       "<matplotlib.figure.Figure at 0x7f4e86347588>"
      ]
     },
     "metadata": {},
     "output_type": "display_data"
    }
   ],
   "source": [
    "sns.distplot(np.log1p(np.log1p(df['i_mrp'])))"
   ]
  },
  {
   "cell_type": "code",
   "execution_count": 42,
   "metadata": {},
   "outputs": [
    {
     "data": {
      "text/plain": [
       "<matplotlib.axes._subplots.AxesSubplot at 0x7f4e85952ac8>"
      ]
     },
     "execution_count": 42,
     "metadata": {},
     "output_type": "execute_result"
    },
    {
     "data": {
      "image/png": "[encoded data removed]",
      "text/plain": [
       "<matplotlib.figure.Figure at 0x7f4e861e60b8>"
      ]
     },
     "metadata": {},
     "output_type": "display_data"
    }
   ],
   "source": [
    "sns.distplot(np.log1p(df['i_mrp']))"
   ]
  },
  {
   "cell_type": "code",
   "execution_count": 43,
   "metadata": {},
   "outputs": [
    {
     "data": {
      "text/plain": [
       "<matplotlib.axes._subplots.AxesSubplot at 0x7f4e857fdcf8>"
      ]
     },
     "execution_count": 43,
     "metadata": {},
     "output_type": "execute_result"
    },
    {
     "data": {
      "image/png": "[encoded data removed]",
      "text/plain": [
       "<matplotlib.figure.Figure at 0x7f4e85805c88>"
      ]
     },
     "metadata": {},
     "output_type": "display_data"
    }
   ],
   "source": [
    "sns.distplot(df['i_mrp'])"
   ]
  },
  {
   "cell_type": "code",
   "execution_count": 44,
   "metadata": {},
   "outputs": [
    {
     "data": {
      "text/plain": [
       "<matplotlib.axes._subplots.AxesSubplot at 0x7f4e83764a58>"
      ]
     },
     "execution_count": 44,
     "metadata": {},
     "output_type": "execute_result"
    },
    {
     "data": {
      "image/png": "[encoded data removed]",
      "text/plain": [
       "<matplotlib.figure.Figure at 0x7f4e83733e80>"
      ]
     },
     "metadata": {},
     "output_type": "display_data"
    }
   ],
   "source": [
    "sns.distplot(df.i_visibility)"
   ]
  },
  {
   "cell_type": "code",
   "execution_count": 45,
   "metadata": {},
   "outputs": [],
   "source": [
    "df['i_mrp'] = np.log1p(np.log1p(df.i_mrp))"
   ]
  },
  {
   "cell_type": "code",
   "execution_count": 46,
   "metadata": {},
   "outputs": [],
   "source": [
    "df['i_weight'] = np.log1p(df['i_weight'])"
   ]
  },
  {
   "cell_type": "code",
   "execution_count": 47,
   "metadata": {},
   "outputs": [
    {
     "data": {
      "text/plain": [
       "1985    1463\n",
       "1987     932\n",
       "1999     930\n",
       "1997     930\n",
       "2004     930\n",
       "2002     929\n",
       "2009     928\n",
       "2007     926\n",
       "1998     555\n",
       "Name: o_establishment_year, dtype: int64"
      ]
     },
     "execution_count": 47,
     "metadata": {},
     "output_type": "execute_result"
    }
   ],
   "source": [
    "df.o_establishment_year.value_counts()"
   ]
  },
  {
   "cell_type": "code",
   "execution_count": 48,
   "metadata": {},
   "outputs": [],
   "source": [
    "married_lb = LabelEncoder()\n",
    "df['e_o_establishment_year'] = married_lb.fit_transform(df['o_establishment_year'])"
   ]
  },
  {
   "cell_type": "code",
   "execution_count": 49,
   "metadata": {},
   "outputs": [
    {
     "data": {
      "text/plain": [
       "0    1463\n",
       "1     932\n",
       "6     930\n",
       "4     930\n",
       "2     930\n",
       "5     929\n",
       "8     928\n",
       "7     926\n",
       "3     555\n",
       "Name: e_o_establishment_year, dtype: int64"
      ]
     },
     "execution_count": 49,
     "metadata": {},
     "output_type": "execute_result"
    }
   ],
   "source": [
    "df['e_o_establishment_year'].value_counts()"
   ]
  },
  {
   "cell_type": "code",
   "execution_count": 50,
   "metadata": {},
   "outputs": [
    {
     "data": {
      "text/plain": [
       "i_id                       0\n",
       "i_weight                   0\n",
       "i_fat_content              0\n",
       "i_visibility               0\n",
       "i_type                     0\n",
       "i_mrp                      0\n",
       "o_id                       0\n",
       "o_establishment_year       0\n",
       "o_size                     0\n",
       "o_loc_type                 0\n",
       "o_type                     0\n",
       "i_o_sales                 23\n",
       "e_o_type                   0\n",
       "e_o_loc_type               0\n",
       "e_i_fat_content            0\n",
       "e_i_type                   0\n",
       "e_o_establishment_year     0\n",
       "dtype: int64"
      ]
     },
     "execution_count": 50,
     "metadata": {},
     "output_type": "execute_result"
    }
   ],
   "source": [
    "df.isnull().sum()"
   ]
  },
  {
   "cell_type": "code",
   "execution_count": 51,
   "metadata": {},
   "outputs": [],
   "source": [
    "import xgboost"
   ]
  },
  {
   "cell_type": "code",
   "execution_count": 52,
   "metadata": {},
   "outputs": [
    {
     "data": {
      "text/plain": [
       "<seaborn.axisgrid.FacetGrid at 0x7f4e835d0668>"
      ]
     },
     "execution_count": 52,
     "metadata": {},
     "output_type": "execute_result"
    },
    {
     "data": {
      "image/png": "[encoded data removed]",
      "text/plain": [
       "<matplotlib.figure.Figure at 0x7f4e835d05f8>"
      ]
     },
     "metadata": {},
     "output_type": "display_data"
    }
   ],
   "source": [
    "sns.lmplot(data = df[:100], x = 'i_weight', y = \"i_o_sales\")"
   ]
  },
  {
   "cell_type": "code",
   "execution_count": 53,
   "metadata": {},
   "outputs": [
    {
     "data": {
      "text/plain": [
       "<seaborn.axisgrid.FacetGrid at 0x7f4e83624a90>"
      ]
     },
     "execution_count": 53,
     "metadata": {},
     "output_type": "execute_result"
    },
    {
     "data": {
      "image/png": "[encoded data removed]",
      "text/plain": [
       "<matplotlib.figure.Figure at 0x7f4e83624ac8>"
      ]
     },
     "metadata": {},
     "output_type": "display_data"
    }
   ],
   "source": [
    "sns.lmplot(data = df[df[\"i_weight\"] > 0.2], x = 'i_weight', y = \"i_o_sales\")"
   ]
  },
  {
   "cell_type": "code",
   "execution_count": 54,
   "metadata": {},
   "outputs": [
    {
     "data": {
      "text/plain": [
       "<seaborn.axisgrid.FacetGrid at 0x7f4e80cf28d0>"
      ]
     },
     "execution_count": 54,
     "metadata": {},
     "output_type": "execute_result"
    },
    {
     "data": {
      "image/png": "[encoded data removed]",
      "text/plain": [
       "<matplotlib.figure.Figure at 0x7f4e80cf2630>"
      ]
     },
     "metadata": {},
     "output_type": "display_data"
    }
   ],
   "source": [
    "sns.lmplot(data = df[:100], x = 'i_visibility', y = \"i_o_sales\")"
   ]
  },
  {
   "cell_type": "code",
   "execution_count": 55,
   "metadata": {},
   "outputs": [
    {
     "data": {
      "text/plain": [
       "<matplotlib.axes._subplots.AxesSubplot at 0x7f4e83702898>"
      ]
     },
     "execution_count": 55,
     "metadata": {},
     "output_type": "execute_result"
    },
    {
     "data": {
      "image/png": "[encoded data removed]",
      "text/plain": [
       "<matplotlib.figure.Figure at 0x7f4e80c6c0f0>"
      ]
     },
     "metadata": {},
     "output_type": "display_data"
    }
   ],
   "source": [
    "sns.heatmap(df.corr())"
   ]
  },
  {
   "cell_type": "code",
   "execution_count": 56,
   "metadata": {},
   "outputs": [
    {
     "data": {
      "text/plain": [
       "<matplotlib.axes._subplots.AxesSubplot at 0x7f4e80bac400>"
      ]
     },
     "execution_count": 56,
     "metadata": {},
     "output_type": "execute_result"
    },
    {
     "data": {
      "image/png": "[encoded data removed]",
      "text/plain": [
       "<matplotlib.figure.Figure at 0x7f4e80d4b390>"
      ]
     },
     "metadata": {},
     "output_type": "display_data"
    }
   ],
   "source": [
    "sns.violinplot(data = df, x = 'e_i_type', y = \"i_o_sales\")"
   ]
  },
  {
   "cell_type": "code",
   "execution_count": 57,
   "metadata": {},
   "outputs": [
    {
     "data": {
      "text/plain": [
       "<seaborn.axisgrid.FacetGrid at 0x7f4e80a855c0>"
      ]
     },
     "execution_count": 57,
     "metadata": {},
     "output_type": "execute_result"
    },
    {
     "data": {
      "image/png": "[encoded data removed]",
      "text/plain": [
       "<matplotlib.figure.Figure at 0x7f4e80a856d8>"
      ]
     },
     "metadata": {},
     "output_type": "display_data"
    }
   ],
   "source": [
    "sns.lmplot(data = df[:100], x = 'o_size', y = \"i_o_sales\")"
   ]
  },
  {
   "cell_type": "code",
   "execution_count": 58,
   "metadata": {},
   "outputs": [
    {
     "data": {
      "text/plain": [
       "<matplotlib.axes._subplots.AxesSubplot at 0x7f4e80a55da0>"
      ]
     },
     "execution_count": 58,
     "metadata": {},
     "output_type": "execute_result"
    },
    {
     "data": {
      "image/png": "[encoded data removed]",
      "text/plain": [
       "<matplotlib.figure.Figure at 0x7f4e809f5588>"
      ]
     },
     "metadata": {},
     "output_type": "display_data"
    }
   ],
   "source": [
    "sns.distplot(np.log1p(df.i_o_sales[:8500]))"
   ]
  },
  {
   "cell_type": "code",
   "execution_count": 59,
   "metadata": {},
   "outputs": [
    {
     "data": {
      "text/plain": [
       "(array([0, 1, 2, 3, 4, 5, 6, 7, 8, 9]), <a list of 10 Text xticklabel objects>)"
      ]
     },
     "execution_count": 59,
     "metadata": {},
     "output_type": "execute_result"
    },
    {
     "data": {
      "image/png": "[encoded data removed]",
      "text/plain": [
       "<matplotlib.figure.Figure at 0x7f4e80981940>"
      ]
     },
     "metadata": {},
     "output_type": "display_data"
    }
   ],
   "source": [
    "sns.violinplot(data = df, x = 'o_id', y = \"i_o_sales\")\n",
    "plt.xticks(rotation=-45)"
   ]
  },
  {
   "cell_type": "code",
   "execution_count": 60,
   "metadata": {},
   "outputs": [
    {
     "data": {
      "text/plain": [
       "Index(['i_id', 'i_weight', 'i_fat_content', 'i_visibility', 'i_type', 'i_mrp',\n",
       "       'o_id', 'o_establishment_year', 'o_size', 'o_loc_type', 'o_type',\n",
       "       'i_o_sales', 'e_o_type', 'e_o_loc_type', 'e_i_fat_content', 'e_i_type',\n",
       "       'e_o_establishment_year'],\n",
       "      dtype='object')"
      ]
     },
     "execution_count": 60,
     "metadata": {},
     "output_type": "execute_result"
    }
   ],
   "source": [
    "df.columns"
   ]
  },
  {
   "cell_type": "code",
   "execution_count": 61,
   "metadata": {},
   "outputs": [],
   "source": [
    "fdf = df.drop(columns=['i_id', 'o_id', \"o_establishment_year\", \"o_loc_type\", \"o_type\", \"i_fat_content\", \"i_type\"])"
   ]
  },
  {
   "cell_type": "code",
   "execution_count": 62,
   "metadata": {},
   "outputs": [
    {
     "data": {
      "text/plain": [
       "Index(['i_weight', 'i_visibility', 'i_mrp', 'o_size', 'i_o_sales', 'e_o_type',\n",
       "       'e_o_loc_type', 'e_i_fat_content', 'e_i_type',\n",
       "       'e_o_establishment_year'],\n",
       "      dtype='object')"
      ]
     },
     "execution_count": 62,
     "metadata": {},
     "output_type": "execute_result"
    }
   ],
   "source": [
    "fdf.columns"
   ]
  },
  {
   "cell_type": "code",
   "execution_count": 63,
   "metadata": {},
   "outputs": [
    {
     "data": {
      "text/html": [
       "<div>\n",
       "<style scoped>\n",
       "    .dataframe tbody tr th:only-of-type {\n",
       "        vertical-align: middle;\n",
       "    }\n",
       "\n",
       "    .dataframe tbody tr th {\n",
       "        vertical-align: top;\n",
       "    }\n",
       "\n",
       "    .dataframe thead th {\n",
       "        text-align: right;\n",
       "    }\n",
       "</style>\n",
       "<table border=\"1\" class=\"dataframe\">\n",
       "  <thead>\n",
       "    <tr style=\"text-align: right;\">\n",
       "      <th></th>\n",
       "      <th>i_weight</th>\n",
       "      <th>i_visibility</th>\n",
       "      <th>i_mrp</th>\n",
       "      <th>o_size</th>\n",
       "      <th>i_o_sales</th>\n",
       "      <th>e_o_type</th>\n",
       "      <th>e_o_loc_type</th>\n",
       "      <th>e_i_fat_content</th>\n",
       "      <th>e_i_type</th>\n",
       "      <th>e_o_establishment_year</th>\n",
       "    </tr>\n",
       "  </thead>\n",
       "  <tbody>\n",
       "    <tr>\n",
       "      <th>count</th>\n",
       "      <td>8523.000000</td>\n",
       "      <td>8523.000000</td>\n",
       "      <td>8523.000000</td>\n",
       "      <td>8523.000000</td>\n",
       "      <td>8500.000000</td>\n",
       "      <td>8523.000000</td>\n",
       "      <td>8523.000000</td>\n",
       "      <td>8523.000000</td>\n",
       "      <td>8523.000000</td>\n",
       "      <td>8523.000000</td>\n",
       "    </tr>\n",
       "    <tr>\n",
       "      <th>mean</th>\n",
       "      <td>2.567396</td>\n",
       "      <td>0.066132</td>\n",
       "      <td>1.760101</td>\n",
       "      <td>1.263640</td>\n",
       "      <td>2180.817169</td>\n",
       "      <td>1.201220</td>\n",
       "      <td>1.112871</td>\n",
       "      <td>0.352693</td>\n",
       "      <td>7.226681</td>\n",
       "      <td>3.790684</td>\n",
       "    </tr>\n",
       "    <tr>\n",
       "      <th>std</th>\n",
       "      <td>0.364582</td>\n",
       "      <td>0.051598</td>\n",
       "      <td>0.092884</td>\n",
       "      <td>0.989181</td>\n",
       "      <td>1706.669652</td>\n",
       "      <td>0.796459</td>\n",
       "      <td>0.812757</td>\n",
       "      <td>0.477836</td>\n",
       "      <td>4.209990</td>\n",
       "      <td>2.730322</td>\n",
       "    </tr>\n",
       "    <tr>\n",
       "      <th>min</th>\n",
       "      <td>0.000000</td>\n",
       "      <td>0.000000</td>\n",
       "      <td>1.498452</td>\n",
       "      <td>0.000000</td>\n",
       "      <td>33.290000</td>\n",
       "      <td>0.000000</td>\n",
       "      <td>0.000000</td>\n",
       "      <td>0.000000</td>\n",
       "      <td>0.000000</td>\n",
       "      <td>0.000000</td>\n",
       "    </tr>\n",
       "    <tr>\n",
       "      <th>25%</th>\n",
       "      <td>2.280851</td>\n",
       "      <td>0.026989</td>\n",
       "      <td>1.714167</td>\n",
       "      <td>0.000000</td>\n",
       "      <td>833.415150</td>\n",
       "      <td>1.000000</td>\n",
       "      <td>0.000000</td>\n",
       "      <td>0.000000</td>\n",
       "      <td>4.000000</td>\n",
       "      <td>1.000000</td>\n",
       "    </tr>\n",
       "    <tr>\n",
       "      <th>50%</th>\n",
       "      <td>2.610070</td>\n",
       "      <td>0.053931</td>\n",
       "      <td>1.786731</td>\n",
       "      <td>1.000000</td>\n",
       "      <td>1794.331000</td>\n",
       "      <td>1.000000</td>\n",
       "      <td>1.000000</td>\n",
       "      <td>0.000000</td>\n",
       "      <td>6.000000</td>\n",
       "      <td>4.000000</td>\n",
       "    </tr>\n",
       "    <tr>\n",
       "      <th>75%</th>\n",
       "      <td>2.882004</td>\n",
       "      <td>0.094585</td>\n",
       "      <td>1.829248</td>\n",
       "      <td>2.000000</td>\n",
       "      <td>3101.296400</td>\n",
       "      <td>1.000000</td>\n",
       "      <td>2.000000</td>\n",
       "      <td>1.000000</td>\n",
       "      <td>10.000000</td>\n",
       "      <td>6.000000</td>\n",
       "    </tr>\n",
       "    <tr>\n",
       "      <th>max</th>\n",
       "      <td>3.106826</td>\n",
       "      <td>0.328391</td>\n",
       "      <td>1.885640</td>\n",
       "      <td>3.000000</td>\n",
       "      <td>13086.964800</td>\n",
       "      <td>3.000000</td>\n",
       "      <td>2.000000</td>\n",
       "      <td>1.000000</td>\n",
       "      <td>15.000000</td>\n",
       "      <td>8.000000</td>\n",
       "    </tr>\n",
       "  </tbody>\n",
       "</table>\n",
       "</div>"
      ],
      "text/plain": [
       "          i_weight  i_visibility        i_mrp       o_size     i_o_sales  \\\n",
       "count  8523.000000   8523.000000  8523.000000  8523.000000   8500.000000   \n",
       "mean      2.567396      0.066132     1.760101     1.263640   2180.817169   \n",
       "std       0.364582      0.051598     0.092884     0.989181   1706.669652   \n",
       "min       0.000000      0.000000     1.498452     0.000000     33.290000   \n",
       "25%       2.280851      0.026989     1.714167     0.000000    833.415150   \n",
       "50%       2.610070      0.053931     1.786731     1.000000   1794.331000   \n",
       "75%       2.882004      0.094585     1.829248     2.000000   3101.296400   \n",
       "max       3.106826      0.328391     1.885640     3.000000  13086.964800   \n",
       "\n",
       "          e_o_type  e_o_loc_type  e_i_fat_content     e_i_type  \\\n",
       "count  8523.000000   8523.000000      8523.000000  8523.000000   \n",
       "mean      1.201220      1.112871         0.352693     7.226681   \n",
       "std       0.796459      0.812757         0.477836     4.209990   \n",
       "min       0.000000      0.000000         0.000000     0.000000   \n",
       "25%       1.000000      0.000000         0.000000     4.000000   \n",
       "50%       1.000000      1.000000         0.000000     6.000000   \n",
       "75%       1.000000      2.000000         1.000000    10.000000   \n",
       "max       3.000000      2.000000         1.000000    15.000000   \n",
       "\n",
       "       e_o_establishment_year  \n",
       "count             8523.000000  \n",
       "mean                 3.790684  \n",
       "std                  2.730322  \n",
       "min                  0.000000  \n",
       "25%                  1.000000  \n",
       "50%                  4.000000  \n",
       "75%                  6.000000  \n",
       "max                  8.000000  "
      ]
     },
     "execution_count": 63,
     "metadata": {},
     "output_type": "execute_result"
    }
   ],
   "source": [
    "fdf.describe()"
   ]
  },
  {
   "cell_type": "code",
   "execution_count": 64,
   "metadata": {},
   "outputs": [
    {
     "data": {
      "text/html": [
       "<div>\n",
       "<style scoped>\n",
       "    .dataframe tbody tr th:only-of-type {\n",
       "        vertical-align: middle;\n",
       "    }\n",
       "\n",
       "    .dataframe tbody tr th {\n",
       "        vertical-align: top;\n",
       "    }\n",
       "\n",
       "    .dataframe thead th {\n",
       "        text-align: right;\n",
       "    }\n",
       "</style>\n",
       "<table border=\"1\" class=\"dataframe\">\n",
       "  <thead>\n",
       "    <tr style=\"text-align: right;\">\n",
       "      <th></th>\n",
       "      <th>i_weight</th>\n",
       "      <th>i_visibility</th>\n",
       "      <th>i_mrp</th>\n",
       "      <th>o_size</th>\n",
       "      <th>i_o_sales</th>\n",
       "      <th>e_o_type</th>\n",
       "      <th>e_o_loc_type</th>\n",
       "      <th>e_i_fat_content</th>\n",
       "      <th>e_i_type</th>\n",
       "      <th>e_o_establishment_year</th>\n",
       "    </tr>\n",
       "  </thead>\n",
       "  <tbody>\n",
       "    <tr>\n",
       "      <th>0</th>\n",
       "      <td>2.332144</td>\n",
       "      <td>0.016047</td>\n",
       "      <td>1.875594</td>\n",
       "      <td>2</td>\n",
       "      <td>3735.1380</td>\n",
       "      <td>1</td>\n",
       "      <td>0</td>\n",
       "      <td>0</td>\n",
       "      <td>4</td>\n",
       "      <td>4</td>\n",
       "    </tr>\n",
       "    <tr>\n",
       "      <th>1</th>\n",
       "      <td>1.934416</td>\n",
       "      <td>0.019278</td>\n",
       "      <td>1.588684</td>\n",
       "      <td>2</td>\n",
       "      <td>443.4228</td>\n",
       "      <td>2</td>\n",
       "      <td>2</td>\n",
       "      <td>1</td>\n",
       "      <td>14</td>\n",
       "      <td>8</td>\n",
       "    </tr>\n",
       "    <tr>\n",
       "      <th>2</th>\n",
       "      <td>2.917771</td>\n",
       "      <td>0.016760</td>\n",
       "      <td>1.785099</td>\n",
       "      <td>2</td>\n",
       "      <td>2097.2700</td>\n",
       "      <td>1</td>\n",
       "      <td>0</td>\n",
       "      <td>0</td>\n",
       "      <td>10</td>\n",
       "      <td>4</td>\n",
       "    </tr>\n",
       "    <tr>\n",
       "      <th>3</th>\n",
       "      <td>3.005683</td>\n",
       "      <td>0.000000</td>\n",
       "      <td>1.826162</td>\n",
       "      <td>0</td>\n",
       "      <td>732.3800</td>\n",
       "      <td>0</td>\n",
       "      <td>2</td>\n",
       "      <td>1</td>\n",
       "      <td>6</td>\n",
       "      <td>3</td>\n",
       "    </tr>\n",
       "    <tr>\n",
       "      <th>4</th>\n",
       "      <td>2.295560</td>\n",
       "      <td>0.000000</td>\n",
       "      <td>1.610399</td>\n",
       "      <td>3</td>\n",
       "      <td>994.7052</td>\n",
       "      <td>1</td>\n",
       "      <td>2</td>\n",
       "      <td>0</td>\n",
       "      <td>9</td>\n",
       "      <td>1</td>\n",
       "    </tr>\n",
       "  </tbody>\n",
       "</table>\n",
       "</div>"
      ],
      "text/plain": [
       "   i_weight  i_visibility     i_mrp  o_size  i_o_sales  e_o_type  \\\n",
       "0  2.332144      0.016047  1.875594       2  3735.1380         1   \n",
       "1  1.934416      0.019278  1.588684       2   443.4228         2   \n",
       "2  2.917771      0.016760  1.785099       2  2097.2700         1   \n",
       "3  3.005683      0.000000  1.826162       0   732.3800         0   \n",
       "4  2.295560      0.000000  1.610399       3   994.7052         1   \n",
       "\n",
       "   e_o_loc_type  e_i_fat_content  e_i_type  e_o_establishment_year  \n",
       "0             0                0         4                       4  \n",
       "1             2                1        14                       8  \n",
       "2             0                0        10                       4  \n",
       "3             2                1         6                       3  \n",
       "4             2                0         9                       1  "
      ]
     },
     "execution_count": 64,
     "metadata": {},
     "output_type": "execute_result"
    }
   ],
   "source": [
    "fdf.head()"
   ]
  },
  {
   "cell_type": "code",
   "execution_count": 65,
   "metadata": {},
   "outputs": [],
   "source": [
    "import xgboost\n",
    "model = xgboost.XGBRegressor(max_depth=3, n_estimators=100, missing =0, colsample_bytree=0.8,\n",
    "                             subsample=1, min_child_weight=10, gamma=0.5)\n",
    "\n"
   ]
  },
  {
   "cell_type": "code",
   "execution_count": 66,
   "metadata": {},
   "outputs": [],
   "source": [
    "train = fdf[:8500]\n",
    "test = fdf[8500:]\n",
    "test.drop(columns=\"i_o_sales\")\n",
    "train_y = train['i_o_sales']\n",
    "train_x = train.drop(columns=\"i_o_sales\")\n",
    "x_train, x_eval, y_train, y_eval = train_test_split(train_x, train_y, test_size=0.1, random_state=42, shuffle=True)"
   ]
  },
  {
   "cell_type": "code",
   "execution_count": 67,
   "metadata": {},
   "outputs": [
    {
     "data": {
      "text/plain": [
       "Index(['i_weight', 'i_visibility', 'i_mrp', 'o_size', 'e_o_type',\n",
       "       'e_o_loc_type', 'e_i_fat_content', 'e_i_type',\n",
       "       'e_o_establishment_year'],\n",
       "      dtype='object')"
      ]
     },
     "execution_count": 67,
     "metadata": {},
     "output_type": "execute_result"
    }
   ],
   "source": [
    "x_train.columns"
   ]
  },
  {
   "cell_type": "code",
   "execution_count": 68,
   "metadata": {},
   "outputs": [
    {
     "data": {
      "text/plain": [
       "(850, 9)"
      ]
     },
     "execution_count": 68,
     "metadata": {},
     "output_type": "execute_result"
    }
   ],
   "source": [
    "x_eval.shape"
   ]
  },
  {
   "cell_type": "code",
   "execution_count": 69,
   "metadata": {},
   "outputs": [
    {
     "name": "stdout",
     "output_type": "stream",
     "text": [
      "[0]\tvalidation_0-rmse:2536.81\n",
      "[1]\tvalidation_0-rmse:2336.33\n",
      "[2]\tvalidation_0-rmse:2156.62\n",
      "[3]\tvalidation_0-rmse:2001.25\n",
      "[4]\tvalidation_0-rmse:1865.06\n",
      "[5]\tvalidation_0-rmse:1746.29\n",
      "[6]\tvalidation_0-rmse:1656.28\n",
      "[7]\tvalidation_0-rmse:1566.61\n",
      "[8]\tvalidation_0-rmse:1499.67\n",
      "[9]\tvalidation_0-rmse:1429.32\n",
      "[10]\tvalidation_0-rmse:1370.21\n",
      "[11]\tvalidation_0-rmse:1319.76\n",
      "[12]\tvalidation_0-rmse:1283.44\n",
      "[13]\tvalidation_0-rmse:1243.59\n",
      "[14]\tvalidation_0-rmse:1213.9\n",
      "[15]\tvalidation_0-rmse:1191.34\n",
      "[16]\tvalidation_0-rmse:1167.16\n",
      "[17]\tvalidation_0-rmse:1149.3\n",
      "[18]\tvalidation_0-rmse:1128.68\n",
      "[19]\tvalidation_0-rmse:1112.57\n",
      "[20]\tvalidation_0-rmse:1099.67\n",
      "[21]\tvalidation_0-rmse:1088.36\n",
      "[22]\tvalidation_0-rmse:1081.12\n",
      "[23]\tvalidation_0-rmse:1072.38\n",
      "[24]\tvalidation_0-rmse:1067.26\n",
      "[25]\tvalidation_0-rmse:1062.19\n",
      "[26]\tvalidation_0-rmse:1058.07\n",
      "[27]\tvalidation_0-rmse:1054.51\n",
      "[28]\tvalidation_0-rmse:1051.76\n",
      "[29]\tvalidation_0-rmse:1048.03\n",
      "[30]\tvalidation_0-rmse:1044.39\n",
      "[31]\tvalidation_0-rmse:1042.52\n",
      "[32]\tvalidation_0-rmse:1040.45\n",
      "[33]\tvalidation_0-rmse:1039.18\n",
      "[34]\tvalidation_0-rmse:1036.74\n",
      "[35]\tvalidation_0-rmse:1035.56\n",
      "[36]\tvalidation_0-rmse:1033.71\n",
      "[37]\tvalidation_0-rmse:1033.18\n",
      "[38]\tvalidation_0-rmse:1032.99\n",
      "[39]\tvalidation_0-rmse:1032.29\n",
      "[40]\tvalidation_0-rmse:1031.63\n",
      "[41]\tvalidation_0-rmse:1030.97\n",
      "[42]\tvalidation_0-rmse:1029.43\n",
      "[43]\tvalidation_0-rmse:1029.01\n",
      "[44]\tvalidation_0-rmse:1028.25\n",
      "[45]\tvalidation_0-rmse:1028.05\n",
      "[46]\tvalidation_0-rmse:1027.51\n",
      "[47]\tvalidation_0-rmse:1028.42\n",
      "[48]\tvalidation_0-rmse:1027.99\n",
      "[49]\tvalidation_0-rmse:1027.96\n",
      "[50]\tvalidation_0-rmse:1028.18\n",
      "[51]\tvalidation_0-rmse:1028.18\n",
      "[52]\tvalidation_0-rmse:1027.91\n",
      "[53]\tvalidation_0-rmse:1028.38\n",
      "[54]\tvalidation_0-rmse:1028.4\n",
      "[55]\tvalidation_0-rmse:1028.49\n",
      "[56]\tvalidation_0-rmse:1028.53\n",
      "[57]\tvalidation_0-rmse:1028.96\n",
      "[58]\tvalidation_0-rmse:1029.17\n",
      "[59]\tvalidation_0-rmse:1028.69\n",
      "[60]\tvalidation_0-rmse:1029\n",
      "[61]\tvalidation_0-rmse:1029.11\n",
      "[62]\tvalidation_0-rmse:1029.14\n",
      "[63]\tvalidation_0-rmse:1029.31\n",
      "[64]\tvalidation_0-rmse:1029.3\n",
      "[65]\tvalidation_0-rmse:1028.96\n",
      "[66]\tvalidation_0-rmse:1029.26\n",
      "[67]\tvalidation_0-rmse:1028.56\n",
      "[68]\tvalidation_0-rmse:1029.07\n",
      "[69]\tvalidation_0-rmse:1029.03\n",
      "[70]\tvalidation_0-rmse:1028.82\n",
      "[71]\tvalidation_0-rmse:1028.87\n",
      "[72]\tvalidation_0-rmse:1028.6\n",
      "[73]\tvalidation_0-rmse:1029.56\n",
      "[74]\tvalidation_0-rmse:1029.48\n",
      "[75]\tvalidation_0-rmse:1029.45\n",
      "[76]\tvalidation_0-rmse:1029.86\n",
      "[77]\tvalidation_0-rmse:1029.95\n",
      "[78]\tvalidation_0-rmse:1029.72\n",
      "[79]\tvalidation_0-rmse:1029.45\n",
      "[80]\tvalidation_0-rmse:1029.23\n",
      "[81]\tvalidation_0-rmse:1029.55\n",
      "[82]\tvalidation_0-rmse:1029.53\n",
      "[83]\tvalidation_0-rmse:1029.47\n",
      "[84]\tvalidation_0-rmse:1029.99\n",
      "[85]\tvalidation_0-rmse:1029.89\n",
      "[86]\tvalidation_0-rmse:1030.14\n",
      "[87]\tvalidation_0-rmse:1030.43\n",
      "[88]\tvalidation_0-rmse:1030.52\n",
      "[89]\tvalidation_0-rmse:1030.3\n",
      "[90]\tvalidation_0-rmse:1030.4\n",
      "[91]\tvalidation_0-rmse:1030.59\n",
      "[92]\tvalidation_0-rmse:1030.74\n",
      "[93]\tvalidation_0-rmse:1031.08\n",
      "[94]\tvalidation_0-rmse:1031.65\n",
      "[95]\tvalidation_0-rmse:1031.57\n",
      "[96]\tvalidation_0-rmse:1031.59\n",
      "[97]\tvalidation_0-rmse:1032.02\n",
      "[98]\tvalidation_0-rmse:1031.83\n",
      "[99]\tvalidation_0-rmse:1031.73\n"
     ]
    },
    {
     "data": {
      "text/plain": [
       "XGBRegressor(base_score=0.5, booster='gbtree', colsample_bylevel=1,\n",
       "       colsample_bytree=0.8, gamma=0.5, learning_rate=0.1,\n",
       "       max_delta_step=0, max_depth=3, min_child_weight=10, missing=0,\n",
       "       n_estimators=100, n_jobs=1, nthread=None, objective='reg:linear',\n",
       "       random_state=0, reg_alpha=0, reg_lambda=1, scale_pos_weight=1,\n",
       "       seed=None, silent=True, subsample=1)"
      ]
     },
     "execution_count": 69,
     "metadata": {},
     "output_type": "execute_result"
    }
   ],
   "source": [
    "    model.fit(x_train, (y_train), eval_set=[(x_eval, (y_eval))], verbose=True)"
   ]
  },
  {
   "cell_type": "code",
   "execution_count": 70,
   "metadata": {},
   "outputs": [
    {
     "name": "stdout",
     "output_type": "stream",
     "text": [
      "[0]\tvalidation_0-rmse:2560.75\n",
      "[1]\tvalidation_0-rmse:2360.56\n",
      "[2]\tvalidation_0-rmse:2184.99\n",
      "[3]\tvalidation_0-rmse:2029.87\n",
      "[4]\tvalidation_0-rmse:1894.88\n",
      "[5]\tvalidation_0-rmse:1776.87\n",
      "[6]\tvalidation_0-rmse:1688.35\n",
      "[7]\tvalidation_0-rmse:1596.4\n",
      "[8]\tvalidation_0-rmse:1531.1\n",
      "[9]\tvalidation_0-rmse:1461.04\n",
      "[10]\tvalidation_0-rmse:1400.79\n",
      "[11]\tvalidation_0-rmse:1349.81\n",
      "[12]\tvalidation_0-rmse:1314.92\n",
      "[13]\tvalidation_0-rmse:1276.43\n",
      "[14]\tvalidation_0-rmse:1246.51\n",
      "[15]\tvalidation_0-rmse:1225.09\n",
      "[16]\tvalidation_0-rmse:1200.51\n",
      "[17]\tvalidation_0-rmse:1182.23\n",
      "[18]\tvalidation_0-rmse:1164.22\n",
      "[19]\tvalidation_0-rmse:1149.08\n",
      "[20]\tvalidation_0-rmse:1136.65\n",
      "[21]\tvalidation_0-rmse:1126.24\n",
      "[22]\tvalidation_0-rmse:1118.65\n",
      "[23]\tvalidation_0-rmse:1110.89\n",
      "[24]\tvalidation_0-rmse:1106\n",
      "[25]\tvalidation_0-rmse:1100.7\n",
      "[26]\tvalidation_0-rmse:1096.64\n",
      "[27]\tvalidation_0-rmse:1092.83\n",
      "[28]\tvalidation_0-rmse:1089.77\n",
      "[29]\tvalidation_0-rmse:1085.72\n",
      "[30]\tvalidation_0-rmse:1082.8\n",
      "[31]\tvalidation_0-rmse:1080.54\n",
      "[32]\tvalidation_0-rmse:1077.75\n",
      "[33]\tvalidation_0-rmse:1076.04\n",
      "[34]\tvalidation_0-rmse:1073.98\n",
      "[35]\tvalidation_0-rmse:1072.55\n",
      "[36]\tvalidation_0-rmse:1071.29\n",
      "[37]\tvalidation_0-rmse:1069.95\n",
      "[38]\tvalidation_0-rmse:1068.8\n",
      "[39]\tvalidation_0-rmse:1067.66\n",
      "[40]\tvalidation_0-rmse:1066.92\n",
      "[41]\tvalidation_0-rmse:1065.74\n",
      "[42]\tvalidation_0-rmse:1064.85\n",
      "[43]\tvalidation_0-rmse:1063.9\n",
      "[44]\tvalidation_0-rmse:1063.42\n",
      "[45]\tvalidation_0-rmse:1062.82\n",
      "[46]\tvalidation_0-rmse:1061.95\n",
      "[47]\tvalidation_0-rmse:1061.07\n",
      "[48]\tvalidation_0-rmse:1060.44\n",
      "[49]\tvalidation_0-rmse:1059.96\n",
      "[50]\tvalidation_0-rmse:1059.41\n",
      "[51]\tvalidation_0-rmse:1058.87\n",
      "[52]\tvalidation_0-rmse:1058.36\n",
      "[53]\tvalidation_0-rmse:1057.62\n",
      "[54]\tvalidation_0-rmse:1057.21\n",
      "[55]\tvalidation_0-rmse:1056.49\n",
      "[56]\tvalidation_0-rmse:1056.18\n",
      "[57]\tvalidation_0-rmse:1055.54\n",
      "[58]\tvalidation_0-rmse:1055.05\n",
      "[59]\tvalidation_0-rmse:1054.53\n",
      "[60]\tvalidation_0-rmse:1054.08\n",
      "[61]\tvalidation_0-rmse:1053.83\n",
      "[62]\tvalidation_0-rmse:1053.25\n",
      "[63]\tvalidation_0-rmse:1052.87\n",
      "[64]\tvalidation_0-rmse:1052.45\n",
      "[65]\tvalidation_0-rmse:1052.25\n",
      "[66]\tvalidation_0-rmse:1051.88\n",
      "[67]\tvalidation_0-rmse:1051.42\n",
      "[68]\tvalidation_0-rmse:1050.66\n",
      "[69]\tvalidation_0-rmse:1050.35\n",
      "[70]\tvalidation_0-rmse:1050.18\n",
      "[71]\tvalidation_0-rmse:1050.01\n",
      "[72]\tvalidation_0-rmse:1049.8\n",
      "[73]\tvalidation_0-rmse:1049.22\n",
      "[74]\tvalidation_0-rmse:1049.08\n",
      "[75]\tvalidation_0-rmse:1048.49\n",
      "[76]\tvalidation_0-rmse:1048.2\n",
      "[77]\tvalidation_0-rmse:1047.79\n",
      "[78]\tvalidation_0-rmse:1047.66\n",
      "[79]\tvalidation_0-rmse:1047.51\n",
      "[80]\tvalidation_0-rmse:1047.05\n",
      "[81]\tvalidation_0-rmse:1046.5\n",
      "[82]\tvalidation_0-rmse:1046.37\n",
      "[83]\tvalidation_0-rmse:1046.05\n",
      "[84]\tvalidation_0-rmse:1045.61\n",
      "[85]\tvalidation_0-rmse:1045.19\n",
      "[86]\tvalidation_0-rmse:1045.07\n",
      "[87]\tvalidation_0-rmse:1044.83\n",
      "[88]\tvalidation_0-rmse:1044.16\n",
      "[89]\tvalidation_0-rmse:1044.05\n",
      "[90]\tvalidation_0-rmse:1043.37\n",
      "[91]\tvalidation_0-rmse:1043.16\n",
      "[92]\tvalidation_0-rmse:1042.67\n",
      "[93]\tvalidation_0-rmse:1042.46\n",
      "[94]\tvalidation_0-rmse:1042.21\n",
      "[95]\tvalidation_0-rmse:1041.84\n",
      "[96]\tvalidation_0-rmse:1041.75\n",
      "[97]\tvalidation_0-rmse:1041.4\n",
      "[98]\tvalidation_0-rmse:1041.31\n",
      "[99]\tvalidation_0-rmse:1040.87\n"
     ]
    },
    {
     "data": {
      "text/plain": [
       "XGBRegressor(base_score=0.5, booster='gbtree', colsample_bylevel=1,\n",
       "       colsample_bytree=0.8, gamma=0.5, learning_rate=0.1,\n",
       "       max_delta_step=0, max_depth=3, min_child_weight=10, missing=0,\n",
       "       n_estimators=100, n_jobs=1, nthread=None, objective='reg:linear',\n",
       "       random_state=0, reg_alpha=0, reg_lambda=1, scale_pos_weight=1,\n",
       "       seed=None, silent=True, subsample=1)"
      ]
     },
     "execution_count": 70,
     "metadata": {},
     "output_type": "execute_result"
    }
   ],
   "source": [
    "    model.fit(x_train, (y_train), eval_set=[(x_train, (y_train))], verbose=True)"
   ]
  },
  {
   "cell_type": "code",
   "execution_count": 71,
   "metadata": {},
   "outputs": [],
   "source": [
    "params = {\n",
    "        'min_child_weight': [1, 5, 10],\n",
    "        'gamma': [0.5, 1, 1.5, 2, 5],\n",
    "        'subsample': [0.4, 0.6, 0.8, 1.0],\n",
    "        'colsample_bytr   ee': [0.4,0.6, 0.8, 1.0],\n",
    "        'max_depth': [3, 4, 5],\n",
    "        }"
   ]
  },
  {
   "cell_type": "code",
   "execution_count": 72,
   "metadata": {},
   "outputs": [
    {
     "name": "stderr",
     "output_type": "stream",
     "text": [
      "/usr/local/lib/python3.5/dist-packages/sklearn/model_selection/_split.py:605: Warning: The least populated class in y has only 1 members, which is too few. The minimum number of members in any class cannot be less than n_splits=5.\n",
      "  % (min_groups, self.n_splits)), Warning)\n"
     ]
    },
    {
     "name": "stdout",
     "output_type": "stream",
     "text": [
      "Fitting 5 folds for each of 720 candidates, totalling 3600 fits\n",
      "[CV] gamma=0.5, min_child_weight=1, max_depth=3, colsample_bytr   ee=0.4, subsample=0.4 \n",
      "[CV] gamma=0.5, min_child_weight=1, max_depth=3, colsample_bytr   ee=0.4, subsample=0.4 \n",
      "[CV] gamma=0.5, min_child_weight=1, max_depth=3, colsample_bytr   ee=0.4, subsample=0.4 \n",
      "[CV] gamma=0.5, min_child_weight=1, max_depth=3, colsample_bytr   ee=0.4, subsample=0.4 \n",
      "[CV] gamma=0.5, min_child_weight=1, max_depth=3, colsample_bytr   ee=0.4, subsample=0.4 \n"
     ]
    },
    {
     "ename": "JoblibValueError",
     "evalue": "JoblibValueError\n___________________________________________________________________________\nMultiprocessing exception:\n...........................................................................\n/usr/lib/python3.5/runpy.py in _run_module_as_main(mod_name='ipykernel_launcher', alter_argv=1)\n    179         sys.exit(msg)\n    180     main_globals = sys.modules[\"__main__\"].__dict__\n    181     if alter_argv:\n    182         sys.argv[0] = mod_spec.origin\n    183     return _run_code(code, main_globals, None,\n--> 184                      \"__main__\", mod_spec)\n        mod_spec = ModuleSpec(name='ipykernel_launcher', loader=<_f...b/python3.5/site-packages/ipykernel_launcher.py')\n    185 \n    186 def run_module(mod_name, init_globals=None,\n    187                run_name=None, alter_sys=False):\n    188     \"\"\"Execute a module's code without importing it\n\n...........................................................................\n/usr/lib/python3.5/runpy.py in _run_code(code=<code object <module> at 0x7f4eceed60c0, file \"/...3.5/site-packages/ipykernel_launcher.py\", line 5>, run_globals={'__builtins__': <module 'builtins' (built-in)>, '__cached__': '/home/sumedh/.local/lib/python3.5/site-packages/__pycache__/ipykernel_launcher.cpython-35.pyc', '__doc__': 'Entry point for launching an IPython kernel.\\n\\nTh...orts until\\nafter removing the cwd from sys.path.\\n', '__file__': '/home/sumedh/.local/lib/python3.5/site-packages/ipykernel_launcher.py', '__loader__': <_frozen_importlib_external.SourceFileLoader object>, '__name__': '__main__', '__package__': '', '__spec__': ModuleSpec(name='ipykernel_launcher', loader=<_f...b/python3.5/site-packages/ipykernel_launcher.py'), 'app': <module 'ipykernel.kernelapp' from '/home/sumedh.../python3.5/site-packages/ipykernel/kernelapp.py'>, 'sys': <module 'sys' (built-in)>}, init_globals=None, mod_name='__main__', mod_spec=ModuleSpec(name='ipykernel_launcher', loader=<_f...b/python3.5/site-packages/ipykernel_launcher.py'), pkg_name='', script_name=None)\n     80                        __cached__ = cached,\n     81                        __doc__ = None,\n     82                        __loader__ = loader,\n     83                        __package__ = pkg_name,\n     84                        __spec__ = mod_spec)\n---> 85     exec(code, run_globals)\n        code = <code object <module> at 0x7f4eceed60c0, file \"/...3.5/site-packages/ipykernel_launcher.py\", line 5>\n        run_globals = {'__builtins__': <module 'builtins' (built-in)>, '__cached__': '/home/sumedh/.local/lib/python3.5/site-packages/__pycache__/ipykernel_launcher.cpython-35.pyc', '__doc__': 'Entry point for launching an IPython kernel.\\n\\nTh...orts until\\nafter removing the cwd from sys.path.\\n', '__file__': '/home/sumedh/.local/lib/python3.5/site-packages/ipykernel_launcher.py', '__loader__': <_frozen_importlib_external.SourceFileLoader object>, '__name__': '__main__', '__package__': '', '__spec__': ModuleSpec(name='ipykernel_launcher', loader=<_f...b/python3.5/site-packages/ipykernel_launcher.py'), 'app': <module 'ipykernel.kernelapp' from '/home/sumedh.../python3.5/site-packages/ipykernel/kernelapp.py'>, 'sys': <module 'sys' (built-in)>}\n     86     return run_globals\n     87 \n     88 def _run_module_code(code, init_globals=None,\n     89                     mod_name=None, mod_spec=None,\n\n...........................................................................\n/home/sumedh/.local/lib/python3.5/site-packages/ipykernel_launcher.py in <module>()\n     11     # This is added back by InteractiveShellApp.init_path()\n     12     if sys.path[0] == '':\n     13         del sys.path[0]\n     14 \n     15     from ipykernel import kernelapp as app\n---> 16     app.launch_new_instance()\n\n...........................................................................\n/home/sumedh/.local/lib/python3.5/site-packages/traitlets/config/application.py in launch_instance(cls=<class 'ipykernel.kernelapp.IPKernelApp'>, argv=None, **kwargs={})\n    653 \n    654         If a global instance already exists, this reinitializes and starts it\n    655         \"\"\"\n    656         app = cls.instance(**kwargs)\n    657         app.initialize(argv)\n--> 658         app.start()\n        app.start = <bound method IPKernelApp.start of <ipykernel.kernelapp.IPKernelApp object>>\n    659 \n    660 #-----------------------------------------------------------------------------\n    661 # utility functions, for convenience\n    662 #-----------------------------------------------------------------------------\n\n...........................................................................\n/home/sumedh/.local/lib/python3.5/site-packages/ipykernel/kernelapp.py in start(self=<ipykernel.kernelapp.IPKernelApp object>)\n    481         if self.poller is not None:\n    482             self.poller.start()\n    483         self.kernel.start()\n    484         self.io_loop = ioloop.IOLoop.current()\n    485         try:\n--> 486             self.io_loop.start()\n        self.io_loop.start = <bound method BaseAsyncIOLoop.start of <tornado.platform.asyncio.AsyncIOMainLoop object>>\n    487         except KeyboardInterrupt:\n    488             pass\n    489 \n    490 launch_new_instance = IPKernelApp.launch_instance\n\n...........................................................................\n/home/sumedh/.local/lib/python3.5/site-packages/tornado/platform/asyncio.py in start(self=<tornado.platform.asyncio.AsyncIOMainLoop object>)\n    127         except (RuntimeError, AssertionError):\n    128             old_loop = None\n    129         try:\n    130             self._setup_logging()\n    131             asyncio.set_event_loop(self.asyncio_loop)\n--> 132             self.asyncio_loop.run_forever()\n        self.asyncio_loop.run_forever = <bound method BaseEventLoop.run_forever of <_Uni...EventLoop running=True closed=False debug=False>>\n    133         finally:\n    134             asyncio.set_event_loop(old_loop)\n    135 \n    136     def stop(self):\n\n...........................................................................\n/usr/lib/python3.5/asyncio/base_events.py in run_forever(self=<_UnixSelectorEventLoop running=True closed=False debug=False>)\n    340             raise RuntimeError('Event loop is running.')\n    341         self._set_coroutine_wrapper(self._debug)\n    342         self._thread_id = threading.get_ident()\n    343         try:\n    344             while True:\n--> 345                 self._run_once()\n        self._run_once = <bound method BaseEventLoop._run_once of <_UnixS...EventLoop running=True closed=False debug=False>>\n    346                 if self._stopping:\n    347                     break\n    348         finally:\n    349             self._stopping = False\n\n...........................................................................\n/usr/lib/python3.5/asyncio/base_events.py in _run_once(self=<_UnixSelectorEventLoop running=True closed=False debug=False>)\n   1307                         logger.warning('Executing %s took %.3f seconds',\n   1308                                        _format_handle(handle), dt)\n   1309                 finally:\n   1310                     self._current_handle = None\n   1311             else:\n-> 1312                 handle._run()\n        handle._run = <bound method Handle._run of <Handle IOLoop._run_callback(functools.par...7f4e863b16a8>))>>\n   1313         handle = None  # Needed to break cycles when an exception occurs.\n   1314 \n   1315     def _set_coroutine_wrapper(self, enabled):\n   1316         try:\n\n...........................................................................\n/usr/lib/python3.5/asyncio/events.py in _run(self=<Handle IOLoop._run_callback(functools.par...7f4e863b16a8>))>)\n    120             self._callback = None\n    121             self._args = None\n    122 \n    123     def _run(self):\n    124         try:\n--> 125             self._callback(*self._args)\n        self._callback = <bound method IOLoop._run_callback of <tornado.platform.asyncio.AsyncIOMainLoop object>>\n        self._args = (functools.partial(<function wrap.<locals>.null_wrapper at 0x7f4e863b16a8>),)\n    126         except Exception as exc:\n    127             cb = _format_callback_source(self._callback, self._args)\n    128             msg = 'Exception in callback {}'.format(cb)\n    129             context = {\n\n...........................................................................\n/home/sumedh/.local/lib/python3.5/site-packages/tornado/ioloop.py in _run_callback(self=<tornado.platform.asyncio.AsyncIOMainLoop object>, callback=functools.partial(<function wrap.<locals>.null_wrapper at 0x7f4e863b16a8>))\n    753         \"\"\"Runs a callback with error handling.\n    754 \n    755         For use in subclasses.\n    756         \"\"\"\n    757         try:\n--> 758             ret = callback()\n        ret = undefined\n        callback = functools.partial(<function wrap.<locals>.null_wrapper at 0x7f4e863b16a8>)\n    759             if ret is not None:\n    760                 from tornado import gen\n    761                 # Functions that return Futures typically swallow all\n    762                 # exceptions and store them in the Future.  If a Future\n\n...........................................................................\n/home/sumedh/.local/lib/python3.5/site-packages/tornado/stack_context.py in null_wrapper(*args=(), **kwargs={})\n    295         # Fast path when there are no active contexts.\n    296         def null_wrapper(*args, **kwargs):\n    297             try:\n    298                 current_state = _state.contexts\n    299                 _state.contexts = cap_contexts[0]\n--> 300                 return fn(*args, **kwargs)\n        args = ()\n        kwargs = {}\n    301             finally:\n    302                 _state.contexts = current_state\n    303         null_wrapper._wrapped = True\n    304         return null_wrapper\n\n...........................................................................\n/home/sumedh/.local/lib/python3.5/site-packages/zmq/eventloop/zmqstream.py in <lambda>()\n    531             return\n    532 \n    533         if state & self.socket.events:\n    534             # events still exist that haven't been processed\n    535             # explicitly schedule handling to avoid missing events due to edge-triggered FDs\n--> 536             self.io_loop.add_callback(lambda : self._handle_events(self.socket, 0))\n    537 \n    538     def _init_io_state(self):\n    539         \"\"\"initialize the ioloop event handler\"\"\"\n    540         with stack_context.NullContext():\n\n...........................................................................\n/home/sumedh/.local/lib/python3.5/site-packages/zmq/eventloop/zmqstream.py in _handle_events(self=<zmq.eventloop.zmqstream.ZMQStream object>, fd=<zmq.sugar.socket.Socket object>, events=0)\n    445             return\n    446         zmq_events = self.socket.EVENTS\n    447         try:\n    448             # dispatch events:\n    449             if zmq_events & zmq.POLLIN and self.receiving():\n--> 450                 self._handle_recv()\n        self._handle_recv = <bound method ZMQStream._handle_recv of <zmq.eventloop.zmqstream.ZMQStream object>>\n    451                 if not self.socket:\n    452                     return\n    453             if zmq_events & zmq.POLLOUT and self.sending():\n    454                 self._handle_send()\n\n...........................................................................\n/home/sumedh/.local/lib/python3.5/site-packages/zmq/eventloop/zmqstream.py in _handle_recv(self=<zmq.eventloop.zmqstream.ZMQStream object>)\n    475             else:\n    476                 raise\n    477         else:\n    478             if self._recv_callback:\n    479                 callback = self._recv_callback\n--> 480                 self._run_callback(callback, msg)\n        self._run_callback = <bound method ZMQStream._run_callback of <zmq.eventloop.zmqstream.ZMQStream object>>\n        callback = <function wrap.<locals>.null_wrapper>\n        msg = [<zmq.sugar.frame.Frame object>, <zmq.sugar.frame.Frame object>, <zmq.sugar.frame.Frame object>, <zmq.sugar.frame.Frame object>, <zmq.sugar.frame.Frame object>, <zmq.sugar.frame.Frame object>, <zmq.sugar.frame.Frame object>]\n    481         \n    482 \n    483     def _handle_send(self):\n    484         \"\"\"Handle a send event.\"\"\"\n\n...........................................................................\n/home/sumedh/.local/lib/python3.5/site-packages/zmq/eventloop/zmqstream.py in _run_callback(self=<zmq.eventloop.zmqstream.ZMQStream object>, callback=<function wrap.<locals>.null_wrapper>, *args=([<zmq.sugar.frame.Frame object>, <zmq.sugar.frame.Frame object>, <zmq.sugar.frame.Frame object>, <zmq.sugar.frame.Frame object>, <zmq.sugar.frame.Frame object>, <zmq.sugar.frame.Frame object>, <zmq.sugar.frame.Frame object>],), **kwargs={})\n    427         close our socket.\"\"\"\n    428         try:\n    429             # Use a NullContext to ensure that all StackContexts are run\n    430             # inside our blanket exception handler rather than outside.\n    431             with stack_context.NullContext():\n--> 432                 callback(*args, **kwargs)\n        callback = <function wrap.<locals>.null_wrapper>\n        args = ([<zmq.sugar.frame.Frame object>, <zmq.sugar.frame.Frame object>, <zmq.sugar.frame.Frame object>, <zmq.sugar.frame.Frame object>, <zmq.sugar.frame.Frame object>, <zmq.sugar.frame.Frame object>, <zmq.sugar.frame.Frame object>],)\n        kwargs = {}\n    433         except:\n    434             gen_log.error(\"Uncaught exception in ZMQStream callback\",\n    435                           exc_info=True)\n    436             # Re-raise the exception so that IOLoop.handle_callback_exception\n\n...........................................................................\n/home/sumedh/.local/lib/python3.5/site-packages/tornado/stack_context.py in null_wrapper(*args=([<zmq.sugar.frame.Frame object>, <zmq.sugar.frame.Frame object>, <zmq.sugar.frame.Frame object>, <zmq.sugar.frame.Frame object>, <zmq.sugar.frame.Frame object>, <zmq.sugar.frame.Frame object>, <zmq.sugar.frame.Frame object>],), **kwargs={})\n    295         # Fast path when there are no active contexts.\n    296         def null_wrapper(*args, **kwargs):\n    297             try:\n    298                 current_state = _state.contexts\n    299                 _state.contexts = cap_contexts[0]\n--> 300                 return fn(*args, **kwargs)\n        args = ([<zmq.sugar.frame.Frame object>, <zmq.sugar.frame.Frame object>, <zmq.sugar.frame.Frame object>, <zmq.sugar.frame.Frame object>, <zmq.sugar.frame.Frame object>, <zmq.sugar.frame.Frame object>, <zmq.sugar.frame.Frame object>],)\n        kwargs = {}\n    301             finally:\n    302                 _state.contexts = current_state\n    303         null_wrapper._wrapped = True\n    304         return null_wrapper\n\n...........................................................................\n/home/sumedh/.local/lib/python3.5/site-packages/ipykernel/kernelbase.py in dispatcher(msg=[<zmq.sugar.frame.Frame object>, <zmq.sugar.frame.Frame object>, <zmq.sugar.frame.Frame object>, <zmq.sugar.frame.Frame object>, <zmq.sugar.frame.Frame object>, <zmq.sugar.frame.Frame object>, <zmq.sugar.frame.Frame object>])\n    278         if self.control_stream:\n    279             self.control_stream.on_recv(self.dispatch_control, copy=False)\n    280 \n    281         def make_dispatcher(stream):\n    282             def dispatcher(msg):\n--> 283                 return self.dispatch_shell(stream, msg)\n        msg = [<zmq.sugar.frame.Frame object>, <zmq.sugar.frame.Frame object>, <zmq.sugar.frame.Frame object>, <zmq.sugar.frame.Frame object>, <zmq.sugar.frame.Frame object>, <zmq.sugar.frame.Frame object>, <zmq.sugar.frame.Frame object>]\n    284             return dispatcher\n    285 \n    286         for s in self.shell_streams:\n    287             s.on_recv(make_dispatcher(s), copy=False)\n\n...........................................................................\n/home/sumedh/.local/lib/python3.5/site-packages/ipykernel/kernelbase.py in dispatch_shell(self=<ipykernel.ipkernel.IPythonKernel object>, stream=<zmq.eventloop.zmqstream.ZMQStream object>, msg={'buffers': [], 'content': {'allow_stdin': True, 'code': 'from sklearn.model_selection import RandomizedSe...le\\ngrid_search.fit(train_x, train_y.astype(int))\\n', 'silent': False, 'stop_on_error': True, 'store_history': True, 'user_expressions': {}}, 'header': {'date': datetime.datetime(2018, 9, 28, 11, 6, 21, 742480, tzinfo=tzutc()), 'msg_id': '0465aa2644804347a96c85c2f451528e', 'msg_type': 'execute_request', 'session': '7c5700c69f8643198885b8c387734fe9', 'username': 'username', 'version': '5.2'}, 'metadata': {}, 'msg_id': '0465aa2644804347a96c85c2f451528e', 'msg_type': 'execute_request', 'parent_header': {}})\n    228             self.log.warn(\"Unknown message type: %r\", msg_type)\n    229         else:\n    230             self.log.debug(\"%s: %s\", msg_type, msg)\n    231             self.pre_handler_hook()\n    232             try:\n--> 233                 handler(stream, idents, msg)\n        handler = <bound method Kernel.execute_request of <ipykernel.ipkernel.IPythonKernel object>>\n        stream = <zmq.eventloop.zmqstream.ZMQStream object>\n        idents = [b'7c5700c69f8643198885b8c387734fe9']\n        msg = {'buffers': [], 'content': {'allow_stdin': True, 'code': 'from sklearn.model_selection import RandomizedSe...le\\ngrid_search.fit(train_x, train_y.astype(int))\\n', 'silent': False, 'stop_on_error': True, 'store_history': True, 'user_expressions': {}}, 'header': {'date': datetime.datetime(2018, 9, 28, 11, 6, 21, 742480, tzinfo=tzutc()), 'msg_id': '0465aa2644804347a96c85c2f451528e', 'msg_type': 'execute_request', 'session': '7c5700c69f8643198885b8c387734fe9', 'username': 'username', 'version': '5.2'}, 'metadata': {}, 'msg_id': '0465aa2644804347a96c85c2f451528e', 'msg_type': 'execute_request', 'parent_header': {}}\n    234             except Exception:\n    235                 self.log.error(\"Exception in message handler:\", exc_info=True)\n    236             finally:\n    237                 self.post_handler_hook()\n\n...........................................................................\n/home/sumedh/.local/lib/python3.5/site-packages/ipykernel/kernelbase.py in execute_request(self=<ipykernel.ipkernel.IPythonKernel object>, stream=<zmq.eventloop.zmqstream.ZMQStream object>, ident=[b'7c5700c69f8643198885b8c387734fe9'], parent={'buffers': [], 'content': {'allow_stdin': True, 'code': 'from sklearn.model_selection import RandomizedSe...le\\ngrid_search.fit(train_x, train_y.astype(int))\\n', 'silent': False, 'stop_on_error': True, 'store_history': True, 'user_expressions': {}}, 'header': {'date': datetime.datetime(2018, 9, 28, 11, 6, 21, 742480, tzinfo=tzutc()), 'msg_id': '0465aa2644804347a96c85c2f451528e', 'msg_type': 'execute_request', 'session': '7c5700c69f8643198885b8c387734fe9', 'username': 'username', 'version': '5.2'}, 'metadata': {}, 'msg_id': '0465aa2644804347a96c85c2f451528e', 'msg_type': 'execute_request', 'parent_header': {}})\n    394         if not silent:\n    395             self.execution_count += 1\n    396             self._publish_execute_input(code, parent, self.execution_count)\n    397 \n    398         reply_content = self.do_execute(code, silent, store_history,\n--> 399                                         user_expressions, allow_stdin)\n        user_expressions = {}\n        allow_stdin = True\n    400 \n    401         # Flush output before sending the reply.\n    402         sys.stdout.flush()\n    403         sys.stderr.flush()\n\n...........................................................................\n/home/sumedh/.local/lib/python3.5/site-packages/ipykernel/ipkernel.py in do_execute(self=<ipykernel.ipkernel.IPythonKernel object>, code='from sklearn.model_selection import RandomizedSe...le\\ngrid_search.fit(train_x, train_y.astype(int))\\n', silent=False, store_history=True, user_expressions={}, allow_stdin=True)\n    203 \n    204         self._forward_input(allow_stdin)\n    205 \n    206         reply_content = {}\n    207         try:\n--> 208             res = shell.run_cell(code, store_history=store_history, silent=silent)\n        res = undefined\n        shell.run_cell = <bound method ZMQInteractiveShell.run_cell of <ipykernel.zmqshell.ZMQInteractiveShell object>>\n        code = 'from sklearn.model_selection import RandomizedSe...le\\ngrid_search.fit(train_x, train_y.astype(int))\\n'\n        store_history = True\n        silent = False\n    209         finally:\n    210             self._restore_input()\n    211 \n    212         if res.error_before_exec is not None:\n\n...........................................................................\n/home/sumedh/.local/lib/python3.5/site-packages/ipykernel/zmqshell.py in run_cell(self=<ipykernel.zmqshell.ZMQInteractiveShell object>, *args=('from sklearn.model_selection import RandomizedSe...le\\ngrid_search.fit(train_x, train_y.astype(int))\\n',), **kwargs={'silent': False, 'store_history': True})\n    532             )\n    533         self.payload_manager.write_payload(payload)\n    534 \n    535     def run_cell(self, *args, **kwargs):\n    536         self._last_traceback = None\n--> 537         return super(ZMQInteractiveShell, self).run_cell(*args, **kwargs)\n        self.run_cell = <bound method ZMQInteractiveShell.run_cell of <ipykernel.zmqshell.ZMQInteractiveShell object>>\n        args = ('from sklearn.model_selection import RandomizedSe...le\\ngrid_search.fit(train_x, train_y.astype(int))\\n',)\n        kwargs = {'silent': False, 'store_history': True}\n    538 \n    539     def _showtraceback(self, etype, evalue, stb):\n    540         # try to preserve ordering of tracebacks and print statements\n    541         sys.stdout.flush()\n\n...........................................................................\n/home/sumedh/.local/lib/python3.5/site-packages/IPython/core/interactiveshell.py in run_cell(self=<ipykernel.zmqshell.ZMQInteractiveShell object>, raw_cell='from sklearn.model_selection import RandomizedSe...le\\ngrid_search.fit(train_x, train_y.astype(int))\\n', store_history=True, silent=False, shell_futures=True)\n   2657         -------\n   2658         result : :class:`ExecutionResult`\n   2659         \"\"\"\n   2660         try:\n   2661             result = self._run_cell(\n-> 2662                 raw_cell, store_history, silent, shell_futures)\n        raw_cell = 'from sklearn.model_selection import RandomizedSe...le\\ngrid_search.fit(train_x, train_y.astype(int))\\n'\n        store_history = True\n        silent = False\n        shell_futures = True\n   2663         finally:\n   2664             self.events.trigger('post_execute')\n   2665             if not silent:\n   2666                 self.events.trigger('post_run_cell', result)\n\n...........................................................................\n/home/sumedh/.local/lib/python3.5/site-packages/IPython/core/interactiveshell.py in _run_cell(self=<ipykernel.zmqshell.ZMQInteractiveShell object>, raw_cell='from sklearn.model_selection import RandomizedSe...le\\ngrid_search.fit(train_x, train_y.astype(int))\\n', store_history=True, silent=False, shell_futures=True)\n   2780                 self.displayhook.exec_result = result\n   2781 \n   2782                 # Execute the user code\n   2783                 interactivity = 'none' if silent else self.ast_node_interactivity\n   2784                 has_raised = self.run_ast_nodes(code_ast.body, cell_name,\n-> 2785                    interactivity=interactivity, compiler=compiler, result=result)\n        interactivity = 'last_expr'\n        compiler = <IPython.core.compilerop.CachingCompiler object>\n   2786                 \n   2787                 self.last_execution_succeeded = not has_raised\n   2788                 self.last_execution_result = result\n   2789 \n\n...........................................................................\n/home/sumedh/.local/lib/python3.5/site-packages/IPython/core/interactiveshell.py in run_ast_nodes(self=<ipykernel.zmqshell.ZMQInteractiveShell object>, nodelist=[<_ast.ImportFrom object>, <_ast.ImportFrom object>, <_ast.ImportFrom object>, <_ast.Assign object>, <_ast.Assign object>, <_ast.Assign object>, <_ast.Assign object>, <_ast.Expr object>], cell_name='<ipython-input-72-3a9b3f04f686>', interactivity='last', compiler=<IPython.core.compilerop.CachingCompiler object>, result=<ExecutionResult object at 7f4e808077b8, executi...rue silent=False shell_futures=True> result=None>)\n   2904                     return True\n   2905 \n   2906             for i, node in enumerate(to_run_interactive):\n   2907                 mod = ast.Interactive([node])\n   2908                 code = compiler(mod, cell_name, \"single\")\n-> 2909                 if self.run_code(code, result):\n        self.run_code = <bound method InteractiveShell.run_code of <ipykernel.zmqshell.ZMQInteractiveShell object>>\n        code = <code object <module> at 0x7f4e80d625d0, file \"<ipython-input-72-3a9b3f04f686>\", line 12>\n        result = <ExecutionResult object at 7f4e808077b8, executi...rue silent=False shell_futures=True> result=None>\n   2910                     return True\n   2911 \n   2912             # Flush softspace\n   2913             if softspace(sys.stdout, 0):\n\n...........................................................................\n/home/sumedh/.local/lib/python3.5/site-packages/IPython/core/interactiveshell.py in run_code(self=<ipykernel.zmqshell.ZMQInteractiveShell object>, code_obj=<code object <module> at 0x7f4e80d625d0, file \"<ipython-input-72-3a9b3f04f686>\", line 12>, result=<ExecutionResult object at 7f4e808077b8, executi...rue silent=False shell_futures=True> result=None>)\n   2958         outflag = True  # happens in more places, so it's easier as default\n   2959         try:\n   2960             try:\n   2961                 self.hooks.pre_run_code_hook()\n   2962                 #rprint('Running code', repr(code_obj)) # dbg\n-> 2963                 exec(code_obj, self.user_global_ns, self.user_ns)\n        code_obj = <code object <module> at 0x7f4e80d625d0, file \"<ipython-input-72-3a9b3f04f686>\", line 12>\n        self.user_global_ns = {'GridSearchCV': <class 'sklearn.model_selection._search.GridSearchCV'>, 'In': ['', 'from matplotlib import pyplot as plt\\nget_ipython...m sklearn.model_selection import train_test_split', 'from sklearn.preprocessing import LabelEncoder', \"df = pd.read_csv('dataset_final_bp.csv', names=[..., 'o_size', 'o_loc_type', 'o_type', 'i_o_sales'])\", \"df['o_id'].value_counts()\", \"df['i_id'].value_counts()\", \"df[df['i_id'] == 'FDX04']\", \"df[df['o_id'] == 'OUT018'].info()\", \"for x in df.columns.tolist():\\n    if x[0] == 'o':\\n        print(df[x].value_counts())\", 'for x in df.columns.tolist():\\n    if x[0] == \\'i\\'... x != \"i_id\":\\n        print(df[x].value_counts())', \"df['i_fat_content'].value_counts()\", 'df.info()', 'df.isnull().sum()', \"df['i_weight'] = df.groupby('i_id').transform(lambda x: x.fillna(x.mean()))\", \"df['o_size'] = df['o_size'].fillna(-1)\", \"df['o_size'].replace('Small', 0, inplace=True)\\nd...ue)\\ndf['o_size'].replace('High', 2, inplace=True)\", \"df['o_size'] += 1\", \"df['o_size'].value_counts()\", \"df['o_size'].replace('Small', 0, inplace=True)\\nd...ue)\\ndf['o_size'].replace('High', 2, inplace=True)\", \"df['o_size'].isnull().sum()\", ...], 'LabelEncoder': <class 'sklearn.preprocessing.label.LabelEncoder'>, 'Out': {4: OUT027    935\nOUT013    931\nOUT045    929\nOUT017...010    555\nOUT019    528\nName: o_id, dtype: int64, 5: FDW13    10\nFDP25     9\nFDW49     9\nFDQ40     9\n...DY43     1\nName: i_id, Length: 1559, dtype: int64, 6:        i_id  i_weight i_fat_content  i_visibilit...   623.1888  \n6984   814.9392  \n7798   335.5632  , 10: Low Fat    5083\nRegular    2881\nLF          312\n...low fat     111\nName: i_fat_content, dtype: int64, 12: i_id                       0\ni_weight           ...      0\ni_o_sales                  0\ndtype: int64, 17: 2    2786\n0    2410\n1    2373\n3     931\nName: o_size, dtype: int64, 19: 0, 20: 0, 22: FDW13    10\nFDP25     9\nFDW49     9\nFDQ40     9\n...DY43     1\nName: i_id, Length: 1559, dtype: int64, 25: i_id                     0\ni_weight             ...        0\ni_o_sales               23\ndtype: int64, ...}, 'RandomizedSearchCV': <class 'sklearn.model_selection._search.RandomizedSearchCV'>, 'StratifiedKFold': <class 'sklearn.model_selection._split.StratifiedKFold'>, '_': XGBRegressor(base_score=0.5, booster='gbtree', c...ht=1,\n       seed=None, silent=True, subsample=1), '_10': Low Fat    5083\nRegular    2881\nLF          312\n...low fat     111\nName: i_fat_content, dtype: int64, '_12': i_id                       0\ni_weight           ...      0\ni_o_sales                  0\ndtype: int64, '_17': 2    2786\n0    2410\n1    2373\n3     931\nName: o_size, dtype: int64, ...}\n        self.user_ns = {'GridSearchCV': <class 'sklearn.model_selection._search.GridSearchCV'>, 'In': ['', 'from matplotlib import pyplot as plt\\nget_ipython...m sklearn.model_selection import train_test_split', 'from sklearn.preprocessing import LabelEncoder', \"df = pd.read_csv('dataset_final_bp.csv', names=[..., 'o_size', 'o_loc_type', 'o_type', 'i_o_sales'])\", \"df['o_id'].value_counts()\", \"df['i_id'].value_counts()\", \"df[df['i_id'] == 'FDX04']\", \"df[df['o_id'] == 'OUT018'].info()\", \"for x in df.columns.tolist():\\n    if x[0] == 'o':\\n        print(df[x].value_counts())\", 'for x in df.columns.tolist():\\n    if x[0] == \\'i\\'... x != \"i_id\":\\n        print(df[x].value_counts())', \"df['i_fat_content'].value_counts()\", 'df.info()', 'df.isnull().sum()', \"df['i_weight'] = df.groupby('i_id').transform(lambda x: x.fillna(x.mean()))\", \"df['o_size'] = df['o_size'].fillna(-1)\", \"df['o_size'].replace('Small', 0, inplace=True)\\nd...ue)\\ndf['o_size'].replace('High', 2, inplace=True)\", \"df['o_size'] += 1\", \"df['o_size'].value_counts()\", \"df['o_size'].replace('Small', 0, inplace=True)\\nd...ue)\\ndf['o_size'].replace('High', 2, inplace=True)\", \"df['o_size'].isnull().sum()\", ...], 'LabelEncoder': <class 'sklearn.preprocessing.label.LabelEncoder'>, 'Out': {4: OUT027    935\nOUT013    931\nOUT045    929\nOUT017...010    555\nOUT019    528\nName: o_id, dtype: int64, 5: FDW13    10\nFDP25     9\nFDW49     9\nFDQ40     9\n...DY43     1\nName: i_id, Length: 1559, dtype: int64, 6:        i_id  i_weight i_fat_content  i_visibilit...   623.1888  \n6984   814.9392  \n7798   335.5632  , 10: Low Fat    5083\nRegular    2881\nLF          312\n...low fat     111\nName: i_fat_content, dtype: int64, 12: i_id                       0\ni_weight           ...      0\ni_o_sales                  0\ndtype: int64, 17: 2    2786\n0    2410\n1    2373\n3     931\nName: o_size, dtype: int64, 19: 0, 20: 0, 22: FDW13    10\nFDP25     9\nFDW49     9\nFDQ40     9\n...DY43     1\nName: i_id, Length: 1559, dtype: int64, 25: i_id                     0\ni_weight             ...        0\ni_o_sales               23\ndtype: int64, ...}, 'RandomizedSearchCV': <class 'sklearn.model_selection._search.RandomizedSearchCV'>, 'StratifiedKFold': <class 'sklearn.model_selection._split.StratifiedKFold'>, '_': XGBRegressor(base_score=0.5, booster='gbtree', c...ht=1,\n       seed=None, silent=True, subsample=1), '_10': Low Fat    5083\nRegular    2881\nLF          312\n...low fat     111\nName: i_fat_content, dtype: int64, '_12': i_id                       0\ni_weight           ...      0\ni_o_sales                  0\ndtype: int64, '_17': 2    2786\n0    2410\n1    2373\n3     931\nName: o_size, dtype: int64, ...}\n   2964             finally:\n   2965                 # Reset our crash handler in place\n   2966                 sys.excepthook = old_excepthook\n   2967         except SystemExit as e:\n\n...........................................................................\n/home/sumedh/kaggle/MS/problem2/<ipython-input-72-3a9b3f04f686> in <module>()\n      7 skf = StratifiedKFold(n_splits=folds, shuffle = True, random_state = 1001)\n      8 \n      9 grid_search = GridSearchCV(model, n_jobs=4, cv=skf.split(train_x,train_y.astype(int)), verbose=3, param_grid=params )\n     10 \n     11 # Here we go # timing starts from this point for \"start_time\" variable\n---> 12 grid_search.fit(train_x, train_y.astype(int))\n\n...........................................................................\n/usr/local/lib/python3.5/dist-packages/sklearn/model_selection/_search.py in fit(self=GridSearchCV(cv=<generator object _BaseKFold.spl...ain_score='warn',\n       scoring=None, verbose=3), X=      i_weight  i_visibility     i_mrp  o_size  ...                     5  \n\n[8500 rows x 9 columns], y=0       3735\n1        443\n2       2097\n3        ...  549\nName: i_o_sales, Length: 8500, dtype: int64, groups=None, **fit_params={})\n    634                                   return_train_score=self.return_train_score,\n    635                                   return_n_test_samples=True,\n    636                                   return_times=True, return_parameters=False,\n    637                                   error_score=self.error_score)\n    638           for parameters, (train, test) in product(candidate_params,\n--> 639                                                    cv.split(X, y, groups)))\n        cv.split = <bound method _CVIterableWrapper.split of _CVIte... 8498]), array([ 149,  217, ..., 8497, 8499]))])>\n        X =       i_weight  i_visibility     i_mrp  o_size  ...                     5  \n\n[8500 rows x 9 columns]\n        y = 0       3735\n1        443\n2       2097\n3        ...  549\nName: i_o_sales, Length: 8500, dtype: int64\n        groups = None\n    640 \n    641         # if one choose to see train score, \"out\" will contain train score info\n    642         if self.return_train_score:\n    643             (train_score_dicts, test_score_dicts, test_sample_counts, fit_time,\n\n...........................................................................\n/usr/local/lib/python3.5/dist-packages/sklearn/externals/joblib/parallel.py in __call__(self=Parallel(n_jobs=4), iterable=<generator object BaseSearchCV.fit.<locals>.<genexpr>>)\n    784             if pre_dispatch == \"all\" or n_jobs == 1:\n    785                 # The iterable was consumed all at once by the above for loop.\n    786                 # No need to wait for async callbacks to trigger to\n    787                 # consumption.\n    788                 self._iterating = False\n--> 789             self.retrieve()\n        self.retrieve = <bound method Parallel.retrieve of Parallel(n_jobs=4)>\n    790             # Make sure that we get a last message telling us we are done\n    791             elapsed_time = time.time() - self._start_time\n    792             self._print('Done %3i out of %3i | elapsed: %s finished',\n    793                         (len(self._output), len(self._output),\n\n---------------------------------------------------------------------------\nSub-process traceback:\n---------------------------------------------------------------------------\nValueError                                         Fri Sep 28 16:36:38 2018\nPID: 10892                                   Python 3.5.2: /usr/bin/python3\n...........................................................................\n/usr/local/lib/python3.5/dist-packages/sklearn/externals/joblib/parallel.py in __call__(self=<sklearn.externals.joblib.parallel.BatchedCalls object>)\n    126     def __init__(self, iterator_slice):\n    127         self.items = list(iterator_slice)\n    128         self._size = len(self.items)\n    129 \n    130     def __call__(self):\n--> 131         return [func(*args, **kwargs) for func, args, kwargs in self.items]\n        self.items = [(<function _fit_and_score>, (XGBRegressor(base_score=0.5, booster='gbtree', c...ht=1,\n       seed=None, silent=True, subsample=1),       i_weight  i_visibility     i_mrp  o_size  ...                     5  \n\n[8500 rows x 9 columns], 0       3735\n1        443\n2       2097\n3        ...  549\nName: i_o_sales, Length: 8500, dtype: int64, {'score': <function _passthrough_scorer>}, array([   0,    1,    2, ..., 8496, 8497, 8499]), array([   3,   10,   14, ..., 8488, 8492, 8498]), 3, {'colsample_bytr   ee': 0.4, 'gamma': 0.5, 'max_depth': 3, 'min_child_weight': 1, 'subsample': 0.4}), {'error_score': 'raise', 'fit_params': {}, 'return_n_test_samples': True, 'return_parameters': False, 'return_times': True, 'return_train_score': 'warn'})]\n    132 \n    133     def __len__(self):\n    134         return self._size\n    135 \n\n...........................................................................\n/usr/local/lib/python3.5/dist-packages/sklearn/externals/joblib/parallel.py in <listcomp>(.0=<list_iterator object>)\n    126     def __init__(self, iterator_slice):\n    127         self.items = list(iterator_slice)\n    128         self._size = len(self.items)\n    129 \n    130     def __call__(self):\n--> 131         return [func(*args, **kwargs) for func, args, kwargs in self.items]\n        func = <function _fit_and_score>\n        args = (XGBRegressor(base_score=0.5, booster='gbtree', c...ht=1,\n       seed=None, silent=True, subsample=1),       i_weight  i_visibility     i_mrp  o_size  ...                     5  \n\n[8500 rows x 9 columns], 0       3735\n1        443\n2       2097\n3        ...  549\nName: i_o_sales, Length: 8500, dtype: int64, {'score': <function _passthrough_scorer>}, array([   0,    1,    2, ..., 8496, 8497, 8499]), array([   3,   10,   14, ..., 8488, 8492, 8498]), 3, {'colsample_bytr   ee': 0.4, 'gamma': 0.5, 'max_depth': 3, 'min_child_weight': 1, 'subsample': 0.4})\n        kwargs = {'error_score': 'raise', 'fit_params': {}, 'return_n_test_samples': True, 'return_parameters': False, 'return_times': True, 'return_train_score': 'warn'}\n    132 \n    133     def __len__(self):\n    134         return self._size\n    135 \n\n...........................................................................\n/usr/local/lib/python3.5/dist-packages/sklearn/model_selection/_validation.py in _fit_and_score(estimator=XGBRegressor(base_score=0.5, booster='gbtree', c...ht=1,\n       seed=None, silent=True, subsample=1), X=      i_weight  i_visibility     i_mrp  o_size  ...                     5  \n\n[8500 rows x 9 columns], y=0       3735\n1        443\n2       2097\n3        ...  549\nName: i_o_sales, Length: 8500, dtype: int64, scorer={'score': <function _passthrough_scorer>}, train=array([   0,    1,    2, ..., 8496, 8497, 8499]), test=array([   3,   10,   14, ..., 8488, 8492, 8498]), verbose=3, parameters={'colsample_bytr   ee': 0.4, 'gamma': 0.5, 'max_depth': 3, 'min_child_weight': 1, 'subsample': 0.4}, fit_params={}, return_train_score='warn', return_parameters=False, return_n_test_samples=True, return_times=True, error_score='raise')\n    439                       for k, v in fit_params.items()])\n    440 \n    441     test_scores = {}\n    442     train_scores = {}\n    443     if parameters is not None:\n--> 444         estimator.set_params(**parameters)\n        estimator.set_params = <bound method BaseEstimator.set_params of XGBReg...t=1,\n       seed=None, silent=True, subsample=1)>\n        parameters = {'colsample_bytr   ee': 0.4, 'gamma': 0.5, 'max_depth': 3, 'min_child_weight': 1, 'subsample': 0.4}\n    445 \n    446     start_time = time.time()\n    447 \n    448     X_train, y_train = _safe_split(estimator, X, y, train)\n\n...........................................................................\n/usr/local/lib/python3.5/dist-packages/sklearn/base.py in set_params(self=XGBRegressor(base_score=0.5, booster='gbtree', c...ht=1,\n       seed=None, silent=True, subsample=1), **params={'colsample_bytr   ee': 0.4, 'gamma': 0.5, 'max_depth': 3, 'min_child_weight': 1, 'subsample': 0.4})\n    269             key, delim, sub_key = key.partition('__')\n    270             if key not in valid_params:\n    271                 raise ValueError('Invalid parameter %s for estimator %s. '\n    272                                  'Check the list of available parameters '\n    273                                  'with `estimator.get_params().keys()`.' %\n--> 274                                  (key, self))\n        key = 'colsample_bytr   ee'\n        self = XGBRegressor(base_score=0.5, booster='gbtree', c...ht=1,\n       seed=None, silent=True, subsample=1)\n    275 \n    276             if delim:\n    277                 nested_params[key][sub_key] = value\n    278             else:\n\nValueError: Invalid parameter colsample_bytr   ee for estimator XGBRegressor(base_score=0.5, booster='gbtree', colsample_bylevel=1,\n       colsample_bytree=0.8, gamma=0.5, learning_rate=0.1,\n       max_delta_step=0, max_depth=3, min_child_weight=1, missing=0,\n       n_estimators=100, n_jobs=1, nthread=None, objective='reg:linear',\n       random_state=0, reg_alpha=0, reg_lambda=1, scale_pos_weight=1,\n       seed=None, silent=True, subsample=1). Check the list of available parameters with `estimator.get_params().keys()`.\n___________________________________________________________________________",
     "output_type": "error",
     "traceback": [
      "\u001b[0;31m---------------------------------------------------------------------------\u001b[0m",
      "\u001b[0;31mRemoteTraceback\u001b[0m                           Traceback (most recent call last)",
      "\u001b[0;31mRemoteTraceback\u001b[0m: \n\"\"\"\nTraceback (most recent call last):\n  File \"/usr/local/lib/python3.5/dist-packages/sklearn/externals/joblib/_parallel_backends.py\", line 350, in __call__\n    return self.func(*args, **kwargs)\n  File \"/usr/local/lib/python3.5/dist-packages/sklearn/externals/joblib/parallel.py\", line 131, in __call__\n    return [func(*args, **kwargs) for func, args, kwargs in self.items]\n  File \"/usr/local/lib/python3.5/dist-packages/sklearn/externals/joblib/parallel.py\", line 131, in <listcomp>\n    return [func(*args, **kwargs) for func, args, kwargs in self.items]\n  File \"/usr/local/lib/python3.5/dist-packages/sklearn/model_selection/_validation.py\", line 444, in _fit_and_score\n    estimator.set_params(**parameters)\n  File \"/usr/local/lib/python3.5/dist-packages/sklearn/base.py\", line 274, in set_params\n    (key, self))\nValueError: Invalid parameter colsample_bytr   ee for estimator XGBRegressor(base_score=0.5, booster='gbtree', colsample_bylevel=1,\n       colsample_bytree=0.8, gamma=0.5, learning_rate=0.1,\n       max_delta_step=0, max_depth=3, min_child_weight=1, missing=0,\n       n_estimators=100, n_jobs=1, nthread=None, objective='reg:linear',\n       random_state=0, reg_alpha=0, reg_lambda=1, scale_pos_weight=1,\n       seed=None, silent=True, subsample=1). Check the list of available parameters with `estimator.get_params().keys()`.\n\nDuring handling of the above exception, another exception occurred:\n\nTraceback (most recent call last):\n  File \"/usr/lib/python3.5/multiprocessing/pool.py\", line 119, in worker\n    result = (True, func(*args, **kwds))\n  File \"/usr/local/lib/python3.5/dist-packages/sklearn/externals/joblib/_parallel_backends.py\", line 359, in __call__\n    raise TransportableException(text, e_type)\nsklearn.externals.joblib.my_exceptions.TransportableException: TransportableException\n___________________________________________________________________________\nValueError                                         Fri Sep 28 16:36:38 2018\nPID: 10892                                   Python 3.5.2: /usr/bin/python3\n...........................................................................\n/usr/local/lib/python3.5/dist-packages/sklearn/externals/joblib/parallel.py in __call__(self=<sklearn.externals.joblib.parallel.BatchedCalls object>)\n    126     def __init__(self, iterator_slice):\n    127         self.items = list(iterator_slice)\n    128         self._size = len(self.items)\n    129 \n    130     def __call__(self):\n--> 131         return [func(*args, **kwargs) for func, args, kwargs in self.items]\n        self.items = [(<function _fit_and_score>, (XGBRegressor(base_score=0.5, booster='gbtree', c...ht=1,\n       seed=None, silent=True, subsample=1),       i_weight  i_visibility     i_mrp  o_size  ...                     5  \n\n[8500 rows x 9 columns], 0       3735\n1        443\n2       2097\n3        ...  549\nName: i_o_sales, Length: 8500, dtype: int64, {'score': <function _passthrough_scorer>}, array([   0,    1,    2, ..., 8496, 8497, 8499]), array([   3,   10,   14, ..., 8488, 8492, 8498]), 3, {'colsample_bytr   ee': 0.4, 'gamma': 0.5, 'max_depth': 3, 'min_child_weight': 1, 'subsample': 0.4}), {'error_score': 'raise', 'fit_params': {}, 'return_n_test_samples': True, 'return_parameters': False, 'return_times': True, 'return_train_score': 'warn'})]\n    132 \n    133     def __len__(self):\n    134         return self._size\n    135 \n\n...........................................................................\n/usr/local/lib/python3.5/dist-packages/sklearn/externals/joblib/parallel.py in <listcomp>(.0=<list_iterator object>)\n    126     def __init__(self, iterator_slice):\n    127         self.items = list(iterator_slice)\n    128         self._size = len(self.items)\n    129 \n    130     def __call__(self):\n--> 131         return [func(*args, **kwargs) for func, args, kwargs in self.items]\n        func = <function _fit_and_score>\n        args = (XGBRegressor(base_score=0.5, booster='gbtree', c...ht=1,\n       seed=None, silent=True, subsample=1),       i_weight  i_visibility     i_mrp  o_size  ...                     5  \n\n[8500 rows x 9 columns], 0       3735\n1        443\n2       2097\n3        ...  549\nName: i_o_sales, Length: 8500, dtype: int64, {'score': <function _passthrough_scorer>}, array([   0,    1,    2, ..., 8496, 8497, 8499]), array([   3,   10,   14, ..., 8488, 8492, 8498]), 3, {'colsample_bytr   ee': 0.4, 'gamma': 0.5, 'max_depth': 3, 'min_child_weight': 1, 'subsample': 0.4})\n        kwargs = {'error_score': 'raise', 'fit_params': {}, 'return_n_test_samples': True, 'return_parameters': False, 'return_times': True, 'return_train_score': 'warn'}\n    132 \n    133     def __len__(self):\n    134         return self._size\n    135 \n\n...........................................................................\n/usr/local/lib/python3.5/dist-packages/sklearn/model_selection/_validation.py in _fit_and_score(estimator=XGBRegressor(base_score=0.5, booster='gbtree', c...ht=1,\n       seed=None, silent=True, subsample=1), X=      i_weight  i_visibility     i_mrp  o_size  ...                     5  \n\n[8500 rows x 9 columns], y=0       3735\n1        443\n2       2097\n3        ...  549\nName: i_o_sales, Length: 8500, dtype: int64, scorer={'score': <function _passthrough_scorer>}, train=array([   0,    1,    2, ..., 8496, 8497, 8499]), test=array([   3,   10,   14, ..., 8488, 8492, 8498]), verbose=3, parameters={'colsample_bytr   ee': 0.4, 'gamma': 0.5, 'max_depth': 3, 'min_child_weight': 1, 'subsample': 0.4}, fit_params={}, return_train_score='warn', return_parameters=False, return_n_test_samples=True, return_times=True, error_score='raise')\n    439                       for k, v in fit_params.items()])\n    440 \n    441     test_scores = {}\n    442     train_scores = {}\n    443     if parameters is not None:\n--> 444         estimator.set_params(**parameters)\n        estimator.set_params = <bound method BaseEstimator.set_params of XGBReg...t=1,\n       seed=None, silent=True, subsample=1)>\n        parameters = {'colsample_bytr   ee': 0.4, 'gamma': 0.5, 'max_depth': 3, 'min_child_weight': 1, 'subsample': 0.4}\n    445 \n    446     start_time = time.time()\n    447 \n    448     X_train, y_train = _safe_split(estimator, X, y, train)\n\n...........................................................................\n/usr/local/lib/python3.5/dist-packages/sklearn/base.py in set_params(self=XGBRegressor(base_score=0.5, booster='gbtree', c...ht=1,\n       seed=None, silent=True, subsample=1), **params={'colsample_bytr   ee': 0.4, 'gamma': 0.5, 'max_depth': 3, 'min_child_weight': 1, 'subsample': 0.4})\n    269             key, delim, sub_key = key.partition('__')\n    270             if key not in valid_params:\n    271                 raise ValueError('Invalid parameter %s for estimator %s. '\n    272                                  'Check the list of available parameters '\n    273                                  'with `estimator.get_params().keys()`.' %\n--> 274                                  (key, self))\n        key = 'colsample_bytr   ee'\n        self = XGBRegressor(base_score=0.5, booster='gbtree', c...ht=1,\n       seed=None, silent=True, subsample=1)\n    275 \n    276             if delim:\n    277                 nested_params[key][sub_key] = value\n    278             else:\n\nValueError: Invalid parameter colsample_bytr   ee for estimator XGBRegressor(base_score=0.5, booster='gbtree', colsample_bylevel=1,\n       colsample_bytree=0.8, gamma=0.5, learning_rate=0.1,\n       max_delta_step=0, max_depth=3, min_child_weight=1, missing=0,\n       n_estimators=100, n_jobs=1, nthread=None, objective='reg:linear',\n       random_state=0, reg_alpha=0, reg_lambda=1, scale_pos_weight=1,\n       seed=None, silent=True, subsample=1). Check the list of available parameters with `estimator.get_params().keys()`.\n___________________________________________________________________________\n\"\"\"",
      "\nThe above exception was the direct cause of the following exception:\n",
      "\u001b[0;31mTransportableException\u001b[0m                    Traceback (most recent call last)",
      "\u001b[0;32m/usr/local/lib/python3.5/dist-packages/sklearn/externals/joblib/parallel.py\u001b[0m in \u001b[0;36mretrieve\u001b[0;34m(self)\u001b[0m\n\u001b[1;32m    698\u001b[0m                 \u001b[0;32mif\u001b[0m \u001b[0mgetattr\u001b[0m\u001b[0;34m(\u001b[0m\u001b[0mself\u001b[0m\u001b[0;34m.\u001b[0m\u001b[0m_backend\u001b[0m\u001b[0;34m,\u001b[0m \u001b[0;34m'supports_timeout'\u001b[0m\u001b[0;34m,\u001b[0m \u001b[0;32mFalse\u001b[0m\u001b[0;34m)\u001b[0m\u001b[0;34m:\u001b[0m\u001b[0;34m\u001b[0m\u001b[0m\n\u001b[0;32m--> 699\u001b[0;31m                     \u001b[0mself\u001b[0m\u001b[0;34m.\u001b[0m\u001b[0m_output\u001b[0m\u001b[0;34m.\u001b[0m\u001b[0mextend\u001b[0m\u001b[0;34m(\u001b[0m\u001b[0mjob\u001b[0m\u001b[0;34m.\u001b[0m\u001b[0mget\u001b[0m\u001b[0;34m(\u001b[0m\u001b[0mtimeout\u001b[0m\u001b[0;34m=\u001b[0m\u001b[0mself\u001b[0m\u001b[0;34m.\u001b[0m\u001b[0mtimeout\u001b[0m\u001b[0;34m)\u001b[0m\u001b[0;34m)\u001b[0m\u001b[0;34m\u001b[0m\u001b[0m\n\u001b[0m\u001b[1;32m    700\u001b[0m                 \u001b[0;32melse\u001b[0m\u001b[0;34m:\u001b[0m\u001b[0;34m\u001b[0m\u001b[0m\n",
      "\u001b[0;32m/usr/lib/python3.5/multiprocessing/pool.py\u001b[0m in \u001b[0;36mget\u001b[0;34m(self, timeout)\u001b[0m\n\u001b[1;32m    607\u001b[0m         \u001b[0;32melse\u001b[0m\u001b[0;34m:\u001b[0m\u001b[0;34m\u001b[0m\u001b[0m\n\u001b[0;32m--> 608\u001b[0;31m             \u001b[0;32mraise\u001b[0m \u001b[0mself\u001b[0m\u001b[0;34m.\u001b[0m\u001b[0m_value\u001b[0m\u001b[0;34m\u001b[0m\u001b[0m\n\u001b[0m\u001b[1;32m    609\u001b[0m \u001b[0;34m\u001b[0m\u001b[0m\n",
      "\u001b[0;31mTransportableException\u001b[0m: TransportableException\n___________________________________________________________________________\nValueError                                         Fri Sep 28 16:36:38 2018\nPID: 10892                                   Python 3.5.2: /usr/bin/python3\n...........................................................................\n/usr/local/lib/python3.5/dist-packages/sklearn/externals/joblib/parallel.py in __call__(self=<sklearn.externals.joblib.parallel.BatchedCalls object>)\n    126     def __init__(self, iterator_slice):\n    127         self.items = list(iterator_slice)\n    128         self._size = len(self.items)\n    129 \n    130     def __call__(self):\n--> 131         return [func(*args, **kwargs) for func, args, kwargs in self.items]\n        self.items = [(<function _fit_and_score>, (XGBRegressor(base_score=0.5, booster='gbtree', c...ht=1,\n       seed=None, silent=True, subsample=1),       i_weight  i_visibility     i_mrp  o_size  ...                     5  \n\n[8500 rows x 9 columns], 0       3735\n1        443\n2       2097\n3        ...  549\nName: i_o_sales, Length: 8500, dtype: int64, {'score': <function _passthrough_scorer>}, array([   0,    1,    2, ..., 8496, 8497, 8499]), array([   3,   10,   14, ..., 8488, 8492, 8498]), 3, {'colsample_bytr   ee': 0.4, 'gamma': 0.5, 'max_depth': 3, 'min_child_weight': 1, 'subsample': 0.4}), {'error_score': 'raise', 'fit_params': {}, 'return_n_test_samples': True, 'return_parameters': False, 'return_times': True, 'return_train_score': 'warn'})]\n    132 \n    133     def __len__(self):\n    134         return self._size\n    135 \n\n...........................................................................\n/usr/local/lib/python3.5/dist-packages/sklearn/externals/joblib/parallel.py in <listcomp>(.0=<list_iterator object>)\n    126     def __init__(self, iterator_slice):\n    127         self.items = list(iterator_slice)\n    128         self._size = len(self.items)\n    129 \n    130     def __call__(self):\n--> 131         return [func(*args, **kwargs) for func, args, kwargs in self.items]\n        func = <function _fit_and_score>\n        args = (XGBRegressor(base_score=0.5, booster='gbtree', c...ht=1,\n       seed=None, silent=True, subsample=1),       i_weight  i_visibility     i_mrp  o_size  ...                     5  \n\n[8500 rows x 9 columns], 0       3735\n1        443\n2       2097\n3        ...  549\nName: i_o_sales, Length: 8500, dtype: int64, {'score': <function _passthrough_scorer>}, array([   0,    1,    2, ..., 8496, 8497, 8499]), array([   3,   10,   14, ..., 8488, 8492, 8498]), 3, {'colsample_bytr   ee': 0.4, 'gamma': 0.5, 'max_depth': 3, 'min_child_weight': 1, 'subsample': 0.4})\n        kwargs = {'error_score': 'raise', 'fit_params': {}, 'return_n_test_samples': True, 'return_parameters': False, 'return_times': True, 'return_train_score': 'warn'}\n    132 \n    133     def __len__(self):\n    134         return self._size\n    135 \n\n...........................................................................\n/usr/local/lib/python3.5/dist-packages/sklearn/model_selection/_validation.py in _fit_and_score(estimator=XGBRegressor(base_score=0.5, booster='gbtree', c...ht=1,\n       seed=None, silent=True, subsample=1), X=      i_weight  i_visibility     i_mrp  o_size  ...                     5  \n\n[8500 rows x 9 columns], y=0       3735\n1        443\n2       2097\n3        ...  549\nName: i_o_sales, Length: 8500, dtype: int64, scorer={'score': <function _passthrough_scorer>}, train=array([   0,    1,    2, ..., 8496, 8497, 8499]), test=array([   3,   10,   14, ..., 8488, 8492, 8498]), verbose=3, parameters={'colsample_bytr   ee': 0.4, 'gamma': 0.5, 'max_depth': 3, 'min_child_weight': 1, 'subsample': 0.4}, fit_params={}, return_train_score='warn', return_parameters=False, return_n_test_samples=True, return_times=True, error_score='raise')\n    439                       for k, v in fit_params.items()])\n    440 \n    441     test_scores = {}\n    442     train_scores = {}\n    443     if parameters is not None:\n--> 444         estimator.set_params(**parameters)\n        estimator.set_params = <bound method BaseEstimator.set_params of XGBReg...t=1,\n       seed=None, silent=True, subsample=1)>\n        parameters = {'colsample_bytr   ee': 0.4, 'gamma': 0.5, 'max_depth': 3, 'min_child_weight': 1, 'subsample': 0.4}\n    445 \n    446     start_time = time.time()\n    447 \n    448     X_train, y_train = _safe_split(estimator, X, y, train)\n\n...........................................................................\n/usr/local/lib/python3.5/dist-packages/sklearn/base.py in set_params(self=XGBRegressor(base_score=0.5, booster='gbtree', c...ht=1,\n       seed=None, silent=True, subsample=1), **params={'colsample_bytr   ee': 0.4, 'gamma': 0.5, 'max_depth': 3, 'min_child_weight': 1, 'subsample': 0.4})\n    269             key, delim, sub_key = key.partition('__')\n    270             if key not in valid_params:\n    271                 raise ValueError('Invalid parameter %s for estimator %s. '\n    272                                  'Check the list of available parameters '\n    273                                  'with `estimator.get_params().keys()`.' %\n--> 274                                  (key, self))\n        key = 'colsample_bytr   ee'\n        self = XGBRegressor(base_score=0.5, booster='gbtree', c...ht=1,\n       seed=None, silent=True, subsample=1)\n    275 \n    276             if delim:\n    277                 nested_params[key][sub_key] = value\n    278             else:\n\nValueError: Invalid parameter colsample_bytr   ee for estimator XGBRegressor(base_score=0.5, booster='gbtree', colsample_bylevel=1,\n       colsample_bytree=0.8, gamma=0.5, learning_rate=0.1,\n       max_delta_step=0, max_depth=3, min_child_weight=1, missing=0,\n       n_estimators=100, n_jobs=1, nthread=None, objective='reg:linear',\n       random_state=0, reg_alpha=0, reg_lambda=1, scale_pos_weight=1,\n       seed=None, silent=True, subsample=1). Check the list of available parameters with `estimator.get_params().keys()`.\n___________________________________________________________________________",
      "\nDuring handling of the above exception, another exception occurred:\n",
      "\u001b[0;31mJoblibValueError\u001b[0m                          Traceback (most recent call last)",
      "\u001b[0;32m<ipython-input-72-3a9b3f04f686>\u001b[0m in \u001b[0;36m<module>\u001b[0;34m()\u001b[0m\n\u001b[1;32m     10\u001b[0m \u001b[0;34m\u001b[0m\u001b[0m\n\u001b[1;32m     11\u001b[0m \u001b[0;31m# Here we go # timing starts from this point for \"start_time\" variable\u001b[0m\u001b[0;34m\u001b[0m\u001b[0;34m\u001b[0m\u001b[0m\n\u001b[0;32m---> 12\u001b[0;31m \u001b[0mgrid_search\u001b[0m\u001b[0;34m.\u001b[0m\u001b[0mfit\u001b[0m\u001b[0;34m(\u001b[0m\u001b[0mtrain_x\u001b[0m\u001b[0;34m,\u001b[0m \u001b[0mtrain_y\u001b[0m\u001b[0;34m.\u001b[0m\u001b[0mastype\u001b[0m\u001b[0;34m(\u001b[0m\u001b[0mint\u001b[0m\u001b[0;34m)\u001b[0m\u001b[0;34m)\u001b[0m\u001b[0;34m\u001b[0m\u001b[0m\n\u001b[0m",
      "\u001b[0;32m/usr/local/lib/python3.5/dist-packages/sklearn/model_selection/_search.py\u001b[0m in \u001b[0;36mfit\u001b[0;34m(self, X, y, groups, **fit_params)\u001b[0m\n\u001b[1;32m    637\u001b[0m                                   error_score=self.error_score)\n\u001b[1;32m    638\u001b[0m           for parameters, (train, test) in product(candidate_params,\n\u001b[0;32m--> 639\u001b[0;31m                                                    cv.split(X, y, groups)))\n\u001b[0m\u001b[1;32m    640\u001b[0m \u001b[0;34m\u001b[0m\u001b[0m\n\u001b[1;32m    641\u001b[0m         \u001b[0;31m# if one choose to see train score, \"out\" will contain train score info\u001b[0m\u001b[0;34m\u001b[0m\u001b[0;34m\u001b[0m\u001b[0m\n",
      "\u001b[0;32m/usr/local/lib/python3.5/dist-packages/sklearn/externals/joblib/parallel.py\u001b[0m in \u001b[0;36m__call__\u001b[0;34m(self, iterable)\u001b[0m\n\u001b[1;32m    787\u001b[0m                 \u001b[0;31m# consumption.\u001b[0m\u001b[0;34m\u001b[0m\u001b[0;34m\u001b[0m\u001b[0m\n\u001b[1;32m    788\u001b[0m                 \u001b[0mself\u001b[0m\u001b[0;34m.\u001b[0m\u001b[0m_iterating\u001b[0m \u001b[0;34m=\u001b[0m \u001b[0;32mFalse\u001b[0m\u001b[0;34m\u001b[0m\u001b[0m\n\u001b[0;32m--> 789\u001b[0;31m             \u001b[0mself\u001b[0m\u001b[0;34m.\u001b[0m\u001b[0mretrieve\u001b[0m\u001b[0;34m(\u001b[0m\u001b[0;34m)\u001b[0m\u001b[0;34m\u001b[0m\u001b[0m\n\u001b[0m\u001b[1;32m    790\u001b[0m             \u001b[0;31m# Make sure that we get a last message telling us we are done\u001b[0m\u001b[0;34m\u001b[0m\u001b[0;34m\u001b[0m\u001b[0m\n\u001b[1;32m    791\u001b[0m             \u001b[0melapsed_time\u001b[0m \u001b[0;34m=\u001b[0m \u001b[0mtime\u001b[0m\u001b[0;34m.\u001b[0m\u001b[0mtime\u001b[0m\u001b[0;34m(\u001b[0m\u001b[0;34m)\u001b[0m \u001b[0;34m-\u001b[0m \u001b[0mself\u001b[0m\u001b[0;34m.\u001b[0m\u001b[0m_start_time\u001b[0m\u001b[0;34m\u001b[0m\u001b[0m\n",
      "\u001b[0;32m/usr/local/lib/python3.5/dist-packages/sklearn/externals/joblib/parallel.py\u001b[0m in \u001b[0;36mretrieve\u001b[0;34m(self)\u001b[0m\n\u001b[1;32m    738\u001b[0m                     \u001b[0mexception\u001b[0m \u001b[0;34m=\u001b[0m \u001b[0mexception_type\u001b[0m\u001b[0;34m(\u001b[0m\u001b[0mreport\u001b[0m\u001b[0;34m)\u001b[0m\u001b[0;34m\u001b[0m\u001b[0m\n\u001b[1;32m    739\u001b[0m \u001b[0;34m\u001b[0m\u001b[0m\n\u001b[0;32m--> 740\u001b[0;31m                     \u001b[0;32mraise\u001b[0m \u001b[0mexception\u001b[0m\u001b[0;34m\u001b[0m\u001b[0m\n\u001b[0m\u001b[1;32m    741\u001b[0m \u001b[0;34m\u001b[0m\u001b[0m\n\u001b[1;32m    742\u001b[0m     \u001b[0;32mdef\u001b[0m \u001b[0m__call__\u001b[0m\u001b[0;34m(\u001b[0m\u001b[0mself\u001b[0m\u001b[0;34m,\u001b[0m \u001b[0miterable\u001b[0m\u001b[0;34m)\u001b[0m\u001b[0;34m:\u001b[0m\u001b[0;34m\u001b[0m\u001b[0m\n",
      "\u001b[0;31mJoblibValueError\u001b[0m: JoblibValueError\n___________________________________________________________________________\nMultiprocessing exception:\n...........................................................................\n/usr/lib/python3.5/runpy.py in _run_module_as_main(mod_name='ipykernel_launcher', alter_argv=1)\n    179         sys.exit(msg)\n    180     main_globals = sys.modules[\"__main__\"].__dict__\n    181     if alter_argv:\n    182         sys.argv[0] = mod_spec.origin\n    183     return _run_code(code, main_globals, None,\n--> 184                      \"__main__\", mod_spec)\n        mod_spec = ModuleSpec(name='ipykernel_launcher', loader=<_f...b/python3.5/site-packages/ipykernel_launcher.py')\n    185 \n    186 def run_module(mod_name, init_globals=None,\n    187                run_name=None, alter_sys=False):\n    188     \"\"\"Execute a module's code without importing it\n\n...........................................................................\n/usr/lib/python3.5/runpy.py in _run_code(code=<code object <module> at 0x7f4eceed60c0, file \"/...3.5/site-packages/ipykernel_launcher.py\", line 5>, run_globals={'__builtins__': <module 'builtins' (built-in)>, '__cached__': '/home/sumedh/.local/lib/python3.5/site-packages/__pycache__/ipykernel_launcher.cpython-35.pyc', '__doc__': 'Entry point for launching an IPython kernel.\\n\\nTh...orts until\\nafter removing the cwd from sys.path.\\n', '__file__': '/home/sumedh/.local/lib/python3.5/site-packages/ipykernel_launcher.py', '__loader__': <_frozen_importlib_external.SourceFileLoader object>, '__name__': '__main__', '__package__': '', '__spec__': ModuleSpec(name='ipykernel_launcher', loader=<_f...b/python3.5/site-packages/ipykernel_launcher.py'), 'app': <module 'ipykernel.kernelapp' from '/home/sumedh.../python3.5/site-packages/ipykernel/kernelapp.py'>, 'sys': <module 'sys' (built-in)>}, init_globals=None, mod_name='__main__', mod_spec=ModuleSpec(name='ipykernel_launcher', loader=<_f...b/python3.5/site-packages/ipykernel_launcher.py'), pkg_name='', script_name=None)\n     80                        __cached__ = cached,\n     81                        __doc__ = None,\n     82                        __loader__ = loader,\n     83                        __package__ = pkg_name,\n     84                        __spec__ = mod_spec)\n---> 85     exec(code, run_globals)\n        code = <code object <module> at 0x7f4eceed60c0, file \"/...3.5/site-packages/ipykernel_launcher.py\", line 5>\n        run_globals = {'__builtins__': <module 'builtins' (built-in)>, '__cached__': '/home/sumedh/.local/lib/python3.5/site-packages/__pycache__/ipykernel_launcher.cpython-35.pyc', '__doc__': 'Entry point for launching an IPython kernel.\\n\\nTh...orts until\\nafter removing the cwd from sys.path.\\n', '__file__': '/home/sumedh/.local/lib/python3.5/site-packages/ipykernel_launcher.py', '__loader__': <_frozen_importlib_external.SourceFileLoader object>, '__name__': '__main__', '__package__': '', '__spec__': ModuleSpec(name='ipykernel_launcher', loader=<_f...b/python3.5/site-packages/ipykernel_launcher.py'), 'app': <module 'ipykernel.kernelapp' from '/home/sumedh.../python3.5/site-packages/ipykernel/kernelapp.py'>, 'sys': <module 'sys' (built-in)>}\n     86     return run_globals\n     87 \n     88 def _run_module_code(code, init_globals=None,\n     89                     mod_name=None, mod_spec=None,\n\n...........................................................................\n/home/sumedh/.local/lib/python3.5/site-packages/ipykernel_launcher.py in <module>()\n     11     # This is added back by InteractiveShellApp.init_path()\n     12     if sys.path[0] == '':\n     13         del sys.path[0]\n     14 \n     15     from ipykernel import kernelapp as app\n---> 16     app.launch_new_instance()\n\n...........................................................................\n/home/sumedh/.local/lib/python3.5/site-packages/traitlets/config/application.py in launch_instance(cls=<class 'ipykernel.kernelapp.IPKernelApp'>, argv=None, **kwargs={})\n    653 \n    654         If a global instance already exists, this reinitializes and starts it\n    655         \"\"\"\n    656         app = cls.instance(**kwargs)\n    657         app.initialize(argv)\n--> 658         app.start()\n        app.start = <bound method IPKernelApp.start of <ipykernel.kernelapp.IPKernelApp object>>\n    659 \n    660 #-----------------------------------------------------------------------------\n    661 # utility functions, for convenience\n    662 #-----------------------------------------------------------------------------\n\n...........................................................................\n/home/sumedh/.local/lib/python3.5/site-packages/ipykernel/kernelapp.py in start(self=<ipykernel.kernelapp.IPKernelApp object>)\n    481         if self.poller is not None:\n    482             self.poller.start()\n    483         self.kernel.start()\n    484         self.io_loop = ioloop.IOLoop.current()\n    485         try:\n--> 486             self.io_loop.start()\n        self.io_loop.start = <bound method BaseAsyncIOLoop.start of <tornado.platform.asyncio.AsyncIOMainLoop object>>\n    487         except KeyboardInterrupt:\n    488             pass\n    489 \n    490 launch_new_instance = IPKernelApp.launch_instance\n\n...........................................................................\n/home/sumedh/.local/lib/python3.5/site-packages/tornado/platform/asyncio.py in start(self=<tornado.platform.asyncio.AsyncIOMainLoop object>)\n    127         except (RuntimeError, AssertionError):\n    128             old_loop = None\n    129         try:\n    130             self._setup_logging()\n    131             asyncio.set_event_loop(self.asyncio_loop)\n--> 132             self.asyncio_loop.run_forever()\n        self.asyncio_loop.run_forever = <bound method BaseEventLoop.run_forever of <_Uni...EventLoop running=True closed=False debug=False>>\n    133         finally:\n    134             asyncio.set_event_loop(old_loop)\n    135 \n    136     def stop(self):\n\n...........................................................................\n/usr/lib/python3.5/asyncio/base_events.py in run_forever(self=<_UnixSelectorEventLoop running=True closed=False debug=False>)\n    340             raise RuntimeError('Event loop is running.')\n    341         self._set_coroutine_wrapper(self._debug)\n    342         self._thread_id = threading.get_ident()\n    343         try:\n    344             while True:\n--> 345                 self._run_once()\n        self._run_once = <bound method BaseEventLoop._run_once of <_UnixS...EventLoop running=True closed=False debug=False>>\n    346                 if self._stopping:\n    347                     break\n    348         finally:\n    349             self._stopping = False\n\n...........................................................................\n/usr/lib/python3.5/asyncio/base_events.py in _run_once(self=<_UnixSelectorEventLoop running=True closed=False debug=False>)\n   1307                         logger.warning('Executing %s took %.3f seconds',\n   1308                                        _format_handle(handle), dt)\n   1309                 finally:\n   1310                     self._current_handle = None\n   1311             else:\n-> 1312                 handle._run()\n        handle._run = <bound method Handle._run of <Handle IOLoop._run_callback(functools.par...7f4e863b16a8>))>>\n   1313         handle = None  # Needed to break cycles when an exception occurs.\n   1314 \n   1315     def _set_coroutine_wrapper(self, enabled):\n   1316         try:\n\n...........................................................................\n/usr/lib/python3.5/asyncio/events.py in _run(self=<Handle IOLoop._run_callback(functools.par...7f4e863b16a8>))>)\n    120             self._callback = None\n    121             self._args = None\n    122 \n    123     def _run(self):\n    124         try:\n--> 125             self._callback(*self._args)\n        self._callback = <bound method IOLoop._run_callback of <tornado.platform.asyncio.AsyncIOMainLoop object>>\n        self._args = (functools.partial(<function wrap.<locals>.null_wrapper at 0x7f4e863b16a8>),)\n    126         except Exception as exc:\n    127             cb = _format_callback_source(self._callback, self._args)\n    128             msg = 'Exception in callback {}'.format(cb)\n    129             context = {\n\n...........................................................................\n/home/sumedh/.local/lib/python3.5/site-packages/tornado/ioloop.py in _run_callback(self=<tornado.platform.asyncio.AsyncIOMainLoop object>, callback=functools.partial(<function wrap.<locals>.null_wrapper at 0x7f4e863b16a8>))\n    753         \"\"\"Runs a callback with error handling.\n    754 \n    755         For use in subclasses.\n    756         \"\"\"\n    757         try:\n--> 758             ret = callback()\n        ret = undefined\n        callback = functools.partial(<function wrap.<locals>.null_wrapper at 0x7f4e863b16a8>)\n    759             if ret is not None:\n    760                 from tornado import gen\n    761                 # Functions that return Futures typically swallow all\n    762                 # exceptions and store them in the Future.  If a Future\n\n...........................................................................\n/home/sumedh/.local/lib/python3.5/site-packages/tornado/stack_context.py in null_wrapper(*args=(), **kwargs={})\n    295         # Fast path when there are no active contexts.\n    296         def null_wrapper(*args, **kwargs):\n    297             try:\n    298                 current_state = _state.contexts\n    299                 _state.contexts = cap_contexts[0]\n--> 300                 return fn(*args, **kwargs)\n        args = ()\n        kwargs = {}\n    301             finally:\n    302                 _state.contexts = current_state\n    303         null_wrapper._wrapped = True\n    304         return null_wrapper\n\n...........................................................................\n/home/sumedh/.local/lib/python3.5/site-packages/zmq/eventloop/zmqstream.py in <lambda>()\n    531             return\n    532 \n    533         if state & self.socket.events:\n    534             # events still exist that haven't been processed\n    535             # explicitly schedule handling to avoid missing events due to edge-triggered FDs\n--> 536             self.io_loop.add_callback(lambda : self._handle_events(self.socket, 0))\n    537 \n    538     def _init_io_state(self):\n    539         \"\"\"initialize the ioloop event handler\"\"\"\n    540         with stack_context.NullContext():\n\n...........................................................................\n/home/sumedh/.local/lib/python3.5/site-packages/zmq/eventloop/zmqstream.py in _handle_events(self=<zmq.eventloop.zmqstream.ZMQStream object>, fd=<zmq.sugar.socket.Socket object>, events=0)\n    445             return\n    446         zmq_events = self.socket.EVENTS\n    447         try:\n    448             # dispatch events:\n    449             if zmq_events & zmq.POLLIN and self.receiving():\n--> 450                 self._handle_recv()\n        self._handle_recv = <bound method ZMQStream._handle_recv of <zmq.eventloop.zmqstream.ZMQStream object>>\n    451                 if not self.socket:\n    452                     return\n    453             if zmq_events & zmq.POLLOUT and self.sending():\n    454                 self._handle_send()\n\n...........................................................................\n/home/sumedh/.local/lib/python3.5/site-packages/zmq/eventloop/zmqstream.py in _handle_recv(self=<zmq.eventloop.zmqstream.ZMQStream object>)\n    475             else:\n    476                 raise\n    477         else:\n    478             if self._recv_callback:\n    479                 callback = self._recv_callback\n--> 480                 self._run_callback(callback, msg)\n        self._run_callback = <bound method ZMQStream._run_callback of <zmq.eventloop.zmqstream.ZMQStream object>>\n        callback = <function wrap.<locals>.null_wrapper>\n        msg = [<zmq.sugar.frame.Frame object>, <zmq.sugar.frame.Frame object>, <zmq.sugar.frame.Frame object>, <zmq.sugar.frame.Frame object>, <zmq.sugar.frame.Frame object>, <zmq.sugar.frame.Frame object>, <zmq.sugar.frame.Frame object>]\n    481         \n    482 \n    483     def _handle_send(self):\n    484         \"\"\"Handle a send event.\"\"\"\n\n...........................................................................\n/home/sumedh/.local/lib/python3.5/site-packages/zmq/eventloop/zmqstream.py in _run_callback(self=<zmq.eventloop.zmqstream.ZMQStream object>, callback=<function wrap.<locals>.null_wrapper>, *args=([<zmq.sugar.frame.Frame object>, <zmq.sugar.frame.Frame object>, <zmq.sugar.frame.Frame object>, <zmq.sugar.frame.Frame object>, <zmq.sugar.frame.Frame object>, <zmq.sugar.frame.Frame object>, <zmq.sugar.frame.Frame object>],), **kwargs={})\n    427         close our socket.\"\"\"\n    428         try:\n    429             # Use a NullContext to ensure that all StackContexts are run\n    430             # inside our blanket exception handler rather than outside.\n    431             with stack_context.NullContext():\n--> 432                 callback(*args, **kwargs)\n        callback = <function wrap.<locals>.null_wrapper>\n        args = ([<zmq.sugar.frame.Frame object>, <zmq.sugar.frame.Frame object>, <zmq.sugar.frame.Frame object>, <zmq.sugar.frame.Frame object>, <zmq.sugar.frame.Frame object>, <zmq.sugar.frame.Frame object>, <zmq.sugar.frame.Frame object>],)\n        kwargs = {}\n    433         except:\n    434             gen_log.error(\"Uncaught exception in ZMQStream callback\",\n    435                           exc_info=True)\n    436             # Re-raise the exception so that IOLoop.handle_callback_exception\n\n...........................................................................\n/home/sumedh/.local/lib/python3.5/site-packages/tornado/stack_context.py in null_wrapper(*args=([<zmq.sugar.frame.Frame object>, <zmq.sugar.frame.Frame object>, <zmq.sugar.frame.Frame object>, <zmq.sugar.frame.Frame object>, <zmq.sugar.frame.Frame object>, <zmq.sugar.frame.Frame object>, <zmq.sugar.frame.Frame object>],), **kwargs={})\n    295         # Fast path when there are no active contexts.\n    296         def null_wrapper(*args, **kwargs):\n    297             try:\n    298                 current_state = _state.contexts\n    299                 _state.contexts = cap_contexts[0]\n--> 300                 return fn(*args, **kwargs)\n        args = ([<zmq.sugar.frame.Frame object>, <zmq.sugar.frame.Frame object>, <zmq.sugar.frame.Frame object>, <zmq.sugar.frame.Frame object>, <zmq.sugar.frame.Frame object>, <zmq.sugar.frame.Frame object>, <zmq.sugar.frame.Frame object>],)\n        kwargs = {}\n    301             finally:\n    302                 _state.contexts = current_state\n    303         null_wrapper._wrapped = True\n    304         return null_wrapper\n\n...........................................................................\n/home/sumedh/.local/lib/python3.5/site-packages/ipykernel/kernelbase.py in dispatcher(msg=[<zmq.sugar.frame.Frame object>, <zmq.sugar.frame.Frame object>, <zmq.sugar.frame.Frame object>, <zmq.sugar.frame.Frame object>, <zmq.sugar.frame.Frame object>, <zmq.sugar.frame.Frame object>, <zmq.sugar.frame.Frame object>])\n    278         if self.control_stream:\n    279             self.control_stream.on_recv(self.dispatch_control, copy=False)\n    280 \n    281         def make_dispatcher(stream):\n    282             def dispatcher(msg):\n--> 283                 return self.dispatch_shell(stream, msg)\n        msg = [<zmq.sugar.frame.Frame object>, <zmq.sugar.frame.Frame object>, <zmq.sugar.frame.Frame object>, <zmq.sugar.frame.Frame object>, <zmq.sugar.frame.Frame object>, <zmq.sugar.frame.Frame object>, <zmq.sugar.frame.Frame object>]\n    284             return dispatcher\n    285 \n    286         for s in self.shell_streams:\n    287             s.on_recv(make_dispatcher(s), copy=False)\n\n...........................................................................\n/home/sumedh/.local/lib/python3.5/site-packages/ipykernel/kernelbase.py in dispatch_shell(self=<ipykernel.ipkernel.IPythonKernel object>, stream=<zmq.eventloop.zmqstream.ZMQStream object>, msg={'buffers': [], 'content': {'allow_stdin': True, 'code': 'from sklearn.model_selection import RandomizedSe...le\\ngrid_search.fit(train_x, train_y.astype(int))\\n', 'silent': False, 'stop_on_error': True, 'store_history': True, 'user_expressions': {}}, 'header': {'date': datetime.datetime(2018, 9, 28, 11, 6, 21, 742480, tzinfo=tzutc()), 'msg_id': '0465aa2644804347a96c85c2f451528e', 'msg_type': 'execute_request', 'session': '7c5700c69f8643198885b8c387734fe9', 'username': 'username', 'version': '5.2'}, 'metadata': {}, 'msg_id': '0465aa2644804347a96c85c2f451528e', 'msg_type': 'execute_request', 'parent_header': {}})\n    228             self.log.warn(\"Unknown message type: %r\", msg_type)\n    229         else:\n    230             self.log.debug(\"%s: %s\", msg_type, msg)\n    231             self.pre_handler_hook()\n    232             try:\n--> 233                 handler(stream, idents, msg)\n        handler = <bound method Kernel.execute_request of <ipykernel.ipkernel.IPythonKernel object>>\n        stream = <zmq.eventloop.zmqstream.ZMQStream object>\n        idents = [b'7c5700c69f8643198885b8c387734fe9']\n        msg = {'buffers': [], 'content': {'allow_stdin': True, 'code': 'from sklearn.model_selection import RandomizedSe...le\\ngrid_search.fit(train_x, train_y.astype(int))\\n', 'silent': False, 'stop_on_error': True, 'store_history': True, 'user_expressions': {}}, 'header': {'date': datetime.datetime(2018, 9, 28, 11, 6, 21, 742480, tzinfo=tzutc()), 'msg_id': '0465aa2644804347a96c85c2f451528e', 'msg_type': 'execute_request', 'session': '7c5700c69f8643198885b8c387734fe9', 'username': 'username', 'version': '5.2'}, 'metadata': {}, 'msg_id': '0465aa2644804347a96c85c2f451528e', 'msg_type': 'execute_request', 'parent_header': {}}\n    234             except Exception:\n    235                 self.log.error(\"Exception in message handler:\", exc_info=True)\n    236             finally:\n    237                 self.post_handler_hook()\n\n...........................................................................\n/home/sumedh/.local/lib/python3.5/site-packages/ipykernel/kernelbase.py in execute_request(self=<ipykernel.ipkernel.IPythonKernel object>, stream=<zmq.eventloop.zmqstream.ZMQStream object>, ident=[b'7c5700c69f8643198885b8c387734fe9'], parent={'buffers': [], 'content': {'allow_stdin': True, 'code': 'from sklearn.model_selection import RandomizedSe...le\\ngrid_search.fit(train_x, train_y.astype(int))\\n', 'silent': False, 'stop_on_error': True, 'store_history': True, 'user_expressions': {}}, 'header': {'date': datetime.datetime(2018, 9, 28, 11, 6, 21, 742480, tzinfo=tzutc()), 'msg_id': '0465aa2644804347a96c85c2f451528e', 'msg_type': 'execute_request', 'session': '7c5700c69f8643198885b8c387734fe9', 'username': 'username', 'version': '5.2'}, 'metadata': {}, 'msg_id': '0465aa2644804347a96c85c2f451528e', 'msg_type': 'execute_request', 'parent_header': {}})\n    394         if not silent:\n    395             self.execution_count += 1\n    396             self._publish_execute_input(code, parent, self.execution_count)\n    397 \n    398         reply_content = self.do_execute(code, silent, store_history,\n--> 399                                         user_expressions, allow_stdin)\n        user_expressions = {}\n        allow_stdin = True\n    400 \n    401         # Flush output before sending the reply.\n    402         sys.stdout.flush()\n    403         sys.stderr.flush()\n\n...........................................................................\n/home/sumedh/.local/lib/python3.5/site-packages/ipykernel/ipkernel.py in do_execute(self=<ipykernel.ipkernel.IPythonKernel object>, code='from sklearn.model_selection import RandomizedSe...le\\ngrid_search.fit(train_x, train_y.astype(int))\\n', silent=False, store_history=True, user_expressions={}, allow_stdin=True)\n    203 \n    204         self._forward_input(allow_stdin)\n    205 \n    206         reply_content = {}\n    207         try:\n--> 208             res = shell.run_cell(code, store_history=store_history, silent=silent)\n        res = undefined\n        shell.run_cell = <bound method ZMQInteractiveShell.run_cell of <ipykernel.zmqshell.ZMQInteractiveShell object>>\n        code = 'from sklearn.model_selection import RandomizedSe...le\\ngrid_search.fit(train_x, train_y.astype(int))\\n'\n        store_history = True\n        silent = False\n    209         finally:\n    210             self._restore_input()\n    211 \n    212         if res.error_before_exec is not None:\n\n...........................................................................\n/home/sumedh/.local/lib/python3.5/site-packages/ipykernel/zmqshell.py in run_cell(self=<ipykernel.zmqshell.ZMQInteractiveShell object>, *args=('from sklearn.model_selection import RandomizedSe...le\\ngrid_search.fit(train_x, train_y.astype(int))\\n',), **kwargs={'silent': False, 'store_history': True})\n    532             )\n    533         self.payload_manager.write_payload(payload)\n    534 \n    535     def run_cell(self, *args, **kwargs):\n    536         self._last_traceback = None\n--> 537         return super(ZMQInteractiveShell, self).run_cell(*args, **kwargs)\n        self.run_cell = <bound method ZMQInteractiveShell.run_cell of <ipykernel.zmqshell.ZMQInteractiveShell object>>\n        args = ('from sklearn.model_selection import RandomizedSe...le\\ngrid_search.fit(train_x, train_y.astype(int))\\n',)\n        kwargs = {'silent': False, 'store_history': True}\n    538 \n    539     def _showtraceback(self, etype, evalue, stb):\n    540         # try to preserve ordering of tracebacks and print statements\n    541         sys.stdout.flush()\n\n...........................................................................\n/home/sumedh/.local/lib/python3.5/site-packages/IPython/core/interactiveshell.py in run_cell(self=<ipykernel.zmqshell.ZMQInteractiveShell object>, raw_cell='from sklearn.model_selection import RandomizedSe...le\\ngrid_search.fit(train_x, train_y.astype(int))\\n', store_history=True, silent=False, shell_futures=True)\n   2657         -------\n   2658         result : :class:`ExecutionResult`\n   2659         \"\"\"\n   2660         try:\n   2661             result = self._run_cell(\n-> 2662                 raw_cell, store_history, silent, shell_futures)\n        raw_cell = 'from sklearn.model_selection import RandomizedSe...le\\ngrid_search.fit(train_x, train_y.astype(int))\\n'\n        store_history = True\n        silent = False\n        shell_futures = True\n   2663         finally:\n   2664             self.events.trigger('post_execute')\n   2665             if not silent:\n   2666                 self.events.trigger('post_run_cell', result)\n\n...........................................................................\n/home/sumedh/.local/lib/python3.5/site-packages/IPython/core/interactiveshell.py in _run_cell(self=<ipykernel.zmqshell.ZMQInteractiveShell object>, raw_cell='from sklearn.model_selection import RandomizedSe...le\\ngrid_search.fit(train_x, train_y.astype(int))\\n', store_history=True, silent=False, shell_futures=True)\n   2780                 self.displayhook.exec_result = result\n   2781 \n   2782                 # Execute the user code\n   2783                 interactivity = 'none' if silent else self.ast_node_interactivity\n   2784                 has_raised = self.run_ast_nodes(code_ast.body, cell_name,\n-> 2785                    interactivity=interactivity, compiler=compiler, result=result)\n        interactivity = 'last_expr'\n        compiler = <IPython.core.compilerop.CachingCompiler object>\n   2786                 \n   2787                 self.last_execution_succeeded = not has_raised\n   2788                 self.last_execution_result = result\n   2789 \n\n...........................................................................\n/home/sumedh/.local/lib/python3.5/site-packages/IPython/core/interactiveshell.py in run_ast_nodes(self=<ipykernel.zmqshell.ZMQInteractiveShell object>, nodelist=[<_ast.ImportFrom object>, <_ast.ImportFrom object>, <_ast.ImportFrom object>, <_ast.Assign object>, <_ast.Assign object>, <_ast.Assign object>, <_ast.Assign object>, <_ast.Expr object>], cell_name='<ipython-input-72-3a9b3f04f686>', interactivity='last', compiler=<IPython.core.compilerop.CachingCompiler object>, result=<ExecutionResult object at 7f4e808077b8, executi...rue silent=False shell_futures=True> result=None>)\n   2904                     return True\n   2905 \n   2906             for i, node in enumerate(to_run_interactive):\n   2907                 mod = ast.Interactive([node])\n   2908                 code = compiler(mod, cell_name, \"single\")\n-> 2909                 if self.run_code(code, result):\n        self.run_code = <bound method InteractiveShell.run_code of <ipykernel.zmqshell.ZMQInteractiveShell object>>\n        code = <code object <module> at 0x7f4e80d625d0, file \"<ipython-input-72-3a9b3f04f686>\", line 12>\n        result = <ExecutionResult object at 7f4e808077b8, executi...rue silent=False shell_futures=True> result=None>\n   2910                     return True\n   2911 \n   2912             # Flush softspace\n   2913             if softspace(sys.stdout, 0):\n\n...........................................................................\n/home/sumedh/.local/lib/python3.5/site-packages/IPython/core/interactiveshell.py in run_code(self=<ipykernel.zmqshell.ZMQInteractiveShell object>, code_obj=<code object <module> at 0x7f4e80d625d0, file \"<ipython-input-72-3a9b3f04f686>\", line 12>, result=<ExecutionResult object at 7f4e808077b8, executi...rue silent=False shell_futures=True> result=None>)\n   2958         outflag = True  # happens in more places, so it's easier as default\n   2959         try:\n   2960             try:\n   2961                 self.hooks.pre_run_code_hook()\n   2962                 #rprint('Running code', repr(code_obj)) # dbg\n-> 2963                 exec(code_obj, self.user_global_ns, self.user_ns)\n        code_obj = <code object <module> at 0x7f4e80d625d0, file \"<ipython-input-72-3a9b3f04f686>\", line 12>\n        self.user_global_ns = {'GridSearchCV': <class 'sklearn.model_selection._search.GridSearchCV'>, 'In': ['', 'from matplotlib import pyplot as plt\\nget_ipython...m sklearn.model_selection import train_test_split', 'from sklearn.preprocessing import LabelEncoder', \"df = pd.read_csv('dataset_final_bp.csv', names=[..., 'o_size', 'o_loc_type', 'o_type', 'i_o_sales'])\", \"df['o_id'].value_counts()\", \"df['i_id'].value_counts()\", \"df[df['i_id'] == 'FDX04']\", \"df[df['o_id'] == 'OUT018'].info()\", \"for x in df.columns.tolist():\\n    if x[0] == 'o':\\n        print(df[x].value_counts())\", 'for x in df.columns.tolist():\\n    if x[0] == \\'i\\'... x != \"i_id\":\\n        print(df[x].value_counts())', \"df['i_fat_content'].value_counts()\", 'df.info()', 'df.isnull().sum()', \"df['i_weight'] = df.groupby('i_id').transform(lambda x: x.fillna(x.mean()))\", \"df['o_size'] = df['o_size'].fillna(-1)\", \"df['o_size'].replace('Small', 0, inplace=True)\\nd...ue)\\ndf['o_size'].replace('High', 2, inplace=True)\", \"df['o_size'] += 1\", \"df['o_size'].value_counts()\", \"df['o_size'].replace('Small', 0, inplace=True)\\nd...ue)\\ndf['o_size'].replace('High', 2, inplace=True)\", \"df['o_size'].isnull().sum()\", ...], 'LabelEncoder': <class 'sklearn.preprocessing.label.LabelEncoder'>, 'Out': {4: OUT027    935\nOUT013    931\nOUT045    929\nOUT017...010    555\nOUT019    528\nName: o_id, dtype: int64, 5: FDW13    10\nFDP25     9\nFDW49     9\nFDQ40     9\n...DY43     1\nName: i_id, Length: 1559, dtype: int64, 6:        i_id  i_weight i_fat_content  i_visibilit...   623.1888  \n6984   814.9392  \n7798   335.5632  , 10: Low Fat    5083\nRegular    2881\nLF          312\n...low fat     111\nName: i_fat_content, dtype: int64, 12: i_id                       0\ni_weight           ...      0\ni_o_sales                  0\ndtype: int64, 17: 2    2786\n0    2410\n1    2373\n3     931\nName: o_size, dtype: int64, 19: 0, 20: 0, 22: FDW13    10\nFDP25     9\nFDW49     9\nFDQ40     9\n...DY43     1\nName: i_id, Length: 1559, dtype: int64, 25: i_id                     0\ni_weight             ...        0\ni_o_sales               23\ndtype: int64, ...}, 'RandomizedSearchCV': <class 'sklearn.model_selection._search.RandomizedSearchCV'>, 'StratifiedKFold': <class 'sklearn.model_selection._split.StratifiedKFold'>, '_': XGBRegressor(base_score=0.5, booster='gbtree', c...ht=1,\n       seed=None, silent=True, subsample=1), '_10': Low Fat    5083\nRegular    2881\nLF          312\n...low fat     111\nName: i_fat_content, dtype: int64, '_12': i_id                       0\ni_weight           ...      0\ni_o_sales                  0\ndtype: int64, '_17': 2    2786\n0    2410\n1    2373\n3     931\nName: o_size, dtype: int64, ...}\n        self.user_ns = {'GridSearchCV': <class 'sklearn.model_selection._search.GridSearchCV'>, 'In': ['', 'from matplotlib import pyplot as plt\\nget_ipython...m sklearn.model_selection import train_test_split', 'from sklearn.preprocessing import LabelEncoder', \"df = pd.read_csv('dataset_final_bp.csv', names=[..., 'o_size', 'o_loc_type', 'o_type', 'i_o_sales'])\", \"df['o_id'].value_counts()\", \"df['i_id'].value_counts()\", \"df[df['i_id'] == 'FDX04']\", \"df[df['o_id'] == 'OUT018'].info()\", \"for x in df.columns.tolist():\\n    if x[0] == 'o':\\n        print(df[x].value_counts())\", 'for x in df.columns.tolist():\\n    if x[0] == \\'i\\'... x != \"i_id\":\\n        print(df[x].value_counts())', \"df['i_fat_content'].value_counts()\", 'df.info()', 'df.isnull().sum()', \"df['i_weight'] = df.groupby('i_id').transform(lambda x: x.fillna(x.mean()))\", \"df['o_size'] = df['o_size'].fillna(-1)\", \"df['o_size'].replace('Small', 0, inplace=True)\\nd...ue)\\ndf['o_size'].replace('High', 2, inplace=True)\", \"df['o_size'] += 1\", \"df['o_size'].value_counts()\", \"df['o_size'].replace('Small', 0, inplace=True)\\nd...ue)\\ndf['o_size'].replace('High', 2, inplace=True)\", \"df['o_size'].isnull().sum()\", ...], 'LabelEncoder': <class 'sklearn.preprocessing.label.LabelEncoder'>, 'Out': {4: OUT027    935\nOUT013    931\nOUT045    929\nOUT017...010    555\nOUT019    528\nName: o_id, dtype: int64, 5: FDW13    10\nFDP25     9\nFDW49     9\nFDQ40     9\n...DY43     1\nName: i_id, Length: 1559, dtype: int64, 6:        i_id  i_weight i_fat_content  i_visibilit...   623.1888  \n6984   814.9392  \n7798   335.5632  , 10: Low Fat    5083\nRegular    2881\nLF          312\n...low fat     111\nName: i_fat_content, dtype: int64, 12: i_id                       0\ni_weight           ...      0\ni_o_sales                  0\ndtype: int64, 17: 2    2786\n0    2410\n1    2373\n3     931\nName: o_size, dtype: int64, 19: 0, 20: 0, 22: FDW13    10\nFDP25     9\nFDW49     9\nFDQ40     9\n...DY43     1\nName: i_id, Length: 1559, dtype: int64, 25: i_id                     0\ni_weight             ...        0\ni_o_sales               23\ndtype: int64, ...}, 'RandomizedSearchCV': <class 'sklearn.model_selection._search.RandomizedSearchCV'>, 'StratifiedKFold': <class 'sklearn.model_selection._split.StratifiedKFold'>, '_': XGBRegressor(base_score=0.5, booster='gbtree', c...ht=1,\n       seed=None, silent=True, subsample=1), '_10': Low Fat    5083\nRegular    2881\nLF          312\n...low fat     111\nName: i_fat_content, dtype: int64, '_12': i_id                       0\ni_weight           ...      0\ni_o_sales                  0\ndtype: int64, '_17': 2    2786\n0    2410\n1    2373\n3     931\nName: o_size, dtype: int64, ...}\n   2964             finally:\n   2965                 # Reset our crash handler in place\n   2966                 sys.excepthook = old_excepthook\n   2967         except SystemExit as e:\n\n...........................................................................\n/home/sumedh/kaggle/MS/problem2/<ipython-input-72-3a9b3f04f686> in <module>()\n      7 skf = StratifiedKFold(n_splits=folds, shuffle = True, random_state = 1001)\n      8 \n      9 grid_search = GridSearchCV(model, n_jobs=4, cv=skf.split(train_x,train_y.astype(int)), verbose=3, param_grid=params )\n     10 \n     11 # Here we go # timing starts from this point for \"start_time\" variable\n---> 12 grid_search.fit(train_x, train_y.astype(int))\n\n...........................................................................\n/usr/local/lib/python3.5/dist-packages/sklearn/model_selection/_search.py in fit(self=GridSearchCV(cv=<generator object _BaseKFold.spl...ain_score='warn',\n       scoring=None, verbose=3), X=      i_weight  i_visibility     i_mrp  o_size  ...                     5  \n\n[8500 rows x 9 columns], y=0       3735\n1        443\n2       2097\n3        ...  549\nName: i_o_sales, Length: 8500, dtype: int64, groups=None, **fit_params={})\n    634                                   return_train_score=self.return_train_score,\n    635                                   return_n_test_samples=True,\n    636                                   return_times=True, return_parameters=False,\n    637                                   error_score=self.error_score)\n    638           for parameters, (train, test) in product(candidate_params,\n--> 639                                                    cv.split(X, y, groups)))\n        cv.split = <bound method _CVIterableWrapper.split of _CVIte... 8498]), array([ 149,  217, ..., 8497, 8499]))])>\n        X =       i_weight  i_visibility     i_mrp  o_size  ...                     5  \n\n[8500 rows x 9 columns]\n        y = 0       3735\n1        443\n2       2097\n3        ...  549\nName: i_o_sales, Length: 8500, dtype: int64\n        groups = None\n    640 \n    641         # if one choose to see train score, \"out\" will contain train score info\n    642         if self.return_train_score:\n    643             (train_score_dicts, test_score_dicts, test_sample_counts, fit_time,\n\n...........................................................................\n/usr/local/lib/python3.5/dist-packages/sklearn/externals/joblib/parallel.py in __call__(self=Parallel(n_jobs=4), iterable=<generator object BaseSearchCV.fit.<locals>.<genexpr>>)\n    784             if pre_dispatch == \"all\" or n_jobs == 1:\n    785                 # The iterable was consumed all at once by the above for loop.\n    786                 # No need to wait for async callbacks to trigger to\n    787                 # consumption.\n    788                 self._iterating = False\n--> 789             self.retrieve()\n        self.retrieve = <bound method Parallel.retrieve of Parallel(n_jobs=4)>\n    790             # Make sure that we get a last message telling us we are done\n    791             elapsed_time = time.time() - self._start_time\n    792             self._print('Done %3i out of %3i | elapsed: %s finished',\n    793                         (len(self._output), len(self._output),\n\n---------------------------------------------------------------------------\nSub-process traceback:\n---------------------------------------------------------------------------\nValueError                                         Fri Sep 28 16:36:38 2018\nPID: 10892                                   Python 3.5.2: /usr/bin/python3\n...........................................................................\n/usr/local/lib/python3.5/dist-packages/sklearn/externals/joblib/parallel.py in __call__(self=<sklearn.externals.joblib.parallel.BatchedCalls object>)\n    126     def __init__(self, iterator_slice):\n    127         self.items = list(iterator_slice)\n    128         self._size = len(self.items)\n    129 \n    130     def __call__(self):\n--> 131         return [func(*args, **kwargs) for func, args, kwargs in self.items]\n        self.items = [(<function _fit_and_score>, (XGBRegressor(base_score=0.5, booster='gbtree', c...ht=1,\n       seed=None, silent=True, subsample=1),       i_weight  i_visibility     i_mrp  o_size  ...                     5  \n\n[8500 rows x 9 columns], 0       3735\n1        443\n2       2097\n3        ...  549\nName: i_o_sales, Length: 8500, dtype: int64, {'score': <function _passthrough_scorer>}, array([   0,    1,    2, ..., 8496, 8497, 8499]), array([   3,   10,   14, ..., 8488, 8492, 8498]), 3, {'colsample_bytr   ee': 0.4, 'gamma': 0.5, 'max_depth': 3, 'min_child_weight': 1, 'subsample': 0.4}), {'error_score': 'raise', 'fit_params': {}, 'return_n_test_samples': True, 'return_parameters': False, 'return_times': True, 'return_train_score': 'warn'})]\n    132 \n    133     def __len__(self):\n    134         return self._size\n    135 \n\n...........................................................................\n/usr/local/lib/python3.5/dist-packages/sklearn/externals/joblib/parallel.py in <listcomp>(.0=<list_iterator object>)\n    126     def __init__(self, iterator_slice):\n    127         self.items = list(iterator_slice)\n    128         self._size = len(self.items)\n    129 \n    130     def __call__(self):\n--> 131         return [func(*args, **kwargs) for func, args, kwargs in self.items]\n        func = <function _fit_and_score>\n        args = (XGBRegressor(base_score=0.5, booster='gbtree', c...ht=1,\n       seed=None, silent=True, subsample=1),       i_weight  i_visibility     i_mrp  o_size  ...                     5  \n\n[8500 rows x 9 columns], 0       3735\n1        443\n2       2097\n3        ...  549\nName: i_o_sales, Length: 8500, dtype: int64, {'score': <function _passthrough_scorer>}, array([   0,    1,    2, ..., 8496, 8497, 8499]), array([   3,   10,   14, ..., 8488, 8492, 8498]), 3, {'colsample_bytr   ee': 0.4, 'gamma': 0.5, 'max_depth': 3, 'min_child_weight': 1, 'subsample': 0.4})\n        kwargs = {'error_score': 'raise', 'fit_params': {}, 'return_n_test_samples': True, 'return_parameters': False, 'return_times': True, 'return_train_score': 'warn'}\n    132 \n    133     def __len__(self):\n    134         return self._size\n    135 \n\n...........................................................................\n/usr/local/lib/python3.5/dist-packages/sklearn/model_selection/_validation.py in _fit_and_score(estimator=XGBRegressor(base_score=0.5, booster='gbtree', c...ht=1,\n       seed=None, silent=True, subsample=1), X=      i_weight  i_visibility     i_mrp  o_size  ...                     5  \n\n[8500 rows x 9 columns], y=0       3735\n1        443\n2       2097\n3        ...  549\nName: i_o_sales, Length: 8500, dtype: int64, scorer={'score': <function _passthrough_scorer>}, train=array([   0,    1,    2, ..., 8496, 8497, 8499]), test=array([   3,   10,   14, ..., 8488, 8492, 8498]), verbose=3, parameters={'colsample_bytr   ee': 0.4, 'gamma': 0.5, 'max_depth': 3, 'min_child_weight': 1, 'subsample': 0.4}, fit_params={}, return_train_score='warn', return_parameters=False, return_n_test_samples=True, return_times=True, error_score='raise')\n    439                       for k, v in fit_params.items()])\n    440 \n    441     test_scores = {}\n    442     train_scores = {}\n    443     if parameters is not None:\n--> 444         estimator.set_params(**parameters)\n        estimator.set_params = <bound method BaseEstimator.set_params of XGBReg...t=1,\n       seed=None, silent=True, subsample=1)>\n        parameters = {'colsample_bytr   ee': 0.4, 'gamma': 0.5, 'max_depth': 3, 'min_child_weight': 1, 'subsample': 0.4}\n    445 \n    446     start_time = time.time()\n    447 \n    448     X_train, y_train = _safe_split(estimator, X, y, train)\n\n...........................................................................\n/usr/local/lib/python3.5/dist-packages/sklearn/base.py in set_params(self=XGBRegressor(base_score=0.5, booster='gbtree', c...ht=1,\n       seed=None, silent=True, subsample=1), **params={'colsample_bytr   ee': 0.4, 'gamma': 0.5, 'max_depth': 3, 'min_child_weight': 1, 'subsample': 0.4})\n    269             key, delim, sub_key = key.partition('__')\n    270             if key not in valid_params:\n    271                 raise ValueError('Invalid parameter %s for estimator %s. '\n    272                                  'Check the list of available parameters '\n    273                                  'with `estimator.get_params().keys()`.' %\n--> 274                                  (key, self))\n        key = 'colsample_bytr   ee'\n        self = XGBRegressor(base_score=0.5, booster='gbtree', c...ht=1,\n       seed=None, silent=True, subsample=1)\n    275 \n    276             if delim:\n    277                 nested_params[key][sub_key] = value\n    278             else:\n\nValueError: Invalid parameter colsample_bytr   ee for estimator XGBRegressor(base_score=0.5, booster='gbtree', colsample_bylevel=1,\n       colsample_bytree=0.8, gamma=0.5, learning_rate=0.1,\n       max_delta_step=0, max_depth=3, min_child_weight=1, missing=0,\n       n_estimators=100, n_jobs=1, nthread=None, objective='reg:linear',\n       random_state=0, reg_alpha=0, reg_lambda=1, scale_pos_weight=1,\n       seed=None, silent=True, subsample=1). Check the list of available parameters with `estimator.get_params().keys()`.\n___________________________________________________________________________"
     ]
    }
   ],
   "source": [
    "from sklearn.model_selection import RandomizedSearchCV, GridSearchCV\n",
    "from sklearn.metrics import accuracy_score\n",
    "from sklearn.model_selection import StratifiedKFold\n",
    "folds = 5\n",
    "param_comb = 5\n",
    "\n",
    "skf = StratifiedKFold(n_splits=folds, shuffle = True, random_state = 1001)\n",
    "\n",
    "grid_search = GridSearchCV(model, n_jobs=4, cv=skf.split(train_x,train_y.astype(int)), verbose=3, param_grid=params )\n",
    "\n",
    "# Here we go # timing starts from this point for \"start_time\" variable\n",
    "grid_search.fit(train_x, train_y.astype(int))\n"
   ]
  },
  {
   "cell_type": "code",
   "execution_count": null,
   "metadata": {},
   "outputs": [],
   "source": [
    "grid_search.best_params_"
   ]
  },
  {
   "cell_type": "code",
   "execution_count": null,
   "metadata": {},
   "outputs": [],
   "source": [
    "x_train.columns"
   ]
  },
  {
   "cell_type": "code",
   "execution_count": null,
   "metadata": {},
   "outputs": [],
   "source": [
    "\n",
    "xgboost.plot_importance(model)"
   ]
  },
  {
   "cell_type": "code",
   "execution_count": null,
   "metadata": {},
   "outputs": [],
   "source": [
    "ans= model.predict(test.drop(columns=\"i_o_sales\"))"
   ]
  },
  {
   "cell_type": "code",
   "execution_count": null,
   "metadata": {},
   "outputs": [],
   "source": [
    "prediction = pd.DataFrame(data={'Id':range(1,24), \"Expected\": ans})"
   ]
  },
  {
   "cell_type": "code",
   "execution_count": null,
   "metadata": {},
   "outputs": [],
   "source": [
    "prediction.to_csv('./a.csv')"
   ]
  },
  {
   "cell_type": "code",
   "execution_count": null,
   "metadata": {},
   "outputs": [],
   "source": [
    "train_x.columns"
   ]
  },
  {
   "cell_type": "code",
   "execution_count": 73,
   "metadata": {},
   "outputs": [],
   "source": [
    "tr = fdf[:8500]\n",
    "te = fdf[8500:]\n",
    "tr = tr.drop(columns=['e_i_fat_content', 'e_o_loc_type'])\n",
    "tr[\"i_mrp_pow2\"] = tr['i_mrp'] ** 2\n",
    "te.drop(columns=\"i_o_sales\")\n",
    "tr_y = tr['i_o_sales'] \n",
    "tr['i_vis_weight'] = tr['i_weight'] * tr['i_visibility']\n",
    "tr_x = tr.drop(columns=\"i_o_sales\")\n",
    "x_tr, x_ev, y_tr, y_ev = train_test_split(tr_x, tr_y, test_size=0.1, random_state=42, shuffle=True)"
   ]
  },
  {
   "cell_type": "code",
   "execution_count": null,
   "metadata": {},
   "outputs": [],
   "source": [
    "tr.columns"
   ]
  },
  {
   "cell_type": "code",
   "execution_count": 74,
   "metadata": {},
   "outputs": [
    {
     "name": "stdout",
     "output_type": "stream",
     "text": [
      "[0]\tvalidation_0-rmse:2526.22\n",
      "[1]\tvalidation_0-rmse:2327.28\n",
      "[2]\tvalidation_0-rmse:2151.76\n",
      "[3]\tvalidation_0-rmse:2000.69\n",
      "[4]\tvalidation_0-rmse:1863.52\n",
      "[5]\tvalidation_0-rmse:1744.42\n",
      "[6]\tvalidation_0-rmse:1654.16\n",
      "[7]\tvalidation_0-rmse:1564.86\n",
      "[8]\tvalidation_0-rmse:1483.39\n",
      "[9]\tvalidation_0-rmse:1414.21\n",
      "[10]\tvalidation_0-rmse:1355.14\n",
      "[11]\tvalidation_0-rmse:1305.44\n",
      "[12]\tvalidation_0-rmse:1264.81\n",
      "[13]\tvalidation_0-rmse:1229\n",
      "[14]\tvalidation_0-rmse:1201.99\n",
      "[15]\tvalidation_0-rmse:1173.98\n",
      "[16]\tvalidation_0-rmse:1149.9\n",
      "[17]\tvalidation_0-rmse:1132.95\n",
      "[18]\tvalidation_0-rmse:1115.76\n",
      "[19]\tvalidation_0-rmse:1100.93\n",
      "[20]\tvalidation_0-rmse:1089.39\n",
      "[21]\tvalidation_0-rmse:1079.7\n",
      "[22]\tvalidation_0-rmse:1073.04\n",
      "[23]\tvalidation_0-rmse:1065\n",
      "[24]\tvalidation_0-rmse:1059.7\n",
      "[25]\tvalidation_0-rmse:1055.68\n",
      "[26]\tvalidation_0-rmse:1050.45\n",
      "[27]\tvalidation_0-rmse:1047.54\n",
      "[28]\tvalidation_0-rmse:1045.29\n",
      "[29]\tvalidation_0-rmse:1042.31\n",
      "[30]\tvalidation_0-rmse:1039.44\n",
      "[31]\tvalidation_0-rmse:1037.81\n",
      "[32]\tvalidation_0-rmse:1035.72\n",
      "[33]\tvalidation_0-rmse:1034.49\n",
      "[34]\tvalidation_0-rmse:1032.81\n",
      "[35]\tvalidation_0-rmse:1031.45\n",
      "[36]\tvalidation_0-rmse:1030.54\n",
      "[37]\tvalidation_0-rmse:1029.34\n",
      "[38]\tvalidation_0-rmse:1028.87\n",
      "[39]\tvalidation_0-rmse:1028.02\n",
      "[40]\tvalidation_0-rmse:1027.12\n",
      "[41]\tvalidation_0-rmse:1026.85\n",
      "[42]\tvalidation_0-rmse:1026.23\n",
      "[43]\tvalidation_0-rmse:1026.02\n",
      "[44]\tvalidation_0-rmse:1025.89\n",
      "[45]\tvalidation_0-rmse:1025.67\n",
      "[46]\tvalidation_0-rmse:1025.54\n",
      "[47]\tvalidation_0-rmse:1025.29\n",
      "[48]\tvalidation_0-rmse:1026.21\n",
      "[49]\tvalidation_0-rmse:1026.42\n",
      "[50]\tvalidation_0-rmse:1026.36\n",
      "[51]\tvalidation_0-rmse:1026.24\n",
      "[52]\tvalidation_0-rmse:1025.93\n",
      "[53]\tvalidation_0-rmse:1026.38\n",
      "[54]\tvalidation_0-rmse:1025.89\n",
      "[55]\tvalidation_0-rmse:1025.82\n",
      "[56]\tvalidation_0-rmse:1025.65\n",
      "[57]\tvalidation_0-rmse:1025.43\n",
      "[58]\tvalidation_0-rmse:1025.5\n",
      "[59]\tvalidation_0-rmse:1025.42\n",
      "[60]\tvalidation_0-rmse:1025.2\n",
      "[61]\tvalidation_0-rmse:1024.97\n",
      "[62]\tvalidation_0-rmse:1024.93\n",
      "[63]\tvalidation_0-rmse:1024.98\n",
      "[64]\tvalidation_0-rmse:1025.29\n",
      "[65]\tvalidation_0-rmse:1025.22\n",
      "[66]\tvalidation_0-rmse:1024.62\n",
      "[67]\tvalidation_0-rmse:1024.57\n",
      "[68]\tvalidation_0-rmse:1024.1\n",
      "[69]\tvalidation_0-rmse:1024.12\n",
      "[70]\tvalidation_0-rmse:1024.75\n",
      "[71]\tvalidation_0-rmse:1024.86\n",
      "[72]\tvalidation_0-rmse:1024.94\n",
      "[73]\tvalidation_0-rmse:1025.34\n",
      "[74]\tvalidation_0-rmse:1025.11\n",
      "[75]\tvalidation_0-rmse:1024.79\n",
      "[76]\tvalidation_0-rmse:1025.07\n",
      "[77]\tvalidation_0-rmse:1025.09\n",
      "[78]\tvalidation_0-rmse:1025.72\n",
      "[79]\tvalidation_0-rmse:1025.71\n",
      "[80]\tvalidation_0-rmse:1025.58\n",
      "[81]\tvalidation_0-rmse:1025.34\n",
      "[82]\tvalidation_0-rmse:1025.64\n",
      "[83]\tvalidation_0-rmse:1025.46\n",
      "[84]\tvalidation_0-rmse:1025.14\n",
      "[85]\tvalidation_0-rmse:1025.33\n",
      "[86]\tvalidation_0-rmse:1025.4\n",
      "[87]\tvalidation_0-rmse:1026.05\n",
      "[88]\tvalidation_0-rmse:1026.06\n",
      "[89]\tvalidation_0-rmse:1026.11\n",
      "[90]\tvalidation_0-rmse:1026.42\n",
      "[91]\tvalidation_0-rmse:1026.62\n",
      "[92]\tvalidation_0-rmse:1026.58\n",
      "[93]\tvalidation_0-rmse:1026.45\n",
      "[94]\tvalidation_0-rmse:1026.62\n",
      "[95]\tvalidation_0-rmse:1027.38\n",
      "[96]\tvalidation_0-rmse:1027.16\n",
      "[97]\tvalidation_0-rmse:1026.93\n",
      "[98]\tvalidation_0-rmse:1027.01\n",
      "[99]\tvalidation_0-rmse:1026.85\n"
     ]
    },
    {
     "data": {
      "text/plain": [
       "XGBRegressor(base_score=0.5, booster='gbtree', colsample_bylevel=1,\n",
       "       colsample_bytree=0.8, gamma=0.5, learning_rate=0.1,\n",
       "       max_delta_step=0, max_depth=3, min_child_weight=10, missing=0,\n",
       "       n_estimators=100, n_jobs=1, nthread=None, objective='reg:linear',\n",
       "       random_state=0, reg_alpha=0, reg_lambda=1, scale_pos_weight=1,\n",
       "       seed=None, silent=True, subsample=1)"
      ]
     },
     "execution_count": 74,
     "metadata": {},
     "output_type": "execute_result"
    }
   ],
   "source": [
    "    model.fit(x_tr, (y_tr), eval_set=[(x_ev, (y_ev))], verbose=True)"
   ]
  },
  {
   "cell_type": "code",
   "execution_count": null,
   "metadata": {},
   "outputs": [],
   "source": []
  },
  {
   "cell_type": "code",
   "execution_count": null,
   "metadata": {},
   "outputs": [],
   "source": [
    "p = model.predict(x_ev)\n",
    "mean_squared_error(p*x_ev['i_mrp'], y_ev * x_ev['i_mrp'])"
   ]
  },
  {
   "cell_type": "code",
   "execution_count": null,
   "metadata": {},
   "outputs": [],
   "source": [
    "np.sqrt(1057096.8251000412)"
   ]
  },
  {
   "cell_type": "code",
   "execution_count": null,
   "metadata": {},
   "outputs": [],
   "source": [
    "    model.fit(x_tr, (y_tr), eval_set=[(x_tr, (y_tr))], verbose=True)"
   ]
  },
  {
   "cell_type": "code",
   "execution_count": null,
   "metadata": {},
   "outputs": [],
   "source": []
  },
  {
   "cell_type": "code",
   "execution_count": null,
   "metadata": {},
   "outputs": [],
   "source": [
    "#te = te.drop(columns=['e_i_fat_content', 'e_o_loc_type'])\n",
    "te[\"i_mrp_pow2\"] = te['i_mrp'] * 2\n",
    "te['i_vis_weight'] = te['i_weight'] * te['i_visibility']"
   ]
  },
  {
   "cell_type": "code",
   "execution_count": null,
   "metadata": {},
   "outputs": [],
   "source": [
    "model.predict(te) "
   ]
  },
  {
   "cell_type": "code",
   "execution_count": null,
   "metadata": {},
   "outputs": [],
   "source": [
    "pd.DataFrame(data={'Id':range(1,24), \"Expected\": model.predict(te)}).to_csv('final.csv')"
   ]
  },
  {
   "cell_type": "code",
   "execution_count": 75,
   "metadata": {},
   "outputs": [
    {
     "data": {
      "text/plain": [
       "<matplotlib.axes._subplots.AxesSubplot at 0x7f4ea17c74a8>"
      ]
     },
     "execution_count": 75,
     "metadata": {},
     "output_type": "execute_result"
    },
    {
     "data": {
      "image/png": "[encoded data removed]",
      "text/plain": [
       "<matplotlib.figure.Figure at 0x7f4ea17de710>"
      ]
     },
     "metadata": {},
     "output_type": "display_data"
    }
   ],
   "source": [
    "xgboost.plot_importance(model)"
   ]
  },
  {
   "cell_type": "code",
   "execution_count": null,
   "metadata": {},
   "outputs": [],
   "source": [
    "sns.heatmap(x_tr.corr())"
   ]
  },
  {
   "cell_type": "code",
   "execution_count": null,
   "metadata": {},
   "outputs": [],
   "source": [
    "x_tr.e_o_type.value_counts()"
   ]
  },
  {
   "cell_type": "code",
   "execution_count": null,
   "metadata": {},
   "outputs": [],
   "source": [
    "x_tr.shape"
   ]
  },
  {
   "cell_type": "code",
   "execution_count": null,
   "metadata": {},
   "outputs": [],
   "source": [
    "x_tr.o_size.value_counts()"
   ]
  },
  {
   "cell_type": "code",
   "execution_count": null,
   "metadata": {},
   "outputs": [],
   "source": [
    "import numpy as np\n",
    "import cv2\n",
    "import math\n",
    "import copy\n",
    "import keras\n",
    "from keras.models import Sequential\n",
    "from keras.layers import Dense, Input, BatchNormalization\n",
    "from keras.callbacks import ModelCheckpoint\n",
    "from keras.optimizers import SGD, Adam\n",
    "from keras.regularizers import l2"
   ]
  },
  {
   "cell_type": "code",
   "execution_count": null,
   "metadata": {},
   "outputs": [],
   "source": [
    "model = Sequential()\n",
    "model.add(Dense(20, activation='relu', activity_regularizer=l2(0.01), input_shape=(26,)))\n",
    "model.add(Dense(20, activation='relu', activity_regularizer=l2(0.01)))\n",
    "model.add(Dense(1, activity_regularizer=l2(0.01)))"
   ]
  },
  {
   "cell_type": "code",
   "execution_count": null,
   "metadata": {},
   "outputs": [],
   "source": [
    "bef = pd.concat([pd.get_dummies(fdf['e_i_type'], prefix=\"e_i_type\"), pd.get_dummies(fdf['e_o_type'], prefix=\"e_o_type\")], axis=1)"
   ]
  },
  {
   "cell_type": "code",
   "execution_count": null,
   "metadata": {},
   "outputs": [],
   "source": [
    "bef"
   ]
  },
  {
   "cell_type": "code",
   "execution_count": null,
   "metadata": {},
   "outputs": [],
   "source": [
    "fdf"
   ]
  },
  {
   "cell_type": "code",
   "execution_count": null,
   "metadata": {},
   "outputs": [],
   "source": [
    "new = pd.concat([fdf, pd.DataFrame(bef)], axis=1)\n",
    "tr = new[:8500]\n",
    "te = new[8500:]\n",
    "tr = tr.drop(columns=['e_i_fat_content', 'e_o_loc_type', 'e_o_type', 'e_i_type'])\n",
    "tr[\"i_mrp_pow2\"] = tr['i_mrp'] * 2\n",
    "tr.get\n",
    "te.drop(columns=\"i_o_sales\")\n",
    "tr_y = tr['i_o_sales']\n",
    "tr_x = tr.drop(columns=\"i_o_sales\")\n",
    "x_tr, x_ev, y_tr, y_ev = train_test_split(tr_x, tr_y, test_size=0.1, random_state=42, shuffle=True)"
   ]
  },
  {
   "cell_type": "code",
   "execution_count": null,
   "metadata": {},
   "outputs": [],
   "source": [
    "x_tr.columns"
   ]
  },
  {
   "cell_type": "code",
   "execution_count": null,
   "metadata": {},
   "outputs": [],
   "source": [
    "x_tr.describe()"
   ]
  },
  {
   "cell_type": "raw",
   "metadata": {},
   "source": []
  },
  {
   "cell_type": "code",
   "execution_count": null,
   "metadata": {},
   "outputs": [],
   "source": [
    "    adam = Adam(lr=0.001, decay = 1e-6)\n",
    "    model.compile(optimizer=adam, loss='mean_squared_error')"
   ]
  },
  {
   "cell_type": "code",
   "execution_count": null,
   "metadata": {},
   "outputs": [],
   "source": [
    "model.summary()"
   ]
  },
  {
   "cell_type": "code",
   "execution_count": null,
   "metadata": {},
   "outputs": [],
   "source": [
    "    checkpoint = ModelCheckpoint(\"p2.h5\", verbose=1,\n",
    "            save_weights_only=False, mode='min')\n",
    "    callbacks_list = [checkpoint]\n",
    "    model.fit(x_tr.values, y_tr.values, batch_size=128, validation_data = (x_ev.values, y_ev.values),\n",
    "            callbacks=callbacks_list, shuffle=True, epochs=100, verbose=2)\n"
   ]
  },
  {
   "cell_type": "code",
   "execution_count": null,
   "metadata": {},
   "outputs": [],
   "source": [
    "predict = model.predict(x_tr.values)"
   ]
  },
  {
   "cell_type": "code",
   "execution_count": null,
   "metadata": {},
   "outputs": [],
   "source": [
    "from sklearn.metrics import mean_squared_error"
   ]
  },
  {
   "cell_type": "code",
   "execution_count": null,
   "metadata": {},
   "outputs": [],
   "source": [
    "mean_squared_error(predict, y_tr.values)"
   ]
  },
  {
   "cell_type": "code",
   "execution_count": null,
   "metadata": {},
   "outputs": [],
   "source": [
    "predict"
   ]
  },
  {
   "cell_type": "code",
   "execution_count": null,
   "metadata": {},
   "outputs": [],
   "source": [
    "y_tr.values"
   ]
  },
  {
   "cell_type": "raw",
   "metadata": {},
   "source": [
    "    checkpoint = ModelCheckpoint(\"/home/u7529/zssr/weights.{epoch:02d}.h5\", verbose=1,\n",
    "            save_weights_only=False, mode='min')\n",
    "    callbacks_list = [checkpoint]\n",
    "    model.fit(X.reshape(X.shape[0], X.shape[1], X.shape[2], 1), Y.reshape(X.shape[0], X.shape[1], X.shape[2], 1), batch_size=128,\n",
    "            callbacks=callbacks_list, shuffle=True, epochs=epochs, verbose=2)\n"
   ]
  },
  {
   "cell_type": "markdown",
   "metadata": {},
   "source": [
    "model.summary()"
   ]
  }
 ],
 "metadata": {
  "kernelspec": {
   "display_name": "Python 3",
   "language": "python",
   "name": "python3"
  },
  "language_info": {
   "codemirror_mode": {
    "name": "ipython",
    "version": 3
   },
   "file_extension": ".py",
   "mimetype": "text/x-python",
   "name": "python",
   "nbconvert_exporter": "python",
   "pygments_lexer": "ipython3",
   "version": "3.5.2"
  }
 },
 "nbformat": 4,
 "nbformat_minor": 2
}
